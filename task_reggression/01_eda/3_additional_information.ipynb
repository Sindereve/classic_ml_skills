{
 "cells": [
  {
   "cell_type": "markdown",
   "id": "d5da7924",
   "metadata": {},
   "source": [
    "# Дополнительная информация"
   ]
  },
  {
   "cell_type": "markdown",
   "id": "e6704540",
   "metadata": {},
   "source": [
    "## Метрики"
   ]
  },
  {
   "cell_type": "markdown",
   "id": "b548d3d8",
   "metadata": {},
   "source": [
    "Метрики - ключевой элемент машинного обучения, так как они позволяют оценить, насколько эффективна модель, и определить направление её улучшения"
   ]
  },
  {
   "cell_type": "markdown",
   "id": "8d0f2b37",
   "metadata": {},
   "source": [
    "Для оценки качества регрессионной модели, предсказывающей цены, необходимо выбрать метрики, учитывающие специфику задачи. В отличие от классификации, регрессия требует измерения величины ошибки и объясненной дисперсии."
   ]
  },
  {
   "cell_type": "markdown",
   "id": "00f3b595",
   "metadata": {},
   "source": [
    "|Метрика|Плюсы|Минусы|Cсылка на функцию|\n",
    "|-|-|-|-|\n",
    "|MAE|Устойчивость к выбросам, интерпретируемость|Игнорирует крупные ошибки|[mean_absolute_error](https://scikit-learn.org/stable/modules/generated/sklearn.metrics.mean_absolute_error.html#sklearn.metrics.mean_absolute_error)|\n",
    "|MSE|Акцент на крупные ошибки, дифференцируемость|Чувствительность к выбросам|[mean_squared_error](https://scikit-learn.org/stable/modules/generated/sklearn.metrics.mean_squared_error.html#sklearn.metrics.mean_squared_error)|\n",
    "|R^2|Сравнение моделей, безразмерность|Не показывает абсолютные ошибки|[r2_score](https://scikit-learn.org/stable/modules/generated/sklearn.metrics.r2_score.html#sklearn.metrics.r2_score)|\n",
    "|MAPE|Процентная интерпретация|Проблемы с нулями и асимметрия|[mean_absolute_percentage_error](https://scikit-learn.org/stable/modules/generated/sklearn.metrics.mean_absolute_percentage_error.html#sklearn.metrics.mean_absolute_percentage_error)|\n",
    "|MSLE|Учет относительных ошибок|Сложная интерпретация|[mean_squared_log_error](https://scikit-learn.org/stable/modules/generated/sklearn.metrics.mean_squared_log_error.html#sklearn.metrics.mean_squared_log_error)|"
   ]
  },
  {
   "cell_type": "markdown",
   "id": "4259bfc9",
   "metadata": {},
   "source": [
    "Все рассмотренные метрики мы будут рассчитываться автоматически с помощью класса историй моделей, который рассмотрим далее."
   ]
  },
  {
   "cell_type": "markdown",
   "id": "e8460901",
   "metadata": {},
   "source": [
    "## История тренировок"
   ]
  },
  {
   "cell_type": "markdown",
   "id": "b79ce132",
   "metadata": {},
   "source": [
    "Поскольку мы планируем тестировать различные модели, создадим класс для работы с историей тренировок моделей, их параметров, дополнительной информации, метрики.\n",
    "\n",
    "Добавлять данные мы можем с помощью \n",
    "\n",
    "Получать данные мы сможем двумя способами:\n",
    "- Метод ```to_dataframe``` - получаем информацию о всех наших моделях в формате ```pd.DataFrame```;\n",
    "- Индексирование ```history[index]```, где ```history``` - объект нашего класса. На выходе мы получим обученную модель под заданным индексом. Принцип работы аналогичен методу ```DataFrame.iloc[index]```."
   ]
  },
  {
   "cell_type": "markdown",
   "id": "ac036112",
   "metadata": {},
   "source": [
    "|Модель|Класс модели|Параметры модели|MAE|MSE|RMSE|R^2|MAPE|MSLE|RMSLE|Заметки|\n",
    "|-|-|-|-|-|-|-|-|-|-|-|\n",
    "|LinearRegression|linear_model|-|123|23|43|5|654|4|234|После предсказания все отрицательные значения стали 0-мя|\n",
    "|SGDRegressor|linear_model|-|123|23|43|5|654|4|234|-|"
   ]
  },
  {
   "cell_type": "markdown",
   "id": "bbc630b8",
   "metadata": {},
   "source": [
    "Таким образом, мы сможем удобно анализировать результаты работы разных моделей, а также сравнивать их параметры. Это позволит выбрать модель с оптимальными метриками."
   ]
  },
  {
   "cell_type": "markdown",
   "id": "1e555dd5",
   "metadata": {},
   "source": [
    "Класс истории моделей реализован в utils/history.py"
   ]
  }
 ],
 "metadata": {
  "language_info": {
   "name": "python"
  }
 },
 "nbformat": 4,
 "nbformat_minor": 5
}
