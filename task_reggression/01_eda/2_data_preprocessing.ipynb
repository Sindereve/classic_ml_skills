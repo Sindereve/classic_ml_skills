{
 "cells": [
  {
   "cell_type": "markdown",
   "id": "5a6e9da8",
   "metadata": {},
   "source": [
    "# Обработка данных"
   ]
  },
  {
   "cell_type": "markdown",
   "id": "2a7b9ad5",
   "metadata": {},
   "source": [
    "**Разделы:**\n",
    "- [Импортируем библиотеки и загрузим данные](#импортируем-библиотеки-и-загрузим-данные)\n",
    "- [Анализ и очистка данных](#анализ-и-очистка-данных)\n",
    "- [Feature Enginnering](#Feature-Enginnering)\n",
    "    - [Первичная-обработка](#первичная-обработка)\n",
    "    - [Кодирование категориальных признаков](#кодирование-категориальных-признаков)\n",
    "    - [Удаление ненужных столбцов](#удаление-ненужных-столбцов)\n",
    "- [Разделение и сохранение данных](#разделение-и-сохранение-данных)"
   ]
  },
  {
   "cell_type": "markdown",
   "id": "6a6b315a",
   "metadata": {},
   "source": [
    "## Импортируем библиотеки и загрузим данные"
   ]
  },
  {
   "cell_type": "code",
   "execution_count": 9,
   "id": "22d88aa9",
   "metadata": {},
   "outputs": [],
   "source": [
    "import pandas as pd\n",
    "import numpy as np\n",
    "import matplotlib.pyplot as plt\n",
    "import seaborn as sns\n",
    "import pickle\n",
    "import os\n",
    "import sys\n",
    "\n",
    "from sklearn.preprocessing import StandardScaler, MinMaxScaler, OneHotEncoder\n",
    "from sklearn.model_selection import train_test_split"
   ]
  },
  {
   "cell_type": "code",
   "execution_count": 10,
   "id": "df11f763",
   "metadata": {},
   "outputs": [],
   "source": [
    "# Загрузка данных из data/raw/\n",
    "data_path = os.path.join('..', 'data', 'raw', 'Clean_Dataset.csv')\n",
    "df = pd.read_csv(data_path)"
   ]
  },
  {
   "cell_type": "markdown",
   "id": "0994b5ba",
   "metadata": {},
   "source": [
    "## Анализ и очистка данных"
   ]
  },
  {
   "cell_type": "code",
   "execution_count": 11,
   "id": "e6166ba4",
   "metadata": {},
   "outputs": [
    {
     "name": "stdout",
     "output_type": "stream",
     "text": [
      "🔍 Проверка пропусков:\n",
      "Unnamed: 0          0\n",
      "airline             0\n",
      "flight              0\n",
      "source_city         0\n",
      "departure_time      0\n",
      "stops               0\n",
      "arrival_time        0\n",
      "destination_city    0\n",
      "class               0\n",
      "duration            0\n",
      "days_left           0\n",
      "price               0\n",
      "dtype: int64\n"
     ]
    }
   ],
   "source": [
    "print(\"🔍 Проверка пропусков:\")\n",
    "print(df.isnull().sum())"
   ]
  },
  {
   "cell_type": "markdown",
   "id": "f1f22fd9",
   "metadata": {},
   "source": [
    "Пропусков нет, очень хорошо"
   ]
  },
  {
   "cell_type": "code",
   "execution_count": 12,
   "id": "6b2cec04",
   "metadata": {},
   "outputs": [
    {
     "name": "stdout",
     "output_type": "stream",
     "text": [
      "\n",
      "📈 Статистика числовых признаков:\n",
      "            duration      days_left          price\n",
      "count  300153.000000  300153.000000  300153.000000\n",
      "mean       12.221021      26.004751   20889.660523\n",
      "std         7.191997      13.561004   22697.767366\n",
      "min         0.830000       1.000000    1105.000000\n",
      "25%         6.830000      15.000000    4783.000000\n",
      "50%        11.250000      26.000000    7425.000000\n",
      "75%        16.170000      38.000000   42521.000000\n",
      "max        49.830000      49.000000  123071.000000\n"
     ]
    }
   ],
   "source": [
    "print(\"\\n📈 Статистика числовых признаков:\")\n",
    "print(df[['duration', 'days_left', 'price']].describe())"
   ]
  },
  {
   "cell_type": "markdown",
   "id": "d8b58dc1",
   "metadata": {},
   "source": [
    "Давайте удалим перелёты <1 часа... Это странно..."
   ]
  },
  {
   "cell_type": "code",
   "execution_count": 13,
   "id": "42a3d346",
   "metadata": {},
   "outputs": [
    {
     "name": "stdout",
     "output_type": "stream",
     "text": [
      "Количество данных: 300153 (из них 130 это перелёты меньше 1 часа)\n",
      "Изменённое количество данных: 300023\n"
     ]
    }
   ],
   "source": [
    "print(f\"Количество данных: {df.shape[0]} (из них {df[df['duration'] < 1].shape[0]} это перелёты меньше 1 часа)\")\n",
    "df = df[df['duration'] >= 1]\n",
    "print(f\"Изменённое количество данных: {df.shape[0]}\")"
   ]
  },
  {
   "cell_type": "markdown",
   "id": "d81dd7b6",
   "metadata": {},
   "source": [
    "## Feature Enginnering"
   ]
  },
  {
   "cell_type": "markdown",
   "id": "9c37611b",
   "metadata": {},
   "source": [
    "Что мы будем делать:\n",
    "\n",
    "1. Первичная обработка\n",
    "   * `'stops encoding'`: {\"zero\":0, \"one\":1, \"two_or_more\":2}\n",
    "        * Сохранится естестыенный порядок и логичность изменения\n",
    "   * `'flight'` → `'flight_tag'` + `'flight_value'`\n",
    "        * Таким образом мы разделим комплексный признак и будем получать информацию о авиакомпании и номер рейса.\n",
    "   * `'route'` = `'source_city'` + \"_\" + `'destination_city'`\n",
    "        * Сможем учитывать специфику конкретных направлений(к примеру Делли - Мумбаи может быть не равно Мумбаи - Делли).\n",
    "        * Это позволит нам улавливать популярность маршрутов.\n",
    "   * `'time_interval'` = `'departure_time'` + \"_\" + `'arrival_time'`\n",
    "        * Комбинация времени позволит нам улавливать тонкости по времени перелёта.\n",
    "        * Учитывает *удобства* путешествия\n",
    "\n",
    "2. Кодирование категориальных признаков\n",
    "   * `OneHotEncoder`: [`'airline'`, `'class'`, `'flight_tag'`, `'route'`, `'time_interval'`]\n",
    "        * Кодировщик выбран с этими признаками так как у всех них нет определённой иерархии.\n",
    "\n",
    "3. Масштабирование числовых признаков\n",
    "   * `MinMaxScaler`: [`'duration'`, `'flight_value'`, `'days_left'`]\n",
    "        * приводим всё к диапазону [0,1]\n",
    "   * Логарифмирование цены: price_log = np.log1p(price)\n",
    "        * Нормализует распределение\n",
    "        * Уменьшит влияние выбросов\n",
    "        * ВАЖНО для *линейных моделей*\n"
   ]
  },
  {
   "cell_type": "code",
   "execution_count": 14,
   "id": "12b84709",
   "metadata": {},
   "outputs": [],
   "source": [
    "# создадим копию данных для преобразований\n",
    "df_processed = df.copy()"
   ]
  },
  {
   "cell_type": "markdown",
   "id": "aa3d7e72",
   "metadata": {},
   "source": [
    "### Первичная обработка"
   ]
  },
  {
   "cell_type": "markdown",
   "id": "8caa670d",
   "metadata": {},
   "source": [
    "Преобразовываем `'stops'` в `'stops_encoded'`"
   ]
  },
  {
   "cell_type": "code",
   "execution_count": 16,
   "id": "6b9acc79",
   "metadata": {},
   "outputs": [
    {
     "name": "stdout",
     "output_type": "stream",
     "text": [
      "Уникальные значения: [0 1 2]\n"
     ]
    }
   ],
   "source": [
    "stops_dict = {\"zero\": 0, \"one\": 1, \"two_or_more\": 2}\n",
    "df_processed['stops_encoded'] = df_processed['stops'].map(stops_dict)\n",
    "print(f\"Уникальные значения: {df_processed['stops_encoded'].unique()}\")"
   ]
  },
  {
   "cell_type": "markdown",
   "id": "1094128d",
   "metadata": {},
   "source": [
    "Разделяем flight"
   ]
  },
  {
   "cell_type": "code",
   "execution_count": 17,
   "id": "af9619d8",
   "metadata": {},
   "outputs": [
    {
     "name": "stdout",
     "output_type": "stream",
     "text": [
      "flight_tag: ['SG' 'I5' 'UK' 'G8' '6E' 'AI']\n",
      "flight_value диапазон: -9991 - -101\n"
     ]
    }
   ],
   "source": [
    "df_processed['flight_tag'] = df_processed['flight'].str[:2]\n",
    "df_processed['flight_value'] = df_processed['flight'].str[2:].astype(int)\n",
    "print(f\"flight_tag: {df_processed['flight_tag'].unique()}\")\n",
    "print(f\"flight_value диапазон: {df_processed['flight_value'].min()} - {df_processed['flight_value'].max()}\")"
   ]
  },
  {
   "cell_type": "markdown",
   "id": "18c926a7",
   "metadata": {},
   "source": [
    "Создаем route"
   ]
  },
  {
   "cell_type": "code",
   "execution_count": 19,
   "id": "dfa050d6",
   "metadata": {},
   "outputs": [
    {
     "name": "stdout",
     "output_type": "stream",
     "text": [
      "Уникальных маршрутов: 30\n"
     ]
    }
   ],
   "source": [
    "df_processed['route'] = df_processed['source_city'] + \"_\" + df_processed['destination_city']\n",
    "print(f\"Уникальных маршрутов: {df_processed['route'].nunique()}\")"
   ]
  },
  {
   "cell_type": "markdown",
   "id": "ad33d938",
   "metadata": {},
   "source": [
    "Создаем time_interval"
   ]
  },
  {
   "cell_type": "code",
   "execution_count": 20,
   "id": "2d4c7394",
   "metadata": {},
   "outputs": [
    {
     "name": "stdout",
     "output_type": "stream",
     "text": [
      "Уникальных интервалов: 36\n"
     ]
    }
   ],
   "source": [
    "df_processed['time_interval'] = df_processed['departure_time'] + \"_\" + df_processed['arrival_time']\n",
    "print(f\"Уникальных интервалов: {df_processed['time_interval'].nunique()}\")"
   ]
  },
  {
   "cell_type": "markdown",
   "id": "44a2d0ab",
   "metadata": {},
   "source": [
    "### Кодирование категориальных признаков"
   ]
  },
  {
   "cell_type": "markdown",
   "id": "4802f2c4",
   "metadata": {},
   "source": [
    "Используем `OneHotEncoder`"
   ]
  },
  {
   "cell_type": "code",
   "execution_count": 21,
   "id": "978c3f71",
   "metadata": {},
   "outputs": [
    {
     "name": "stdout",
     "output_type": "stream",
     "text": [
      "OneHot кодирование для: ['airline', 'class', 'flight_tag', 'route', 'time_interval']\n",
      "Добавлено 75 новых признаков\n",
      "Размер новых данных: (300023, 87)\n"
     ]
    }
   ],
   "source": [
    "onehot_columns = ['airline', 'class', 'flight_tag', 'route', 'time_interval']\n",
    "print(f\"OneHot кодирование для: {onehot_columns}\")\n",
    "\n",
    "onehot_encoder = OneHotEncoder(sparse_output=False, drop='first')\n",
    "onehot_encoded = onehot_encoder.fit_transform(df_processed[onehot_columns])\n",
    "\n",
    "# создаем DataFrame с one-hot признаками\n",
    "onehot_feature_names = onehot_encoder.get_feature_names_out(onehot_columns)\n",
    "df_onehot = pd.DataFrame(onehot_encoded, columns=onehot_feature_names, index=df_processed.index)\n",
    "\n",
    "# удаляем исходные колонки и добавляем one-hot\n",
    "df_processed = df_processed.drop(onehot_columns, axis=1)\n",
    "df_processed = pd.concat([df_processed, df_onehot], axis=1)\n",
    "\n",
    "print(f\"Добавлено {len(onehot_feature_names)} новых признаков\")\n",
    "print(f\"Размер новых данных: {df_processed.shape}\")"
   ]
  },
  {
   "cell_type": "markdown",
   "id": "fa1202ea",
   "metadata": {},
   "source": [
    "### Масштабирование числовых признаков"
   ]
  },
  {
   "cell_type": "code",
   "execution_count": 28,
   "id": "6b65d5dd",
   "metadata": {},
   "outputs": [
    {
     "name": "stdout",
     "output_type": "stream",
     "text": [
      "Масштабируем: ['duration', 'flight_value', 'days_left']\n",
      "\n",
      "Масштабирование завершено. Диапазоны:\n",
      "  duration            : 0.0 - 1.0\n",
      "  flight_value        : 0.0 - 1.0\n",
      "  days_left           : 0.0 - 1.0\n"
     ]
    }
   ],
   "source": [
    "numeric_columns = ['duration', 'flight_value', 'days_left']\n",
    "print(f\"Масштабируем: {numeric_columns}\")\n",
    "scaler = MinMaxScaler()\n",
    "df_processed[numeric_columns] = scaler.fit_transform(df_processed[numeric_columns])\n",
    "\n",
    "print(f\"\\nМасштабирование завершено. Диапазоны:\")\n",
    "for col in numeric_columns:\n",
    "    print(f\"  {col:20}: {df_processed[col].min():.1f} - {df_processed[col].max():.1f}\")"
   ]
  },
  {
   "cell_type": "markdown",
   "id": "607621dc",
   "metadata": {},
   "source": [
    "Добавим цену с логарифмированием"
   ]
  },
  {
   "cell_type": "code",
   "execution_count": 31,
   "id": "3531999e",
   "metadata": {},
   "outputs": [
    {
     "name": "stdout",
     "output_type": "stream",
     "text": [
      "price_log создан. Диапазон: 7.0 - 11.7\n"
     ]
    }
   ],
   "source": [
    "df_processed['price_log'] = np.log1p(df_processed['price'])\n",
    "print(f\"price_log создан. Диапазон: {df_processed['price_log'].min():.1f} - {df_processed['price_log'].max():.1f}\")"
   ]
  },
  {
   "cell_type": "markdown",
   "id": "0fc584eb",
   "metadata": {},
   "source": [
    "### Удаление ненужных столбцов"
   ]
  },
  {
   "cell_type": "markdown",
   "id": "ac65fbc2",
   "metadata": {},
   "source": [
    "Сначало посмотрим какие у нас есть столбцы на данный момент:"
   ]
  },
  {
   "cell_type": "code",
   "execution_count": 35,
   "id": "83dda93f",
   "metadata": {},
   "outputs": [
    {
     "name": "stdout",
     "output_type": "stream",
     "text": [
      "Unnamed: 0                 flight                     source_city              \n",
      "departure_time             stops                      arrival_time             \n",
      "destination_city           duration                   days_left                \n",
      "price                      stops_encoded              flight_value             \n",
      "airline_Air_India          airline_GO_FIRST           airline_Indigo           \n",
      "airline_SpiceJet           airline_Vistara            class_Economy            \n",
      "flight_tag_AI              flight_tag_G8              flight_tag_I5            \n",
      "flight_tag_SG              flight_tag_UK              route_Bangalore_Delhi    \n",
      "route_Bangalore_Hyderabad  route_Bangalore_Kolkata    route_Bangalore_Mumbai   \n",
      "route_Chennai_Bangalore    route_Chennai_Delhi        route_Chennai_Hyderabad  \n",
      "route_Chennai_Kolkata      route_Chennai_Mumbai       route_Delhi_Bangalore    \n",
      "route_Delhi_Chennai        route_Delhi_Hyderabad      route_Delhi_Kolkata      \n",
      "route_Delhi_Mumbai         route_Hyderabad_Bangalore  route_Hyderabad_Chennai  \n",
      "route_Hyderabad_Delhi      route_Hyderabad_Kolkata    route_Hyderabad_Mumbai   \n",
      "route_Kolkata_Bangalore    route_Kolkata_Chennai      route_Kolkata_Delhi      \n",
      "route_Kolkata_Hyderabad    route_Kolkata_Mumbai       route_Mumbai_Bangalore   \n",
      "route_Mumbai_Chennai       route_Mumbai_Delhi         route_Mumbai_Hyderabad   \n",
      "route_Mumbai_Kolkata       time_interval_Aftern...    time_interval_Aftern...  \n",
      "time_interval_Aftern...    time_interval_Aftern...    time_interval_Aftern...  \n",
      "time_interval_Early_...    time_interval_Early_...    time_interval_Early_...  \n",
      "time_interval_Early_...    time_interval_Early_...    time_interval_Early_...  \n",
      "time_interval_Evenin...    time_interval_Evenin...    time_interval_Evenin...  \n",
      "time_interval_Evenin...    time_interval_Evenin...    time_interval_Evenin...  \n",
      "time_interval_Late_N...    time_interval_Late_N...    time_interval_Late_N...  \n",
      "time_interval_Late_N...    time_interval_Late_N...    time_interval_Late_N...  \n",
      "time_interval_Mornin...    time_interval_Mornin...    time_interval_Mornin...  \n",
      "time_interval_Mornin...    time_interval_Mornin...    time_interval_Mornin...  \n",
      "time_interval_Night_...    time_interval_Night_...    time_interval_Night_...  \n",
      "time_interval_Night_...    time_interval_Night_...    time_interval_Night_Night\n",
      "price_log                \n"
     ]
    }
   ],
   "source": [
    "columns = df_processed.columns.tolist()\n",
    "\n",
    "for i in range(0, len(columns), 3):\n",
    "    # форматируем вывод для лучшей читаемости\n",
    "    row_columns = columns[i:i+3]\n",
    "    formatted_columns = []\n",
    "    \n",
    "    for col in row_columns:\n",
    "        # Обрезаем длинные названия для удобства чтения\n",
    "        if len(col) > 25:\n",
    "            col_display = col[:20] + \"...\"\n",
    "        else:\n",
    "            col_display = col\n",
    "        formatted_columns.append(f\"{col_display:<25}\")\n",
    "    \n",
    "    print(\"  \".join(formatted_columns))"
   ]
  },
  {
   "cell_type": "markdown",
   "id": "6f71d14b",
   "metadata": {},
   "source": [
    "Удалим исходные не нужные столбцы "
   ]
  },
  {
   "cell_type": "code",
   "execution_count": 37,
   "id": "743031b3",
   "metadata": {},
   "outputs": [
    {
     "name": "stdout",
     "output_type": "stream",
     "text": [
      "Кол. фич перед удалением: 88\n",
      "Кол. фич после удаленгия: 81\n"
     ]
    }
   ],
   "source": [
    "print(f\"Кол. фич перед удалением: {len(df_processed.columns)}\")\n",
    "\n",
    "columns_to_drop = [\n",
    "    'Unnamed: 0', 'flight', 'source_city', 'destination_city', \n",
    "    'departure_time', 'arrival_time', 'stops'\n",
    "]\n",
    "df_processed = df_processed.drop(columns_to_drop, axis=1)\n",
    "\n",
    "print(f\"Кол. фич после удаленгия: {len(df_processed.columns)}\")"
   ]
  },
  {
   "cell_type": "markdown",
   "id": "c8994f5f",
   "metadata": {},
   "source": [
    "## Разделение и сохранение данных"
   ]
  },
  {
   "cell_type": "code",
   "execution_count": 42,
   "id": "281720fd",
   "metadata": {},
   "outputs": [
    {
     "name": "stdout",
     "output_type": "stream",
     "text": [
      "Итог раздения:\n",
      "\n",
      "   X_train: (240018, 79)\n",
      "   X_test:  (60005, 79)\n",
      "\n",
      "   y_train: (240018,)\n",
      "   y_test:  (60005,)\n"
     ]
    }
   ],
   "source": [
    "X = df_processed.drop(['price', 'price_log'], axis=1)\n",
    "y = df_processed['price_log']\n",
    "\n",
    "X_train, X_test, y_train, y_test = train_test_split(\n",
    "    X, y, test_size=0.2, random_state=42, stratify=df['class']\n",
    ")\n",
    "\n",
    "print(f\"Итог раздения:\\n\")\n",
    "print(f\"   X_train: {X_train.shape}\")\n",
    "print(f\"   X_test:  {X_test.shape}\\n\")\n",
    "print(f\"   y_train: {y_train.shape}\")\n",
    "print(f\"   y_test:  {y_test.shape}\")"
   ]
  },
  {
   "cell_type": "code",
   "execution_count": 43,
   "id": "d261a3aa",
   "metadata": {},
   "outputs": [],
   "source": [
    "os.makedirs('../data/processed', exist_ok=True)\n",
    "\n",
    "X_train.to_csv('../data/processed/X_train.csv', index=False)\n",
    "X_test.to_csv('../data/processed/X_test.csv', index=False)\n",
    "y_train.to_csv('../data/processed/y_train.csv', index=False)\n",
    "y_test.to_csv('../data/processed/y_test.csv', index=False)"
   ]
  }
 ],
 "metadata": {
  "kernelspec": {
   "display_name": ".venv",
   "language": "python",
   "name": "python3"
  },
  "language_info": {
   "codemirror_mode": {
    "name": "ipython",
    "version": 3
   },
   "file_extension": ".py",
   "mimetype": "text/x-python",
   "name": "python",
   "nbconvert_exporter": "python",
   "pygments_lexer": "ipython3",
   "version": "3.12.10"
  }
 },
 "nbformat": 4,
 "nbformat_minor": 5
}
