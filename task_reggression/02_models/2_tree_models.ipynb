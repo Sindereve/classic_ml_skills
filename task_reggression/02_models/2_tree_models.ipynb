{
 "cells": [
  {
   "cell_type": "markdown",
   "id": "b0b15302",
   "metadata": {},
   "source": [
    "# Навигация и краткое описание"
   ]
  },
  {
   "cell_type": "markdown",
   "id": "c8213925",
   "metadata": {},
   "source": [
    "**Разделы:**\n",
    "- [Деревья](#деревья)\n",
    "    - [DecisionTreeRegressor](#decisiontreeregressor) \n",
    "    - [ExtraTreeRegressor](#extratreeregressor) \n",
    "- [Ансамбли](#ансамбли) \n",
    "    - [Бэггинг](#бэггингпаралельное-обучени)\n",
    "    - [Стекинг](#стекингкомбинирование-предсказаний)\n",
    "    - [Бустинг](#бустингпоследовательное-улучшение)"
   ]
  },
  {
   "cell_type": "markdown",
   "id": "91b1ed03",
   "metadata": {},
   "source": [
    "# Подготовка к работе с моделями"
   ]
  },
  {
   "cell_type": "code",
   "execution_count": 19,
   "id": "0a380d41",
   "metadata": {},
   "outputs": [],
   "source": [
    "import pandas as pd \n",
    "from matplotlib import pyplot as plt\n",
    "\n",
    "import sys\n",
    "sys.path.append('..')\n",
    "from utils import load_processed_data, ModelsRegressionHistory"
   ]
  },
  {
   "cell_type": "code",
   "execution_count": 20,
   "id": "c4d08daf",
   "metadata": {},
   "outputs": [],
   "source": [
    "# Заранее установим несколько констант\n",
    "RANDOM_STATE = 42\n",
    "\n",
    "# Загрузка данных\n",
    "X_train, X_test, y_train, y_test = load_processed_data()\n",
    "history_models = ModelsRegressionHistory()"
   ]
  },
  {
   "cell_type": "markdown",
   "id": "1166cf85",
   "metadata": {},
   "source": [
    "# Создание моделей"
   ]
  },
  {
   "cell_type": "markdown",
   "id": "8fbf425f",
   "metadata": {},
   "source": [
    "## Деревья"
   ]
  },
  {
   "cell_type": "markdown",
   "id": "ed9d5efb",
   "metadata": {},
   "source": [
    "Деревья решений - это методы для решения задач с использованием машинного обучения построенные на теории деревьев. Дерево в нашем случае это некий алгоритм с проверками, который проверит инетересующие его параметры и их значения. После всех проверок он выдаст нам свой *predict*"
   ]
  },
  {
   "cell_type": "markdown",
   "id": "98a0bde6",
   "metadata": {},
   "source": [
    "Особенности этих методов:\n",
    "* можно визуализировать правила, по которым работает обученная модель;\n",
    "* не требует масштабирования данных;\n",
    "* *склоны* к переобучению;\n",
    "\n",
    "Ниже представлено изображение с примером модели дерева с классификацией."
   ]
  },
  {
   "cell_type": "markdown",
   "id": "a80d56f6",
   "metadata": {},
   "source": [
    "![Пример дерева](../data/images/trees/example.png)"
   ]
  },
  {
   "cell_type": "code",
   "execution_count": 21,
   "id": "1540435a",
   "metadata": {},
   "outputs": [],
   "source": [
    "from sklearn import tree"
   ]
  },
  {
   "cell_type": "markdown",
   "id": "eea1af60",
   "metadata": {},
   "source": [
    "В библиотеке sklearn у нас есть 2 класса относящихся к древовидным методам. Проведём их сравнение на таблице ниже\n",
    "\n",
    "|Характеристика|DecisionTreeRegressor|ExtraTreeRegressor|\n",
    "|-|-|-|\n",
    "|Выбор разбиений|Жадный поиск оптимального|Случайный|\n",
    "|Скорость обучения|Медленее|Быстрее|\n",
    "|Переобучение|Сильнее|Меньше|\n",
    "|Структура|Одиночное дерево|Ансамбль|"
   ]
  },
  {
   "cell_type": "markdown",
   "id": "f108d17f",
   "metadata": {},
   "source": [
    "### ```DecisionTreeRegressor()```"
   ]
  },
  {
   "cell_type": "code",
   "execution_count": 22,
   "id": "483c7e7c",
   "metadata": {},
   "outputs": [],
   "source": [
    "TREE_decision = tree.DecisionTreeRegressor(random_state=RANDOM_STATE)\n",
    "TREE_decision.fit(X_train, y_train)\n",
    "y_pred = TREE_decision.predict(X_test)"
   ]
  },
  {
   "cell_type": "code",
   "execution_count": 23,
   "id": "5f55c578",
   "metadata": {},
   "outputs": [
    {
     "data": {
      "text/html": [
       "<div>\n",
       "<style scoped>\n",
       "    .dataframe tbody tr th:only-of-type {\n",
       "        vertical-align: middle;\n",
       "    }\n",
       "\n",
       "    .dataframe tbody tr th {\n",
       "        vertical-align: top;\n",
       "    }\n",
       "\n",
       "    .dataframe thead th {\n",
       "        text-align: right;\n",
       "    }\n",
       "</style>\n",
       "<table border=\"1\" class=\"dataframe\">\n",
       "  <thead>\n",
       "    <tr style=\"text-align: right;\">\n",
       "      <th></th>\n",
       "      <th>Модели</th>\n",
       "      <th>Класс модели</th>\n",
       "      <th>Параметры модели</th>\n",
       "      <th>Заметки</th>\n",
       "      <th>MAE</th>\n",
       "      <th>MSE</th>\n",
       "      <th>RMSE</th>\n",
       "      <th>R^2</th>\n",
       "      <th>MAPE</th>\n",
       "      <th>MSLE</th>\n",
       "      <th>RMSLE</th>\n",
       "    </tr>\n",
       "  </thead>\n",
       "  <tbody>\n",
       "    <tr>\n",
       "      <th>0</th>\n",
       "      <td>DecisionTreeRegressor</td>\n",
       "      <td>tree_model</td>\n",
       "      <td>{'ccp_alpha': 0.0, 'criterion': 'squared_error...</td>\n",
       "      <td>Дерево принятия решений</td>\n",
       "      <td>0.0573</td>\n",
       "      <td>0.0233</td>\n",
       "      <td>0.1525</td>\n",
       "      <td>0.9812</td>\n",
       "      <td>0.0063</td>\n",
       "      <td>0.0002</td>\n",
       "      <td>0.0153</td>\n",
       "    </tr>\n",
       "  </tbody>\n",
       "</table>\n",
       "</div>"
      ],
      "text/plain": [
       "                  Модели Класс модели  \\\n",
       "0  DecisionTreeRegressor   tree_model   \n",
       "\n",
       "                                    Параметры модели                  Заметки  \\\n",
       "0  {'ccp_alpha': 0.0, 'criterion': 'squared_error...  Дерево принятия решений   \n",
       "\n",
       "      MAE     MSE    RMSE     R^2    MAPE    MSLE   RMSLE  \n",
       "0  0.0573  0.0233  0.1525  0.9812  0.0063  0.0002  0.0153  "
      ]
     },
     "execution_count": 23,
     "metadata": {},
     "output_type": "execute_result"
    }
   ],
   "source": [
    "history_models.add_model(TREE_decision, \"tree_model\", TREE_decision.get_params(), \"Дерево принятия решений\", y_true=y_test, y_pred=y_pred)\n",
    "history_models.to_dataframe()"
   ]
  },
  {
   "cell_type": "markdown",
   "id": "11eab888",
   "metadata": {},
   "source": [
    "### ````ExtraTreeRegressor()````"
   ]
  },
  {
   "cell_type": "code",
   "execution_count": 24,
   "id": "f2b2bf89",
   "metadata": {},
   "outputs": [],
   "source": [
    "TREE_extra = tree.ExtraTreeRegressor(random_state=RANDOM_STATE)\n",
    "TREE_extra.fit(X_train, y_train)\n",
    "y_pred = TREE_extra.predict(X_test)"
   ]
  },
  {
   "cell_type": "code",
   "execution_count": 25,
   "id": "23bc8333",
   "metadata": {},
   "outputs": [
    {
     "data": {
      "text/html": [
       "<div>\n",
       "<style scoped>\n",
       "    .dataframe tbody tr th:only-of-type {\n",
       "        vertical-align: middle;\n",
       "    }\n",
       "\n",
       "    .dataframe tbody tr th {\n",
       "        vertical-align: top;\n",
       "    }\n",
       "\n",
       "    .dataframe thead th {\n",
       "        text-align: right;\n",
       "    }\n",
       "</style>\n",
       "<table border=\"1\" class=\"dataframe\">\n",
       "  <thead>\n",
       "    <tr style=\"text-align: right;\">\n",
       "      <th></th>\n",
       "      <th>Модели</th>\n",
       "      <th>Класс модели</th>\n",
       "      <th>Параметры модели</th>\n",
       "      <th>Заметки</th>\n",
       "      <th>MAE</th>\n",
       "      <th>MSE</th>\n",
       "      <th>RMSE</th>\n",
       "      <th>R^2</th>\n",
       "      <th>MAPE</th>\n",
       "      <th>MSLE</th>\n",
       "      <th>RMSLE</th>\n",
       "    </tr>\n",
       "  </thead>\n",
       "  <tbody>\n",
       "    <tr>\n",
       "      <th>0</th>\n",
       "      <td>DecisionTreeRegressor</td>\n",
       "      <td>tree_model</td>\n",
       "      <td>{'ccp_alpha': 0.0, 'criterion': 'squared_error...</td>\n",
       "      <td>Дерево принятия решений</td>\n",
       "      <td>0.0573</td>\n",
       "      <td>0.0233</td>\n",
       "      <td>0.1525</td>\n",
       "      <td>0.9812</td>\n",
       "      <td>0.0063</td>\n",
       "      <td>0.0002</td>\n",
       "      <td>0.0153</td>\n",
       "    </tr>\n",
       "    <tr>\n",
       "      <th>1</th>\n",
       "      <td>ExtraTreeRegressor</td>\n",
       "      <td>tree_model</td>\n",
       "      <td>{'ccp_alpha': 0.0, 'criterion': 'squared_error...</td>\n",
       "      <td>Рандомные деревья</td>\n",
       "      <td>0.0664</td>\n",
       "      <td>0.0287</td>\n",
       "      <td>0.1693</td>\n",
       "      <td>0.9768</td>\n",
       "      <td>0.0073</td>\n",
       "      <td>0.0003</td>\n",
       "      <td>0.0171</td>\n",
       "    </tr>\n",
       "  </tbody>\n",
       "</table>\n",
       "</div>"
      ],
      "text/plain": [
       "                  Модели Класс модели  \\\n",
       "0  DecisionTreeRegressor   tree_model   \n",
       "1     ExtraTreeRegressor   tree_model   \n",
       "\n",
       "                                    Параметры модели                  Заметки  \\\n",
       "0  {'ccp_alpha': 0.0, 'criterion': 'squared_error...  Дерево принятия решений   \n",
       "1  {'ccp_alpha': 0.0, 'criterion': 'squared_error...        Рандомные деревья   \n",
       "\n",
       "      MAE     MSE    RMSE     R^2    MAPE    MSLE   RMSLE  \n",
       "0  0.0573  0.0233  0.1525  0.9812  0.0063  0.0002  0.0153  \n",
       "1  0.0664  0.0287  0.1693  0.9768  0.0073  0.0003  0.0171  "
      ]
     },
     "execution_count": 25,
     "metadata": {},
     "output_type": "execute_result"
    }
   ],
   "source": [
    "history_models.add_model(TREE_extra, \"tree_model\", TREE_extra.get_params(), \"Рандомные деревья\", y_true=y_test, y_pred=y_pred)\n",
    "history_models.to_dataframe()"
   ]
  },
  {
   "cell_type": "markdown",
   "id": "3a2e9fb7",
   "metadata": {},
   "source": [
    "Ниже покажем, что мы можем визуализировать наше дерево с помощью метода ```plot_tree()```\n",
    "Для этого создадим модель с не большим количеством листьев, чтоб мы могли посмотреть их."
   ]
  },
  {
   "cell_type": "code",
   "execution_count": 26,
   "id": "a9c61be7",
   "metadata": {},
   "outputs": [
    {
     "data": {
      "image/png": "[encoded data removed]",
      "text/plain": [
       "<Figure size 640x480 with 1 Axes>"
      ]
     },
     "metadata": {},
     "output_type": "display_data"
    }
   ],
   "source": [
    "model = tree.ExtraTreeRegressor(max_depth=2,random_state=RANDOM_STATE)\n",
    "model.fit(X_train, y_train)\n",
    "tree.plot_tree(model, proportion=True, filled=True)\n",
    "plt.show()"
   ]
  },
  {
   "cell_type": "markdown",
   "id": "92d9ac36",
   "metadata": {},
   "source": [
    "## Ансамбли"
   ]
  },
  {
   "cell_type": "markdown",
   "id": "4dd5ad0a",
   "metadata": {},
   "source": [
    "Ансамбли - это мощный инструмент из арсенала ML специалиста и поэтому будет не простительным не уделить ему отдельное внимание."
   ]
  },
  {
   "cell_type": "code",
   "execution_count": 27,
   "id": "ea9b124d",
   "metadata": {},
   "outputs": [],
   "source": [
    "from sklearn import ensemble"
   ]
  },
  {
   "cell_type": "markdown",
   "id": "ee4664c7",
   "metadata": {},
   "source": [
    "Ансамбли разделяются на 3 вида. Далее мы разберём каждый вид."
   ]
  },
  {
   "cell_type": "markdown",
   "id": "a327c4bb",
   "metadata": {},
   "source": [
    "#### Бэггинг(паралельное обучени)"
   ]
  },
  {
   "cell_type": "markdown",
   "id": "bc98cac3",
   "metadata": {},
   "source": [
    "Идея бэггинга заключается в обучении множества моделей на разных подвыборках данных и усреднении их предсказаний. Пример такого алгоритма это *Random Forest* "
   ]
  },
  {
   "cell_type": "markdown",
   "id": "526e5ca2",
   "metadata": {},
   "source": [
    "Давайте сразу рассмотрим реализацию случайного леса на наших данных."
   ]
  },
  {
   "cell_type": "code",
   "execution_count": 28,
   "id": "95463778",
   "metadata": {},
   "outputs": [
    {
     "name": "stderr",
     "output_type": "stream",
     "text": [
      "c:\\Users\\sinde\\OneDrive\\Рабочий стол\\classic_ml_skills\\.venv\\Lib\\site-packages\\sklearn\\base.py:1365: DataConversionWarning: A column-vector y was passed when a 1d array was expected. Please change the shape of y to (n_samples,), for example using ravel().\n",
      "  return fit_method(estimator, *args, **kwargs)\n"
     ]
    }
   ],
   "source": [
    "EN_TREE_RandomForestRegressor = ensemble.RandomForestRegressor(random_state=RANDOM_STATE)\n",
    "EN_TREE_RandomForestRegressor.fit(X_train, y_train)\n",
    "y_pred = EN_TREE_RandomForestRegressor.predict(X_test)\n",
    "\n",
    "history_models.add_model(EN_TREE_RandomForestRegressor, \"ensemble_bagging\", EN_TREE_RandomForestRegressor.get_params(), \"Случайный лес\", y_true=y_test, y_pred=y_pred)"
   ]
  },
  {
   "cell_type": "markdown",
   "id": "6b274110",
   "metadata": {},
   "source": [
    "Так же мы можем использовать линейные модели. Давайте возьмём линейную модель и ```BaggingRegressor()```. Этот класс(```BaggingRegressor()```) позволит нам использвать бэггинг с любой базовой моделью(деревья, линейные модели)"
   ]
  },
  {
   "cell_type": "code",
   "execution_count": 29,
   "id": "6aa33039",
   "metadata": {},
   "outputs": [
    {
     "name": "stderr",
     "output_type": "stream",
     "text": [
      "c:\\Users\\sinde\\OneDrive\\Рабочий стол\\classic_ml_skills\\.venv\\Lib\\site-packages\\sklearn\\ensemble\\_bagging.py:583: DataConversionWarning: A column-vector y was passed when a 1d array was expected. Please change the shape of y to (n_samples, ), for example using ravel().\n",
      "  return column_or_1d(y, warn=True)\n"
     ]
    }
   ],
   "source": [
    "from sklearn import linear_model\n",
    "\n",
    "EN_PLR_standart = ensemble.BaggingRegressor(\n",
    "    estimator=linear_model.LinearRegression(),\n",
    "    n_estimators=10,\n",
    "    bootstrap=True\n",
    ")\n",
    "EN_PLR_standart.fit(X_train, y_train)\n",
    "y_pred = EN_PLR_standart.predict(X_test)\n",
    "\n",
    "history_models.add_model(EN_PLR_standart, \"ensemble_bagging\", EN_PLR_standart.get_params(), \"Бэггинг + линейная регрессия\", y_true=y_test, y_pred=y_pred)"
   ]
  },
  {
   "cell_type": "markdown",
   "id": "80909610",
   "metadata": {},
   "source": [
    "Мы можем брать любую модель для бэггинга, выше представлен пример."
   ]
  },
  {
   "cell_type": "code",
   "execution_count": 30,
   "id": "4512833b",
   "metadata": {},
   "outputs": [
    {
     "data": {
      "text/html": [
       "<div>\n",
       "<style scoped>\n",
       "    .dataframe tbody tr th:only-of-type {\n",
       "        vertical-align: middle;\n",
       "    }\n",
       "\n",
       "    .dataframe tbody tr th {\n",
       "        vertical-align: top;\n",
       "    }\n",
       "\n",
       "    .dataframe thead th {\n",
       "        text-align: right;\n",
       "    }\n",
       "</style>\n",
       "<table border=\"1\" class=\"dataframe\">\n",
       "  <thead>\n",
       "    <tr style=\"text-align: right;\">\n",
       "      <th></th>\n",
       "      <th>Модели</th>\n",
       "      <th>Класс модели</th>\n",
       "      <th>Параметры модели</th>\n",
       "      <th>Заметки</th>\n",
       "      <th>MAE</th>\n",
       "      <th>MSE</th>\n",
       "      <th>RMSE</th>\n",
       "      <th>R^2</th>\n",
       "      <th>MAPE</th>\n",
       "      <th>MSLE</th>\n",
       "      <th>RMSLE</th>\n",
       "    </tr>\n",
       "  </thead>\n",
       "  <tbody>\n",
       "    <tr>\n",
       "      <th>0</th>\n",
       "      <td>DecisionTreeRegressor</td>\n",
       "      <td>tree_model</td>\n",
       "      <td>{'ccp_alpha': 0.0, 'criterion': 'squared_error...</td>\n",
       "      <td>Дерево принятия решений</td>\n",
       "      <td>0.0573</td>\n",
       "      <td>0.0233</td>\n",
       "      <td>0.1525</td>\n",
       "      <td>0.9812</td>\n",
       "      <td>0.0063</td>\n",
       "      <td>0.0002</td>\n",
       "      <td>0.0153</td>\n",
       "    </tr>\n",
       "    <tr>\n",
       "      <th>1</th>\n",
       "      <td>ExtraTreeRegressor</td>\n",
       "      <td>tree_model</td>\n",
       "      <td>{'ccp_alpha': 0.0, 'criterion': 'squared_error...</td>\n",
       "      <td>Рандомные деревья</td>\n",
       "      <td>0.0664</td>\n",
       "      <td>0.0287</td>\n",
       "      <td>0.1693</td>\n",
       "      <td>0.9768</td>\n",
       "      <td>0.0073</td>\n",
       "      <td>0.0003</td>\n",
       "      <td>0.0171</td>\n",
       "    </tr>\n",
       "    <tr>\n",
       "      <th>2</th>\n",
       "      <td>RandomForestRegressor</td>\n",
       "      <td>ensemble_bagging</td>\n",
       "      <td>{'bootstrap': True, 'ccp_alpha': 0.0, 'criteri...</td>\n",
       "      <td>Случайный лес</td>\n",
       "      <td>0.0548</td>\n",
       "      <td>0.0146</td>\n",
       "      <td>0.1209</td>\n",
       "      <td>0.9882</td>\n",
       "      <td>0.0060</td>\n",
       "      <td>0.0001</td>\n",
       "      <td>0.0122</td>\n",
       "    </tr>\n",
       "    <tr>\n",
       "      <th>3</th>\n",
       "      <td>BaggingRegressor</td>\n",
       "      <td>ensemble_bagging</td>\n",
       "      <td>{'bootstrap': True, 'bootstrap_features': Fals...</td>\n",
       "      <td>Бэггинг + линейная регрессия</td>\n",
       "      <td>0.2531</td>\n",
       "      <td>0.1038</td>\n",
       "      <td>0.3222</td>\n",
       "      <td>0.9160</td>\n",
       "      <td>0.0278</td>\n",
       "      <td>0.0010</td>\n",
       "      <td>0.0323</td>\n",
       "    </tr>\n",
       "  </tbody>\n",
       "</table>\n",
       "</div>"
      ],
      "text/plain": [
       "                  Модели      Класс модели  \\\n",
       "0  DecisionTreeRegressor        tree_model   \n",
       "1     ExtraTreeRegressor        tree_model   \n",
       "2  RandomForestRegressor  ensemble_bagging   \n",
       "3       BaggingRegressor  ensemble_bagging   \n",
       "\n",
       "                                    Параметры модели  \\\n",
       "0  {'ccp_alpha': 0.0, 'criterion': 'squared_error...   \n",
       "1  {'ccp_alpha': 0.0, 'criterion': 'squared_error...   \n",
       "2  {'bootstrap': True, 'ccp_alpha': 0.0, 'criteri...   \n",
       "3  {'bootstrap': True, 'bootstrap_features': Fals...   \n",
       "\n",
       "                        Заметки     MAE     MSE    RMSE     R^2    MAPE  \\\n",
       "0       Дерево принятия решений  0.0573  0.0233  0.1525  0.9812  0.0063   \n",
       "1             Рандомные деревья  0.0664  0.0287  0.1693  0.9768  0.0073   \n",
       "2                 Случайный лес  0.0548  0.0146  0.1209  0.9882  0.0060   \n",
       "3  Бэггинг + линейная регрессия  0.2531  0.1038  0.3222  0.9160  0.0278   \n",
       "\n",
       "     MSLE   RMSLE  \n",
       "0  0.0002  0.0153  \n",
       "1  0.0003  0.0171  \n",
       "2  0.0001  0.0122  \n",
       "3  0.0010  0.0323  "
      ]
     },
     "execution_count": 30,
     "metadata": {},
     "output_type": "execute_result"
    }
   ],
   "source": [
    "history_models.to_dataframe()"
   ]
  },
  {
   "cell_type": "markdown",
   "id": "655b630a",
   "metadata": {},
   "source": [
    "#### Стекинг(комбинирование предсказаний)"
   ]
  },
  {
   "cell_type": "markdown",
   "id": "3770cede",
   "metadata": {},
   "source": [
    "Стекинг позволяет нам комбинировать несколько моделей с помощью единой мета-модели.\n",
    "\n",
    "\n",
    "---\n",
    "```\n",
    "модель_1 -> результат_1 - - \\\n",
    "\n",
    "модель_2 -> результат_2 - - -> мета_модель -> итоговое_предсказание\n",
    "\n",
    "модель_3 -> результат_3 - - /\n",
    "```\n",
    "---\n"
   ]
  },
  {
   "cell_type": "markdown",
   "id": "0cb8c248",
   "metadata": {},
   "source": [
    "Мы обучаем модели предсказывать результат и на основе предсказаний обучаем мета-модель предсказывать итоговый результат"
   ]
  },
  {
   "cell_type": "markdown",
   "id": "00fd1ee1",
   "metadata": {},
   "source": [
    "Давайте соберём пример такого ансамбля"
   ]
  },
  {
   "cell_type": "code",
   "execution_count": 31,
   "id": "8cfcf0a9",
   "metadata": {},
   "outputs": [
    {
     "name": "stderr",
     "output_type": "stream",
     "text": [
      "c:\\Users\\sinde\\OneDrive\\Рабочий стол\\classic_ml_skills\\.venv\\Lib\\site-packages\\sklearn\\ensemble\\_stacking.py:1041: DataConversionWarning: A column-vector y was passed when a 1d array was expected. Please change the shape of y to (n_samples, ), for example using ravel().\n",
      "  y = column_or_1d(y, warn=True)\n"
     ]
    }
   ],
   "source": [
    "from sklearn.linear_model import LinearRegression\n",
    "from sklearn.tree import DecisionTreeRegressor\n",
    "from sklearn.ensemble import StackingRegressor, RandomForestRegressor\n",
    "\n",
    "base_estimators = [\n",
    "    ('rf', RandomForestRegressor(n_estimators=10, max_features=0.5, random_state=RANDOM_STATE)),\n",
    "    ('dt', DecisionTreeRegressor(max_depth=5, random_state=RANDOM_STATE)),\n",
    "]\n",
    "\n",
    "# мета моделью выберем линейную регрессию \n",
    "meta_model = LinearRegression()\n",
    "\n",
    "# создадим стэкинг\n",
    "stacking_reg = StackingRegressor(\n",
    "    estimators=base_estimators,\n",
    "    final_estimator=meta_model,\n",
    "    cv=3,  # поставим 3 фолда для кросс валидации\n",
    ")\n",
    "\n",
    "stacking_reg.fit(X_train, y_train)\n",
    "y_pred = stacking_reg.predict(X_test)"
   ]
  },
  {
   "cell_type": "code",
   "execution_count": 32,
   "id": "3c682f86",
   "metadata": {},
   "outputs": [],
   "source": [
    "history_models.add_model(stacking_reg, \"ensemble_stacking\", stacking_reg.get_params(), \"стэкинг\", y_true=y_test, y_pred=y_pred)"
   ]
  },
  {
   "cell_type": "code",
   "execution_count": 33,
   "id": "795d4e21",
   "metadata": {},
   "outputs": [
    {
     "data": {
      "text/html": [
       "<div>\n",
       "<style scoped>\n",
       "    .dataframe tbody tr th:only-of-type {\n",
       "        vertical-align: middle;\n",
       "    }\n",
       "\n",
       "    .dataframe tbody tr th {\n",
       "        vertical-align: top;\n",
       "    }\n",
       "\n",
       "    .dataframe thead th {\n",
       "        text-align: right;\n",
       "    }\n",
       "</style>\n",
       "<table border=\"1\" class=\"dataframe\">\n",
       "  <thead>\n",
       "    <tr style=\"text-align: right;\">\n",
       "      <th></th>\n",
       "      <th>Модели</th>\n",
       "      <th>Класс модели</th>\n",
       "      <th>Параметры модели</th>\n",
       "      <th>Заметки</th>\n",
       "      <th>MAE</th>\n",
       "      <th>MSE</th>\n",
       "      <th>RMSE</th>\n",
       "      <th>R^2</th>\n",
       "      <th>MAPE</th>\n",
       "      <th>MSLE</th>\n",
       "      <th>RMSLE</th>\n",
       "    </tr>\n",
       "  </thead>\n",
       "  <tbody>\n",
       "    <tr>\n",
       "      <th>0</th>\n",
       "      <td>DecisionTreeRegressor</td>\n",
       "      <td>tree_model</td>\n",
       "      <td>{'ccp_alpha': 0.0, 'criterion': 'squared_error...</td>\n",
       "      <td>Дерево принятия решений</td>\n",
       "      <td>0.0573</td>\n",
       "      <td>0.0233</td>\n",
       "      <td>0.1525</td>\n",
       "      <td>0.9812</td>\n",
       "      <td>0.0063</td>\n",
       "      <td>0.0002</td>\n",
       "      <td>0.0153</td>\n",
       "    </tr>\n",
       "    <tr>\n",
       "      <th>1</th>\n",
       "      <td>ExtraTreeRegressor</td>\n",
       "      <td>tree_model</td>\n",
       "      <td>{'ccp_alpha': 0.0, 'criterion': 'squared_error...</td>\n",
       "      <td>Рандомные деревья</td>\n",
       "      <td>0.0664</td>\n",
       "      <td>0.0287</td>\n",
       "      <td>0.1693</td>\n",
       "      <td>0.9768</td>\n",
       "      <td>0.0073</td>\n",
       "      <td>0.0003</td>\n",
       "      <td>0.0171</td>\n",
       "    </tr>\n",
       "    <tr>\n",
       "      <th>2</th>\n",
       "      <td>RandomForestRegressor</td>\n",
       "      <td>ensemble_bagging</td>\n",
       "      <td>{'bootstrap': True, 'ccp_alpha': 0.0, 'criteri...</td>\n",
       "      <td>Случайный лес</td>\n",
       "      <td>0.0548</td>\n",
       "      <td>0.0146</td>\n",
       "      <td>0.1209</td>\n",
       "      <td>0.9882</td>\n",
       "      <td>0.0060</td>\n",
       "      <td>0.0001</td>\n",
       "      <td>0.0122</td>\n",
       "    </tr>\n",
       "    <tr>\n",
       "      <th>3</th>\n",
       "      <td>BaggingRegressor</td>\n",
       "      <td>ensemble_bagging</td>\n",
       "      <td>{'bootstrap': True, 'bootstrap_features': Fals...</td>\n",
       "      <td>Бэггинг + линейная регрессия</td>\n",
       "      <td>0.2531</td>\n",
       "      <td>0.1038</td>\n",
       "      <td>0.3222</td>\n",
       "      <td>0.9160</td>\n",
       "      <td>0.0278</td>\n",
       "      <td>0.0010</td>\n",
       "      <td>0.0323</td>\n",
       "    </tr>\n",
       "    <tr>\n",
       "      <th>4</th>\n",
       "      <td>StackingRegressor</td>\n",
       "      <td>ensemble_stacking</td>\n",
       "      <td>{'cv': 3, 'estimators': [('rf', RandomForestRe...</td>\n",
       "      <td>стэкинг</td>\n",
       "      <td>0.0610</td>\n",
       "      <td>0.0166</td>\n",
       "      <td>0.1287</td>\n",
       "      <td>0.9866</td>\n",
       "      <td>0.0067</td>\n",
       "      <td>0.0002</td>\n",
       "      <td>0.0130</td>\n",
       "    </tr>\n",
       "  </tbody>\n",
       "</table>\n",
       "</div>"
      ],
      "text/plain": [
       "                  Модели       Класс модели  \\\n",
       "0  DecisionTreeRegressor         tree_model   \n",
       "1     ExtraTreeRegressor         tree_model   \n",
       "2  RandomForestRegressor   ensemble_bagging   \n",
       "3       BaggingRegressor   ensemble_bagging   \n",
       "4      StackingRegressor  ensemble_stacking   \n",
       "\n",
       "                                    Параметры модели  \\\n",
       "0  {'ccp_alpha': 0.0, 'criterion': 'squared_error...   \n",
       "1  {'ccp_alpha': 0.0, 'criterion': 'squared_error...   \n",
       "2  {'bootstrap': True, 'ccp_alpha': 0.0, 'criteri...   \n",
       "3  {'bootstrap': True, 'bootstrap_features': Fals...   \n",
       "4  {'cv': 3, 'estimators': [('rf', RandomForestRe...   \n",
       "\n",
       "                        Заметки     MAE     MSE    RMSE     R^2    MAPE  \\\n",
       "0       Дерево принятия решений  0.0573  0.0233  0.1525  0.9812  0.0063   \n",
       "1             Рандомные деревья  0.0664  0.0287  0.1693  0.9768  0.0073   \n",
       "2                 Случайный лес  0.0548  0.0146  0.1209  0.9882  0.0060   \n",
       "3  Бэггинг + линейная регрессия  0.2531  0.1038  0.3222  0.9160  0.0278   \n",
       "4                       стэкинг  0.0610  0.0166  0.1287  0.9866  0.0067   \n",
       "\n",
       "     MSLE   RMSLE  \n",
       "0  0.0002  0.0153  \n",
       "1  0.0003  0.0171  \n",
       "2  0.0001  0.0122  \n",
       "3  0.0010  0.0323  \n",
       "4  0.0002  0.0130  "
      ]
     },
     "execution_count": 33,
     "metadata": {},
     "output_type": "execute_result"
    }
   ],
   "source": [
    "history_models.to_dataframe()"
   ]
  },
  {
   "cell_type": "markdown",
   "id": "d0ae028d",
   "metadata": {},
   "source": [
    "#### Бустинг(последовательное улучшение)"
   ]
  },
  {
   "cell_type": "markdown",
   "id": "75276bfe",
   "metadata": {},
   "source": [
    "Бустинг - последовательно обучает модели, где каждая следующая модель исправляет ошибки предыдущих, фокусируясь на плохо предсказанных примерах. Итоговое предсказание формируется путем взвешенного объединения всех моделей."
   ]
  },
  {
   "cell_type": "markdown",
   "id": "9c0c9f9e",
   "metadata": {},
   "source": [
    "Схема работы бустинга\n",
    "\n",
    "---\n",
    "\n",
    "```\n",
    "Данные -> Модель_1 -> Ошибки_1 ->\n",
    "\n",
    "Модель_2 -> Ошибки_2 -> \n",
    "\n",
    "... \n",
    "\n",
    "-> Модель_N -> Итоговое_предсказание\n",
    "```\n",
    "---"
   ]
  },
  {
   "cell_type": "markdown",
   "id": "a73e2634",
   "metadata": {},
   "source": [
    "Из преимуществ этого метода по сравнению с бэггингом и одиночными моделями хочется сразу же отметить высокую точность, так же хорошо работает с несбалансированными данными. А вот минусы - это чувствительность к шуму в данных и требует больше времени на обучение\n"
   ]
  },
  {
   "cell_type": "code",
   "execution_count": 34,
   "id": "b41a236c",
   "metadata": {},
   "outputs": [
    {
     "name": "stderr",
     "output_type": "stream",
     "text": [
      "c:\\Users\\sinde\\OneDrive\\Рабочий стол\\classic_ml_skills\\.venv\\Lib\\site-packages\\sklearn\\ensemble\\_gb.py:672: DataConversionWarning: A column-vector y was passed when a 1d array was expected. Please change the shape of y to (n_samples, ), for example using ravel().\n",
      "  y = column_or_1d(y, warn=True)  # TODO: Is this still required?\n"
     ]
    }
   ],
   "source": [
    "from sklearn.ensemble import GradientBoostingRegressor\n",
    "\n",
    "gbr = GradientBoostingRegressor(\n",
    "    n_estimators=1000,\n",
    "    learning_rate=0.1,\n",
    "    max_depth=3, \n",
    "    subsample=0.5, \n",
    "    random_state=RANDOM_STATE\n",
    ")\n",
    "\n",
    "gbr.fit(X_train, y_train)\n",
    "y_pred = gbr.predict(X_test)"
   ]
  },
  {
   "cell_type": "code",
   "execution_count": 35,
   "id": "ee2ffc52",
   "metadata": {},
   "outputs": [],
   "source": [
    "history_models.add_model(gbr, \"ensemble_gradient\", gbr.get_params(), \"градиентный бустинг\", y_true=y_test, y_pred=y_pred)"
   ]
  },
  {
   "cell_type": "markdown",
   "id": "52f56a45",
   "metadata": {},
   "source": [
    "## Итог"
   ]
  },
  {
   "cell_type": "code",
   "execution_count": 36,
   "id": "a0805631",
   "metadata": {},
   "outputs": [
    {
     "data": {
      "text/html": [
       "<div>\n",
       "<style scoped>\n",
       "    .dataframe tbody tr th:only-of-type {\n",
       "        vertical-align: middle;\n",
       "    }\n",
       "\n",
       "    .dataframe tbody tr th {\n",
       "        vertical-align: top;\n",
       "    }\n",
       "\n",
       "    .dataframe thead th {\n",
       "        text-align: right;\n",
       "    }\n",
       "</style>\n",
       "<table border=\"1\" class=\"dataframe\">\n",
       "  <thead>\n",
       "    <tr style=\"text-align: right;\">\n",
       "      <th></th>\n",
       "      <th>Модели</th>\n",
       "      <th>Класс модели</th>\n",
       "      <th>Параметры модели</th>\n",
       "      <th>Заметки</th>\n",
       "      <th>MAE</th>\n",
       "      <th>MSE</th>\n",
       "      <th>RMSE</th>\n",
       "      <th>R^2</th>\n",
       "      <th>MAPE</th>\n",
       "      <th>MSLE</th>\n",
       "      <th>RMSLE</th>\n",
       "    </tr>\n",
       "  </thead>\n",
       "  <tbody>\n",
       "    <tr>\n",
       "      <th>0</th>\n",
       "      <td>DecisionTreeRegressor</td>\n",
       "      <td>tree_model</td>\n",
       "      <td>{'ccp_alpha': 0.0, 'criterion': 'squared_error...</td>\n",
       "      <td>Дерево принятия решений</td>\n",
       "      <td>0.0573</td>\n",
       "      <td>0.0233</td>\n",
       "      <td>0.1525</td>\n",
       "      <td>0.9812</td>\n",
       "      <td>0.0063</td>\n",
       "      <td>0.0002</td>\n",
       "      <td>0.0153</td>\n",
       "    </tr>\n",
       "    <tr>\n",
       "      <th>1</th>\n",
       "      <td>ExtraTreeRegressor</td>\n",
       "      <td>tree_model</td>\n",
       "      <td>{'ccp_alpha': 0.0, 'criterion': 'squared_error...</td>\n",
       "      <td>Рандомные деревья</td>\n",
       "      <td>0.0664</td>\n",
       "      <td>0.0287</td>\n",
       "      <td>0.1693</td>\n",
       "      <td>0.9768</td>\n",
       "      <td>0.0073</td>\n",
       "      <td>0.0003</td>\n",
       "      <td>0.0171</td>\n",
       "    </tr>\n",
       "    <tr>\n",
       "      <th>2</th>\n",
       "      <td>RandomForestRegressor</td>\n",
       "      <td>ensemble_bagging</td>\n",
       "      <td>{'bootstrap': True, 'ccp_alpha': 0.0, 'criteri...</td>\n",
       "      <td>Случайный лес</td>\n",
       "      <td>0.0548</td>\n",
       "      <td>0.0146</td>\n",
       "      <td>0.1209</td>\n",
       "      <td>0.9882</td>\n",
       "      <td>0.0060</td>\n",
       "      <td>0.0001</td>\n",
       "      <td>0.0122</td>\n",
       "    </tr>\n",
       "    <tr>\n",
       "      <th>3</th>\n",
       "      <td>BaggingRegressor</td>\n",
       "      <td>ensemble_bagging</td>\n",
       "      <td>{'bootstrap': True, 'bootstrap_features': Fals...</td>\n",
       "      <td>Бэггинг + линейная регрессия</td>\n",
       "      <td>0.2531</td>\n",
       "      <td>0.1038</td>\n",
       "      <td>0.3222</td>\n",
       "      <td>0.9160</td>\n",
       "      <td>0.0278</td>\n",
       "      <td>0.0010</td>\n",
       "      <td>0.0323</td>\n",
       "    </tr>\n",
       "    <tr>\n",
       "      <th>4</th>\n",
       "      <td>StackingRegressor</td>\n",
       "      <td>ensemble_stacking</td>\n",
       "      <td>{'cv': 3, 'estimators': [('rf', RandomForestRe...</td>\n",
       "      <td>стэкинг</td>\n",
       "      <td>0.0610</td>\n",
       "      <td>0.0166</td>\n",
       "      <td>0.1287</td>\n",
       "      <td>0.9866</td>\n",
       "      <td>0.0067</td>\n",
       "      <td>0.0002</td>\n",
       "      <td>0.0130</td>\n",
       "    </tr>\n",
       "    <tr>\n",
       "      <th>5</th>\n",
       "      <td>GradientBoostingRegressor</td>\n",
       "      <td>ensemble_gradient</td>\n",
       "      <td>{'alpha': 0.9, 'ccp_alpha': 0.0, 'criterion': ...</td>\n",
       "      <td>градиентный бустинг</td>\n",
       "      <td>0.1385</td>\n",
       "      <td>0.0378</td>\n",
       "      <td>0.1943</td>\n",
       "      <td>0.9694</td>\n",
       "      <td>0.0153</td>\n",
       "      <td>0.0004</td>\n",
       "      <td>0.0196</td>\n",
       "    </tr>\n",
       "  </tbody>\n",
       "</table>\n",
       "</div>"
      ],
      "text/plain": [
       "                      Модели       Класс модели  \\\n",
       "0      DecisionTreeRegressor         tree_model   \n",
       "1         ExtraTreeRegressor         tree_model   \n",
       "2      RandomForestRegressor   ensemble_bagging   \n",
       "3           BaggingRegressor   ensemble_bagging   \n",
       "4          StackingRegressor  ensemble_stacking   \n",
       "5  GradientBoostingRegressor  ensemble_gradient   \n",
       "\n",
       "                                    Параметры модели  \\\n",
       "0  {'ccp_alpha': 0.0, 'criterion': 'squared_error...   \n",
       "1  {'ccp_alpha': 0.0, 'criterion': 'squared_error...   \n",
       "2  {'bootstrap': True, 'ccp_alpha': 0.0, 'criteri...   \n",
       "3  {'bootstrap': True, 'bootstrap_features': Fals...   \n",
       "4  {'cv': 3, 'estimators': [('rf', RandomForestRe...   \n",
       "5  {'alpha': 0.9, 'ccp_alpha': 0.0, 'criterion': ...   \n",
       "\n",
       "                        Заметки     MAE     MSE    RMSE     R^2    MAPE  \\\n",
       "0       Дерево принятия решений  0.0573  0.0233  0.1525  0.9812  0.0063   \n",
       "1             Рандомные деревья  0.0664  0.0287  0.1693  0.9768  0.0073   \n",
       "2                 Случайный лес  0.0548  0.0146  0.1209  0.9882  0.0060   \n",
       "3  Бэггинг + линейная регрессия  0.2531  0.1038  0.3222  0.9160  0.0278   \n",
       "4                       стэкинг  0.0610  0.0166  0.1287  0.9866  0.0067   \n",
       "5           градиентный бустинг  0.1385  0.0378  0.1943  0.9694  0.0153   \n",
       "\n",
       "     MSLE   RMSLE  \n",
       "0  0.0002  0.0153  \n",
       "1  0.0003  0.0171  \n",
       "2  0.0001  0.0122  \n",
       "3  0.0010  0.0323  \n",
       "4  0.0002  0.0130  \n",
       "5  0.0004  0.0196  "
      ]
     },
     "execution_count": 36,
     "metadata": {},
     "output_type": "execute_result"
    }
   ],
   "source": [
    "history_models.to_dataframe()"
   ]
  },
  {
   "cell_type": "markdown",
   "id": "d4293517",
   "metadata": {},
   "source": [
    "Подведём итог работы с деревьями и ансамблевыми методами:\n",
    "* Бэггинг с линейной регрессией показал наихудший результат (R² = 0.9160), что опять же указываен на не линейность данных;\n",
    "* Все древовидные модели значительно превзошли линейные подходы;\n",
    "\n",
    "Деревья мы разобрали, линейные модели тоже разобрали, что мы будем делать далее?\n",
    "Мы перейдём к методам оптимизации гиперпараметров."
   ]
  },
  {
   "cell_type": "code",
   "execution_count": 37,
   "id": "6ef069e3",
   "metadata": {},
   "outputs": [],
   "source": [
    "history_models.to_new_csv(\"tree_models.csv\")"
   ]
  }
 ],
 "metadata": {
  "kernelspec": {
   "display_name": ".venv",
   "language": "python",
   "name": "python3"
  },
  "language_info": {
   "codemirror_mode": {
    "name": "ipython",
    "version": 3
   },
   "file_extension": ".py",
   "mimetype": "text/x-python",
   "name": "python",
   "nbconvert_exporter": "python",
   "pygments_lexer": "ipython3",
   "version": "3.12.10"
  }
 },
 "nbformat": 4,
 "nbformat_minor": 5
}
