{
 "cells": [
  {
   "cell_type": "markdown",
   "id": "0a9f319d",
   "metadata": {},
   "source": [
    "# Навигация и краткое описание"
   ]
  },
  {
   "cell_type": "markdown",
   "id": "c6c41a3a",
   "metadata": {},
   "source": [
    "**Разделы:**\n",
    "- XGBoost\n",
    "- LightGBM\n",
    "- CatBoost"
   ]
  },
  {
   "cell_type": "markdown",
   "id": "1a7bc19e",
   "metadata": {},
   "source": [
    "# Создание моделей"
   ]
  },
  {
   "cell_type": "markdown",
   "id": "af949a30",
   "metadata": {},
   "source": [
    "## XGBoost"
   ]
  },
  {
   "cell_type": "markdown",
   "id": "7f059170",
   "metadata": {},
   "source": []
  },
  {
   "cell_type": "markdown",
   "id": "b7460e8a",
   "metadata": {},
   "source": [
    "## LightGBM"
   ]
  },
  {
   "cell_type": "markdown",
   "id": "9fc97212",
   "metadata": {},
   "source": []
  },
  {
   "cell_type": "markdown",
   "id": "b5e3f30d",
   "metadata": {},
   "source": [
    "## CatBoost"
   ]
  },
  {
   "cell_type": "markdown",
   "id": "5a237710",
   "metadata": {},
   "source": []
  },
  {
   "cell_type": "markdown",
   "id": "6c183c00",
   "metadata": {},
   "source": []
  }
 ],
 "metadata": {
  "language_info": {
   "name": "python"
  }
 },
 "nbformat": 4,
 "nbformat_minor": 5
}
