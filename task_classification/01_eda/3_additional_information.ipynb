{
 "cells": [
  {
   "cell_type": "markdown",
   "id": "d5da7924",
   "metadata": {},
   "source": [
    "# Дополнительная информация"
   ]
  },
  {
   "cell_type": "markdown",
   "id": "e6704540",
   "metadata": {},
   "source": [
    "## Метрики"
   ]
  },
  {
   "cell_type": "markdown",
   "id": "b548d3d8",
   "metadata": {},
   "source": [
    "Метрики - ключевой элемент машинного обучения, так как они позволяют оценить, насколько эффективна модель, и определить направление её улучшения"
   ]
  },
  {
   "cell_type": "markdown",
   "id": "00f3b595",
   "metadata": {},
   "source": [
    "|Метрика|Плюсы|Минусы|Cсылка на функцию|\n",
    "|-|-|-|-|\n",
    "|Accuracy|Простота интерпретации, общая оценка качества|Не информативна при несбалансированных классах|[accuracy_score](https://scikit-learn.org/stable/modules/generated/sklearn.metrics.accuracy_score.html)|\n",
    "|Precision|Показывает точность положительных прогнозов, важна когда False Positive дорого|Игнорирует False Negative|[precision_score](https://scikit-learn.org/stable/modules/generated/sklearn.metrics.precision_score.html)|\n",
    "|Recall|Показывает полноту обнаружения положительных классов, важна когда False Negative дорого|Игнорирует False Positive|[recall_score](https://scikit-learn.org/stable/modules/generated/sklearn.metrics.recall_score.html)|\n",
    "|F1-Score|Баланс между Precision и Recall, хороша для несбалансированных данных|Не учитывает True Negative|[f1_score](https://scikit-learn.org/stable/modules/generated/sklearn.metrics.f1_score.html)|\n",
    "|ROC-AUC|Оценка качества разделения классов, инвариантна к порогу|Может быть оптимистичной при несбалансированных данных|[roc_auc_score](https://scikit-learn.org/stable/modules/generated/sklearn.metrics.roc_auc_score.html)|\n",
    "|Log Loss|Учитывает уверенность прогнозов, строгая метрика|Чувствительна к калибровке вероятностей|[log_loss](https://scikit-learn.org/stable/modules/generated/sklearn.metrics.log_loss.html)"
   ]
  },
  {
   "cell_type": "markdown",
   "id": "e8460901",
   "metadata": {},
   "source": [
    "## История тренировок"
   ]
  },
  {
   "cell_type": "markdown",
   "id": "b79ce132",
   "metadata": {},
   "source": [
    "Поскольку мы планируем тестировать различные модели, создадим класс для работы с историей тренировок моделей, их параметров, дополнительной информации, метрики.\n",
    "\n",
    "Добавлять данные мы можем с помощью \n",
    "\n",
    "Получать данные мы сможем двумя способами:\n",
    "- Метод ```to_dataframe``` - получаем информацию о всех наших моделях в формате ```pd.DataFrame```;\n",
    "- Индексирование ```history[index]```, где ```history``` - объект нашего класса. На выходе мы получим обученную модель под заданным индексом. Принцип работы аналогичен методу ```DataFrame.iloc[index]```."
   ]
  },
  {
   "cell_type": "markdown",
   "id": "ac036112",
   "metadata": {},
   "source": [
    "|Модель|Класс модели|Параметры модели|Accuracy|...|Log Loss|Заметки|\n",
    "|-|-|-|-|-|-|-|\n",
    "|LogisticRegression|linear_model|-|0.4|...|0.4|заметка_1|\n",
    "|LinearSVC|linear_model|-|0.6|...|0.4|-|"
   ]
  },
  {
   "cell_type": "markdown",
   "id": "bbc630b8",
   "metadata": {},
   "source": [
    "Таким образом, мы сможем удобно анализировать результаты работы разных моделей, а также сравнивать их параметры. Это позволит выбрать модель с оптимальными метриками."
   ]
  },
  {
   "cell_type": "markdown",
   "id": "1e555dd5",
   "metadata": {},
   "source": [
    "Класс истории моделей реализован в utils/history.py"
   ]
  }
 ],
 "metadata": {
  "language_info": {
   "name": "python"
  }
 },
 "nbformat": 4,
 "nbformat_minor": 5
}
