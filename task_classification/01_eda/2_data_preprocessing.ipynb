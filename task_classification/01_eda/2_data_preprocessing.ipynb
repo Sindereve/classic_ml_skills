{
 "cells": [
  {
   "cell_type": "markdown",
   "id": "5a6e9da8",
   "metadata": {},
   "source": [
    "# Обработка данных"
   ]
  },
  {
   "cell_type": "markdown",
   "id": "2a7b9ad5",
   "metadata": {},
   "source": [
    "**Разделы:**\n",
    "- [Импортируем библиотеки и загрузим данные](#импортируем-библиотеки-и-загрузим-данные)\n",
    "- [Анализ и очистка данных](#анализ-и-очистка-данных)\n",
    "- [Feature Enginnering](#Feature-Enginnering)\n",
    "    - [Первичная-обработка](#первичная-обработка)\n",
    "    - [Кодирование категориальных признаков](#кодирование-категориальных-признаков)\n",
    "    - [Удаление ненужных столбцов](#удаление-ненужных-столбцов)\n",
    "- [Разделение и сохранение данных](#разделение-и-сохранение-данных)"
   ]
  },
  {
   "cell_type": "markdown",
   "id": "6a6b315a",
   "metadata": {},
   "source": [
    "## Импортируем библиотеки и загрузим данные"
   ]
  },
  {
   "cell_type": "code",
   "execution_count": 1,
   "id": "22d88aa9",
   "metadata": {},
   "outputs": [],
   "source": [
    "import pandas as pd\n",
    "import numpy as np\n",
    "import os\n",
    "import sys\n",
    "\n",
    "from sklearn.preprocessing import StandardScaler, RobustScaler, OneHotEncoder, OrdinalEncoder\n",
    "from sklearn.model_selection import train_test_split"
   ]
  },
  {
   "cell_type": "code",
   "execution_count": 2,
   "id": "df11f763",
   "metadata": {},
   "outputs": [
    {
     "data": {
      "text/html": [
       "<div>\n",
       "<style scoped>\n",
       "    .dataframe tbody tr th:only-of-type {\n",
       "        vertical-align: middle;\n",
       "    }\n",
       "\n",
       "    .dataframe tbody tr th {\n",
       "        vertical-align: top;\n",
       "    }\n",
       "\n",
       "    .dataframe thead th {\n",
       "        text-align: right;\n",
       "    }\n",
       "</style>\n",
       "<table border=\"1\" class=\"dataframe\">\n",
       "  <thead>\n",
       "    <tr style=\"text-align: right;\">\n",
       "      <th></th>\n",
       "      <th>age</th>\n",
       "      <th>gender</th>\n",
       "      <th>ethnicity</th>\n",
       "      <th>education_level</th>\n",
       "      <th>income_level</th>\n",
       "      <th>employment_status</th>\n",
       "      <th>smoking_status</th>\n",
       "      <th>alcohol_consumption_per_week</th>\n",
       "      <th>physical_activity_minutes_per_week</th>\n",
       "      <th>diet_score</th>\n",
       "      <th>...</th>\n",
       "      <th>hdl_cholesterol</th>\n",
       "      <th>ldl_cholesterol</th>\n",
       "      <th>triglycerides</th>\n",
       "      <th>glucose_fasting</th>\n",
       "      <th>glucose_postprandial</th>\n",
       "      <th>insulin_level</th>\n",
       "      <th>hba1c</th>\n",
       "      <th>diabetes_risk_score</th>\n",
       "      <th>diabetes_stage</th>\n",
       "      <th>diagnosed_diabetes</th>\n",
       "    </tr>\n",
       "  </thead>\n",
       "  <tbody>\n",
       "    <tr>\n",
       "      <th>0</th>\n",
       "      <td>58</td>\n",
       "      <td>Male</td>\n",
       "      <td>Asian</td>\n",
       "      <td>Highschool</td>\n",
       "      <td>Lower-Middle</td>\n",
       "      <td>Employed</td>\n",
       "      <td>Never</td>\n",
       "      <td>0</td>\n",
       "      <td>215</td>\n",
       "      <td>5.7</td>\n",
       "      <td>...</td>\n",
       "      <td>41</td>\n",
       "      <td>160</td>\n",
       "      <td>145</td>\n",
       "      <td>136</td>\n",
       "      <td>236</td>\n",
       "      <td>6.36</td>\n",
       "      <td>8.18</td>\n",
       "      <td>29.6</td>\n",
       "      <td>Type 2</td>\n",
       "      <td>1</td>\n",
       "    </tr>\n",
       "    <tr>\n",
       "      <th>1</th>\n",
       "      <td>48</td>\n",
       "      <td>Female</td>\n",
       "      <td>White</td>\n",
       "      <td>Highschool</td>\n",
       "      <td>Middle</td>\n",
       "      <td>Employed</td>\n",
       "      <td>Former</td>\n",
       "      <td>1</td>\n",
       "      <td>143</td>\n",
       "      <td>6.7</td>\n",
       "      <td>...</td>\n",
       "      <td>55</td>\n",
       "      <td>50</td>\n",
       "      <td>30</td>\n",
       "      <td>93</td>\n",
       "      <td>150</td>\n",
       "      <td>2.00</td>\n",
       "      <td>5.63</td>\n",
       "      <td>23.0</td>\n",
       "      <td>No Diabetes</td>\n",
       "      <td>0</td>\n",
       "    </tr>\n",
       "    <tr>\n",
       "      <th>2</th>\n",
       "      <td>60</td>\n",
       "      <td>Male</td>\n",
       "      <td>Hispanic</td>\n",
       "      <td>Highschool</td>\n",
       "      <td>Middle</td>\n",
       "      <td>Unemployed</td>\n",
       "      <td>Never</td>\n",
       "      <td>1</td>\n",
       "      <td>57</td>\n",
       "      <td>6.4</td>\n",
       "      <td>...</td>\n",
       "      <td>66</td>\n",
       "      <td>99</td>\n",
       "      <td>36</td>\n",
       "      <td>118</td>\n",
       "      <td>195</td>\n",
       "      <td>5.07</td>\n",
       "      <td>7.51</td>\n",
       "      <td>44.7</td>\n",
       "      <td>Type 2</td>\n",
       "      <td>1</td>\n",
       "    </tr>\n",
       "    <tr>\n",
       "      <th>3</th>\n",
       "      <td>74</td>\n",
       "      <td>Female</td>\n",
       "      <td>Black</td>\n",
       "      <td>Highschool</td>\n",
       "      <td>Low</td>\n",
       "      <td>Retired</td>\n",
       "      <td>Never</td>\n",
       "      <td>0</td>\n",
       "      <td>49</td>\n",
       "      <td>3.4</td>\n",
       "      <td>...</td>\n",
       "      <td>50</td>\n",
       "      <td>79</td>\n",
       "      <td>140</td>\n",
       "      <td>139</td>\n",
       "      <td>253</td>\n",
       "      <td>5.28</td>\n",
       "      <td>9.03</td>\n",
       "      <td>38.2</td>\n",
       "      <td>Type 2</td>\n",
       "      <td>1</td>\n",
       "    </tr>\n",
       "    <tr>\n",
       "      <th>4</th>\n",
       "      <td>46</td>\n",
       "      <td>Male</td>\n",
       "      <td>White</td>\n",
       "      <td>Graduate</td>\n",
       "      <td>Middle</td>\n",
       "      <td>Retired</td>\n",
       "      <td>Never</td>\n",
       "      <td>1</td>\n",
       "      <td>109</td>\n",
       "      <td>7.2</td>\n",
       "      <td>...</td>\n",
       "      <td>52</td>\n",
       "      <td>125</td>\n",
       "      <td>160</td>\n",
       "      <td>137</td>\n",
       "      <td>184</td>\n",
       "      <td>12.74</td>\n",
       "      <td>7.20</td>\n",
       "      <td>23.5</td>\n",
       "      <td>Type 2</td>\n",
       "      <td>1</td>\n",
       "    </tr>\n",
       "    <tr>\n",
       "      <th>...</th>\n",
       "      <td>...</td>\n",
       "      <td>...</td>\n",
       "      <td>...</td>\n",
       "      <td>...</td>\n",
       "      <td>...</td>\n",
       "      <td>...</td>\n",
       "      <td>...</td>\n",
       "      <td>...</td>\n",
       "      <td>...</td>\n",
       "      <td>...</td>\n",
       "      <td>...</td>\n",
       "      <td>...</td>\n",
       "      <td>...</td>\n",
       "      <td>...</td>\n",
       "      <td>...</td>\n",
       "      <td>...</td>\n",
       "      <td>...</td>\n",
       "      <td>...</td>\n",
       "      <td>...</td>\n",
       "      <td>...</td>\n",
       "      <td>...</td>\n",
       "    </tr>\n",
       "    <tr>\n",
       "      <th>99995</th>\n",
       "      <td>46</td>\n",
       "      <td>Male</td>\n",
       "      <td>Other</td>\n",
       "      <td>Graduate</td>\n",
       "      <td>Upper-Middle</td>\n",
       "      <td>Unemployed</td>\n",
       "      <td>Former</td>\n",
       "      <td>1</td>\n",
       "      <td>136</td>\n",
       "      <td>8.3</td>\n",
       "      <td>...</td>\n",
       "      <td>45</td>\n",
       "      <td>150</td>\n",
       "      <td>116</td>\n",
       "      <td>113</td>\n",
       "      <td>109</td>\n",
       "      <td>14.58</td>\n",
       "      <td>5.55</td>\n",
       "      <td>26.0</td>\n",
       "      <td>Pre-Diabetes</td>\n",
       "      <td>0</td>\n",
       "    </tr>\n",
       "    <tr>\n",
       "      <th>99996</th>\n",
       "      <td>41</td>\n",
       "      <td>Female</td>\n",
       "      <td>White</td>\n",
       "      <td>Graduate</td>\n",
       "      <td>Middle</td>\n",
       "      <td>Employed</td>\n",
       "      <td>Never</td>\n",
       "      <td>3</td>\n",
       "      <td>76</td>\n",
       "      <td>8.8</td>\n",
       "      <td>...</td>\n",
       "      <td>55</td>\n",
       "      <td>123</td>\n",
       "      <td>146</td>\n",
       "      <td>96</td>\n",
       "      <td>146</td>\n",
       "      <td>9.02</td>\n",
       "      <td>5.97</td>\n",
       "      <td>24.4</td>\n",
       "      <td>Pre-Diabetes</td>\n",
       "      <td>0</td>\n",
       "    </tr>\n",
       "    <tr>\n",
       "      <th>99997</th>\n",
       "      <td>57</td>\n",
       "      <td>Female</td>\n",
       "      <td>Black</td>\n",
       "      <td>No formal</td>\n",
       "      <td>Upper-Middle</td>\n",
       "      <td>Employed</td>\n",
       "      <td>Former</td>\n",
       "      <td>4</td>\n",
       "      <td>121</td>\n",
       "      <td>9.9</td>\n",
       "      <td>...</td>\n",
       "      <td>50</td>\n",
       "      <td>111</td>\n",
       "      <td>184</td>\n",
       "      <td>93</td>\n",
       "      <td>132</td>\n",
       "      <td>2.57</td>\n",
       "      <td>5.21</td>\n",
       "      <td>27.6</td>\n",
       "      <td>No Diabetes</td>\n",
       "      <td>0</td>\n",
       "    </tr>\n",
       "    <tr>\n",
       "      <th>99998</th>\n",
       "      <td>47</td>\n",
       "      <td>Female</td>\n",
       "      <td>Black</td>\n",
       "      <td>Highschool</td>\n",
       "      <td>Lower-Middle</td>\n",
       "      <td>Retired</td>\n",
       "      <td>Never</td>\n",
       "      <td>3</td>\n",
       "      <td>52</td>\n",
       "      <td>5.9</td>\n",
       "      <td>...</td>\n",
       "      <td>68</td>\n",
       "      <td>91</td>\n",
       "      <td>116</td>\n",
       "      <td>106</td>\n",
       "      <td>117</td>\n",
       "      <td>9.81</td>\n",
       "      <td>5.53</td>\n",
       "      <td>26.4</td>\n",
       "      <td>Pre-Diabetes</td>\n",
       "      <td>0</td>\n",
       "    </tr>\n",
       "    <tr>\n",
       "      <th>99999</th>\n",
       "      <td>52</td>\n",
       "      <td>Female</td>\n",
       "      <td>White</td>\n",
       "      <td>Postgraduate</td>\n",
       "      <td>Middle</td>\n",
       "      <td>Employed</td>\n",
       "      <td>Never</td>\n",
       "      <td>1</td>\n",
       "      <td>248</td>\n",
       "      <td>2.7</td>\n",
       "      <td>...</td>\n",
       "      <td>31</td>\n",
       "      <td>183</td>\n",
       "      <td>87</td>\n",
       "      <td>91</td>\n",
       "      <td>142</td>\n",
       "      <td>15.93</td>\n",
       "      <td>5.73</td>\n",
       "      <td>27.9</td>\n",
       "      <td>Pre-Diabetes</td>\n",
       "      <td>0</td>\n",
       "    </tr>\n",
       "  </tbody>\n",
       "</table>\n",
       "<p>100000 rows × 31 columns</p>\n",
       "</div>"
      ],
      "text/plain": [
       "       age  gender ethnicity education_level  income_level employment_status  \\\n",
       "0       58    Male     Asian      Highschool  Lower-Middle          Employed   \n",
       "1       48  Female     White      Highschool        Middle          Employed   \n",
       "2       60    Male  Hispanic      Highschool        Middle        Unemployed   \n",
       "3       74  Female     Black      Highschool           Low           Retired   \n",
       "4       46    Male     White        Graduate        Middle           Retired   \n",
       "...    ...     ...       ...             ...           ...               ...   \n",
       "99995   46    Male     Other        Graduate  Upper-Middle        Unemployed   \n",
       "99996   41  Female     White        Graduate        Middle          Employed   \n",
       "99997   57  Female     Black       No formal  Upper-Middle          Employed   \n",
       "99998   47  Female     Black      Highschool  Lower-Middle           Retired   \n",
       "99999   52  Female     White    Postgraduate        Middle          Employed   \n",
       "\n",
       "      smoking_status  alcohol_consumption_per_week  \\\n",
       "0              Never                             0   \n",
       "1             Former                             1   \n",
       "2              Never                             1   \n",
       "3              Never                             0   \n",
       "4              Never                             1   \n",
       "...              ...                           ...   \n",
       "99995         Former                             1   \n",
       "99996          Never                             3   \n",
       "99997         Former                             4   \n",
       "99998          Never                             3   \n",
       "99999          Never                             1   \n",
       "\n",
       "       physical_activity_minutes_per_week  diet_score  ...  hdl_cholesterol  \\\n",
       "0                                     215         5.7  ...               41   \n",
       "1                                     143         6.7  ...               55   \n",
       "2                                      57         6.4  ...               66   \n",
       "3                                      49         3.4  ...               50   \n",
       "4                                     109         7.2  ...               52   \n",
       "...                                   ...         ...  ...              ...   \n",
       "99995                                 136         8.3  ...               45   \n",
       "99996                                  76         8.8  ...               55   \n",
       "99997                                 121         9.9  ...               50   \n",
       "99998                                  52         5.9  ...               68   \n",
       "99999                                 248         2.7  ...               31   \n",
       "\n",
       "       ldl_cholesterol  triglycerides  glucose_fasting  glucose_postprandial  \\\n",
       "0                  160            145              136                   236   \n",
       "1                   50             30               93                   150   \n",
       "2                   99             36              118                   195   \n",
       "3                   79            140              139                   253   \n",
       "4                  125            160              137                   184   \n",
       "...                ...            ...              ...                   ...   \n",
       "99995              150            116              113                   109   \n",
       "99996              123            146               96                   146   \n",
       "99997              111            184               93                   132   \n",
       "99998               91            116              106                   117   \n",
       "99999              183             87               91                   142   \n",
       "\n",
       "       insulin_level  hba1c  diabetes_risk_score  diabetes_stage  \\\n",
       "0               6.36   8.18                 29.6          Type 2   \n",
       "1               2.00   5.63                 23.0     No Diabetes   \n",
       "2               5.07   7.51                 44.7          Type 2   \n",
       "3               5.28   9.03                 38.2          Type 2   \n",
       "4              12.74   7.20                 23.5          Type 2   \n",
       "...              ...    ...                  ...             ...   \n",
       "99995          14.58   5.55                 26.0    Pre-Diabetes   \n",
       "99996           9.02   5.97                 24.4    Pre-Diabetes   \n",
       "99997           2.57   5.21                 27.6     No Diabetes   \n",
       "99998           9.81   5.53                 26.4    Pre-Diabetes   \n",
       "99999          15.93   5.73                 27.9    Pre-Diabetes   \n",
       "\n",
       "       diagnosed_diabetes  \n",
       "0                       1  \n",
       "1                       0  \n",
       "2                       1  \n",
       "3                       1  \n",
       "4                       1  \n",
       "...                   ...  \n",
       "99995                   0  \n",
       "99996                   0  \n",
       "99997                   0  \n",
       "99998                   0  \n",
       "99999                   0  \n",
       "\n",
       "[100000 rows x 31 columns]"
      ]
     },
     "execution_count": 2,
     "metadata": {},
     "output_type": "execute_result"
    }
   ],
   "source": [
    "# Загрузка данных из data/raw/\n",
    "data_path = os.path.join('..', 'data', 'raw', 'diabetes_dataset.csv')\n",
    "df = pd.read_csv(data_path)\n",
    "df"
   ]
  },
  {
   "cell_type": "code",
   "execution_count": 3,
   "id": "c79ecf8f",
   "metadata": {},
   "outputs": [],
   "source": [
    "TARGET = 'diagnosed_diabetes'"
   ]
  },
  {
   "cell_type": "markdown",
   "id": "0994b5ba",
   "metadata": {},
   "source": [
    "## Анализ и очистка данных"
   ]
  },
  {
   "cell_type": "code",
   "execution_count": 4,
   "id": "e6166ba4",
   "metadata": {},
   "outputs": [
    {
     "name": "stdout",
     "output_type": "stream",
     "text": [
      "Проверка пропусков:\n",
      "age                                   0\n",
      "gender                                0\n",
      "ethnicity                             0\n",
      "education_level                       0\n",
      "income_level                          0\n",
      "employment_status                     0\n",
      "smoking_status                        0\n",
      "alcohol_consumption_per_week          0\n",
      "physical_activity_minutes_per_week    0\n",
      "diet_score                            0\n",
      "sleep_hours_per_day                   0\n",
      "screen_time_hours_per_day             0\n",
      "family_history_diabetes               0\n",
      "hypertension_history                  0\n",
      "cardiovascular_history                0\n",
      "bmi                                   0\n",
      "waist_to_hip_ratio                    0\n",
      "systolic_bp                           0\n",
      "diastolic_bp                          0\n",
      "heart_rate                            0\n",
      "cholesterol_total                     0\n",
      "hdl_cholesterol                       0\n",
      "ldl_cholesterol                       0\n",
      "triglycerides                         0\n",
      "glucose_fasting                       0\n",
      "glucose_postprandial                  0\n",
      "insulin_level                         0\n",
      "hba1c                                 0\n",
      "diabetes_risk_score                   0\n",
      "diabetes_stage                        0\n",
      "diagnosed_diabetes                    0\n",
      "dtype: int64\n"
     ]
    }
   ],
   "source": [
    "print(\"Проверка пропусков:\")\n",
    "print(df.isnull().sum())"
   ]
  },
  {
   "cell_type": "markdown",
   "id": "f1f22fd9",
   "metadata": {},
   "source": [
    "Пропусков нет, очень хорошо"
   ]
  },
  {
   "cell_type": "code",
   "execution_count": 5,
   "id": "6b2cec04",
   "metadata": {},
   "outputs": [
    {
     "name": "stdout",
     "output_type": "stream",
     "text": [
      "\n",
      "📊 Числовые признаки (без целевой): 23\n",
      "                age  alcohol_consumption_per_week  \\\n",
      "count  100000.00000                 100000.000000   \n",
      "mean       50.12041                      2.003670   \n",
      "std        15.60460                      1.417779   \n",
      "min        18.00000                      0.000000   \n",
      "25%        39.00000                      1.000000   \n",
      "50%        50.00000                      2.000000   \n",
      "75%        61.00000                      3.000000   \n",
      "max        90.00000                     10.000000   \n",
      "\n",
      "       physical_activity_minutes_per_week     diet_score  sleep_hours_per_day  \\\n",
      "count                       100000.000000  100000.000000        100000.000000   \n",
      "mean                           118.911640       5.994787             6.997818   \n",
      "std                             84.409662       1.780954             1.094622   \n",
      "min                              0.000000       0.000000             3.000000   \n",
      "25%                             57.000000       4.800000             6.300000   \n",
      "50%                            100.000000       6.000000             7.000000   \n",
      "75%                            160.000000       7.200000             7.700000   \n",
      "max                            833.000000      10.000000            10.000000   \n",
      "\n",
      "       screen_time_hours_per_day  family_history_diabetes  \\\n",
      "count              100000.000000            100000.000000   \n",
      "mean                    5.996468                 0.219410   \n",
      "std                     2.468406                 0.413849   \n",
      "min                     0.500000                 0.000000   \n",
      "25%                     4.300000                 0.000000   \n",
      "50%                     6.000000                 0.000000   \n",
      "75%                     7.700000                 0.000000   \n",
      "max                    16.800000                 1.000000   \n",
      "\n",
      "       hypertension_history  cardiovascular_history            bmi  ...  \\\n",
      "count         100000.000000           100000.000000  100000.000000  ...   \n",
      "mean               0.250800                0.079200      25.612653  ...   \n",
      "std                0.433476                0.270052       3.586705  ...   \n",
      "min                0.000000                0.000000      15.000000  ...   \n",
      "25%                0.000000                0.000000      23.200000  ...   \n",
      "50%                0.000000                0.000000      25.600000  ...   \n",
      "75%                1.000000                0.000000      28.000000  ...   \n",
      "max                1.000000                1.000000      39.200000  ...   \n",
      "\n",
      "          heart_rate  cholesterol_total  hdl_cholesterol  ldl_cholesterol  \\\n",
      "count  100000.000000      100000.000000    100000.000000    100000.000000   \n",
      "mean       69.632870         185.978110        54.042790       103.000430   \n",
      "std         8.371954          32.013005        10.267374        33.390256   \n",
      "min        40.000000         100.000000        20.000000        50.000000   \n",
      "25%        64.000000         164.000000        47.000000        78.000000   \n",
      "50%        70.000000         186.000000        54.000000       102.000000   \n",
      "75%        75.000000         208.000000        61.000000       126.000000   \n",
      "max       105.000000         318.000000        98.000000       263.000000   \n",
      "\n",
      "       triglycerides  glucose_fasting  glucose_postprandial  insulin_level  \\\n",
      "count  100000.000000     100000.00000         100000.000000  100000.000000   \n",
      "mean      121.462650        111.11712            160.035050       9.061242   \n",
      "std        43.372619         13.59561             30.935472       4.954060   \n",
      "min        30.000000         60.00000             70.000000       2.000000   \n",
      "25%        91.000000        102.00000            139.000000       5.090000   \n",
      "50%       121.000000        111.00000            160.000000       8.790000   \n",
      "75%       151.000000        120.00000            181.000000      12.450000   \n",
      "max       344.000000        172.00000            287.000000      32.220000   \n",
      "\n",
      "               hba1c  diabetes_risk_score  \n",
      "count  100000.000000        100000.000000  \n",
      "mean        6.520776            30.222362  \n",
      "std         0.813921             9.061505  \n",
      "min         4.000000             2.700000  \n",
      "25%         5.970000            23.800000  \n",
      "50%         6.520000            29.000000  \n",
      "75%         7.070000            35.600000  \n",
      "max         9.800000            67.200000  \n",
      "\n",
      "[8 rows x 23 columns]\n"
     ]
    }
   ],
   "source": [
    "numeric_features = df.select_dtypes(include=[np.number]).columns.tolist()\n",
    "\n",
    "# Или если нужно исключить целевую переменную\n",
    "numeric_features_without_target = [col for col in numeric_features if col != 'diagnosed_diabetes']\n",
    "print(f\"\\n📊 Числовые признаки (без целевой): {len(numeric_features_without_target)}\")\n",
    "print(df[numeric_features_without_target].describe())"
   ]
  },
  {
   "cell_type": "markdown",
   "id": "d81dd7b6",
   "metadata": {},
   "source": [
    "## Feature Enginnering"
   ]
  },
  {
   "cell_type": "markdown",
   "id": "9c37611b",
   "metadata": {},
   "source": [
    "Что мы будем делать:\n",
    "\n",
    "1. Первичная обработка\n",
    "     * `'age_category'`: \n",
    "          * Создание возрастных групп \n",
    "               * young - молодой\n",
    "               * adult - взрослый\n",
    "               * middle_aged - средний возраст\n",
    "               * elderly - пожилой\n",
    "     * `'bmi_category'` \n",
    "          * Медицинские категории BMI\n",
    "               * underweight - недостаточный вес\n",
    "               * normal - нормальный вес\n",
    "               * overweight - избыточный вес\n",
    "               * obese - ожирение\n",
    "     * `'glucose_risk'`\n",
    "          * Комбинированный риск по глюкозе (норма, преддиабет, диабет) + HbA1c\n",
    "     * `'lifestyle_score'` \n",
    "          * Композитный показатель образа жизни (диета + активность + сон - алкоголь - курение)\n",
    "2. Кодирование категориальных признаков\n",
    "     * `OneHotEncoder`: [`'gender'`, `'ethnicity'`, `'employment_status'`, `'diabetes_stage'`]\n",
    "          * Признаки без естественной иерархии\n",
    "          * Сохраняет информацию о всех категориях\n",
    "     * 'OrdinalEncoder':\n",
    "          * `'education_level'`: Primary(0) < Secondary(1) < Undergraduate(2) < Postgraduate(3)\n",
    "          * `'income_level'`: Low(0) < Medium(1) < High(2)\n",
    "          * `'smoking_status'`: Never(0) < Former(1) < Current(2)\n",
    "          * Сохраняет естественный порядок и логичность изменения\n",
    "3. Масштабирование числовых признаков\n",
    "   * `StandardScaler`: [`'age'`, `'bmi'`, `'cholesterol_total'`, `'blood_pressure'`, `'heart_rate'`]\n",
    "        * Признаки с нормальным распределением\n",
    "        * Стандартизация для линейных моделей\n",
    "   * `RobustScaler`: [`'glucose_fasting'`, `'glucose_postprandial'`, `'hba1c'`, `'insulin_level'`]\n",
    "        * Медицинские показатели с возможными выбросами\n",
    "        * Устойчив к аномалиям\n"
   ]
  },
  {
   "cell_type": "code",
   "execution_count": 6,
   "id": "12b84709",
   "metadata": {},
   "outputs": [],
   "source": [
    "# создадим копию данных для преобразований\n",
    "df_processed = df.copy()"
   ]
  },
  {
   "cell_type": "markdown",
   "id": "aa3d7e72",
   "metadata": {},
   "source": [
    "### Первичная обработка"
   ]
  },
  {
   "cell_type": "code",
   "execution_count": 7,
   "id": "6b9acc79",
   "metadata": {},
   "outputs": [],
   "source": [
    "df_processed['age_category'] = pd.cut(df_processed['age'], \n",
    "                           bins=[0, 35, 50, 65, 100],\n",
    "                           labels=['young', 'adult', 'middle_aged', 'elderly'])"
   ]
  },
  {
   "cell_type": "markdown",
   "id": "21197b45",
   "metadata": {},
   "source": [
    "Сделаем показатель BMI категориальным "
   ]
  },
  {
   "cell_type": "markdown",
   "id": "569cdb34",
   "metadata": {},
   "source": [
    "![BMI_расшифровка](..\\data\\images\\eda\\bmi_values.png)\n"
   ]
  },
  {
   "cell_type": "code",
   "execution_count": 8,
   "id": "af9619d8",
   "metadata": {},
   "outputs": [],
   "source": [
    "df_processed['bmi_category'] = pd.cut(df_processed['bmi'],\n",
    "                           bins=[0, 18.5, 25, 30, 100],\n",
    "                           labels=['underweight', 'normal', 'overweight', 'obese'])"
   ]
  },
  {
   "cell_type": "markdown",
   "id": "fee5623a",
   "metadata": {},
   "source": [
    "Обоснованость создания параметра риска по глюкозе вы можете прочитать в этой [статье](https://kdl.ru/patient/blog/diabet-pod-kontrolem)"
   ]
  },
  {
   "cell_type": "code",
   "execution_count": 9,
   "id": "e4222360",
   "metadata": {},
   "outputs": [],
   "source": [
    "def get_glucose_risk(row):\n",
    "    if row['glucose_fasting'] < 100 and row['hba1c'] < 5.7:\n",
    "        return 'normal'\n",
    "    elif row['glucose_fasting'] < 126 and row['hba1c'] < 6.5:\n",
    "        return 'prediabetes'\n",
    "    else:\n",
    "        return 'diabetes'\n",
    "    \n",
    "df_processed['glucose_risk'] = df_processed.apply(get_glucose_risk, axis=1)"
   ]
  },
  {
   "cell_type": "markdown",
   "id": "d98187cb",
   "metadata": {},
   "source": [
    "Создадим так-же составной показатель для представления уровня здорового образа жизни человека.\n",
    "(эксперементальный параметр)"
   ]
  },
  {
   "cell_type": "code",
   "execution_count": 10,
   "id": "983bce5c",
   "metadata": {},
   "outputs": [],
   "source": [
    "df_processed['lifestyle_score'] = (\n",
    "    df_processed['diet_score'] + \n",
    "    (df_processed['physical_activity_minutes_per_week'] / 100) +\n",
    "    df_processed['sleep_hours_per_day'] -\n",
    "    (df_processed['alcohol_consumption_per_week'] * 2) -\n",
    "    (df_processed['screen_time_hours_per_day'] * 0.5)\n",
    ")"
   ]
  },
  {
   "cell_type": "markdown",
   "id": "44a2d0ab",
   "metadata": {},
   "source": [
    "### Кодирование категориальных признаков"
   ]
  },
  {
   "cell_type": "markdown",
   "id": "4802f2c4",
   "metadata": {},
   "source": [
    "Используем `OneHotEncoder`"
   ]
  },
  {
   "cell_type": "code",
   "execution_count": 11,
   "id": "978c3f71",
   "metadata": {},
   "outputs": [
    {
     "name": "stdout",
     "output_type": "stream",
     "text": [
      "OneHot кодирование для: ['gender', 'ethnicity', 'employment_status', 'diabetes_stage']\n",
      "Добавлено 13 новых признаков\n",
      "Размер новых данных: (100000, 44)\n"
     ]
    }
   ],
   "source": [
    "onehot_columns = ['gender', 'ethnicity', 'employment_status', 'diabetes_stage']\n",
    "print(f\"OneHot кодирование для: {onehot_columns}\")\n",
    "\n",
    "onehot_encoder = OneHotEncoder(sparse_output=False, drop='first')\n",
    "onehot_encoded = onehot_encoder.fit_transform(df_processed[onehot_columns])\n",
    "\n",
    "# создаем DataFrame с one-hot признаками\n",
    "onehot_feature_names = onehot_encoder.get_feature_names_out(onehot_columns)\n",
    "df_onehot = pd.DataFrame(onehot_encoded, columns=onehot_feature_names, index=df_processed.index)\n",
    "\n",
    "# удаляем исходные колонки и добавляем one-hot\n",
    "df_processed = df_processed.drop(onehot_columns, axis=1)\n",
    "df_processed = pd.concat([df_processed, df_onehot], axis=1)\n",
    "\n",
    "print(f\"Добавлено {len(onehot_feature_names)} новых признаков\")\n",
    "print(f\"Размер новых данных: {df_processed.shape}\")"
   ]
  },
  {
   "cell_type": "markdown",
   "id": "2a17758b",
   "metadata": {},
   "source": [
    "Используем `OrdinalEncoder`"
   ]
  },
  {
   "cell_type": "code",
   "execution_count": 12,
   "id": "446c8475",
   "metadata": {},
   "outputs": [
    {
     "data": {
      "text/plain": [
       "array(['Highschool', 'Graduate', 'Postgraduate', 'No formal'],\n",
       "      dtype=object)"
      ]
     },
     "execution_count": 12,
     "metadata": {},
     "output_type": "execute_result"
    }
   ],
   "source": [
    "df_processed['education_level'].unique()"
   ]
  },
  {
   "cell_type": "code",
   "execution_count": 13,
   "id": "a7a6c95a",
   "metadata": {},
   "outputs": [
    {
     "name": "stdout",
     "output_type": "stream",
     "text": [
      "Ordinal кодирование для: ['education_level', 'income_level', 'smoking_status']\n",
      "Размер новых данных: (100000, 47)\n"
     ]
    }
   ],
   "source": [
    "ordinal_columns = ['education_level', 'income_level', 'smoking_status']\n",
    "education_order = ['No formal', 'Highschool', 'Graduate', 'Postgraduate']\n",
    "income_order = ['Lower-Middle', 'Middle', 'Low', 'Upper-Middle', 'High']\n",
    "smoking_order = ['Never', 'Former', 'Current']\n",
    "\n",
    "print(f\"Ordinal кодирование для: {ordinal_columns}\")\n",
    "\n",
    "ordinal_encoder_edu = OrdinalEncoder(categories=[education_order])\n",
    "df_processed['education_level_encoded'] = ordinal_encoder_edu.fit_transform(df_processed[['education_level']])\n",
    "\n",
    "ordinal_encoder_inc = OrdinalEncoder(categories=[income_order])\n",
    "df_processed['income_level_encoded'] = ordinal_encoder_inc.fit_transform(df_processed[['income_level']])\n",
    "\n",
    "ordinal_encoder_smk = OrdinalEncoder(categories=[smoking_order])\n",
    "df_processed['smoking_status_encoded'] = ordinal_encoder_smk.fit_transform(df_processed[['smoking_status']])\n",
    "print(f\"Размер новых данных: {df_processed.shape}\")"
   ]
  },
  {
   "cell_type": "markdown",
   "id": "fa1202ea",
   "metadata": {},
   "source": [
    "### Масштабирование числовых признаков"
   ]
  },
  {
   "cell_type": "markdown",
   "id": "77334518",
   "metadata": {},
   "source": [
    "StandardScaler"
   ]
  },
  {
   "cell_type": "code",
   "execution_count": 14,
   "id": "52ff222b",
   "metadata": {},
   "outputs": [
    {
     "name": "stdout",
     "output_type": "stream",
     "text": [
      "StandardScaler для: ['age', 'bmi', 'cholesterol_total', 'heart_rate']\n",
      "\n",
      "Масштабирование завершено. Диапазоны:\n",
      "  age                 : -2.1 - 2.6\n",
      "  bmi                 : -3.0 - 3.8\n",
      "  cholesterol_total   : -2.7 - 4.1\n",
      "  heart_rate          : -3.5 - 4.2\n"
     ]
    }
   ],
   "source": [
    "standard_columns = ['age', 'bmi', 'cholesterol_total', 'heart_rate']\n",
    "print(f\"StandardScaler для: {standard_columns}\")\n",
    "\n",
    "standard_scaler = StandardScaler()\n",
    "df_processed[standard_columns] = standard_scaler.fit_transform(df_processed[standard_columns])\n",
    "\n",
    "print(f\"\\nМасштабирование завершено. Диапазоны:\")\n",
    "for col in standard_columns:\n",
    "    print(f\"  {col:20}: {df_processed[col].min():.1f} - {df_processed[col].max():.1f}\")"
   ]
  },
  {
   "cell_type": "markdown",
   "id": "6227b525",
   "metadata": {},
   "source": [
    "RobustScaler"
   ]
  },
  {
   "cell_type": "code",
   "execution_count": 15,
   "id": "6b65d5dd",
   "metadata": {},
   "outputs": [
    {
     "name": "stdout",
     "output_type": "stream",
     "text": [
      "RobustScaler для: ['glucose_fasting', 'glucose_postprandial', 'hba1c', 'insulin_level']\n",
      "\n",
      "Масштабирование завершено. Диапазоны:\n",
      "  glucose_fasting     : -2.8 - 3.4\n",
      "  glucose_postprandial: -2.1 - 3.0\n",
      "  hba1c               : -2.3 - 3.0\n",
      "  insulin_level       : -0.9 - 3.2\n"
     ]
    }
   ],
   "source": [
    "robust_columns = ['glucose_fasting', 'glucose_postprandial', 'hba1c', 'insulin_level']\n",
    "print(f\"RobustScaler для: {robust_columns}\")\n",
    "\n",
    "robust_scaler = RobustScaler()\n",
    "df_processed[robust_columns] = robust_scaler.fit_transform(df_processed[robust_columns])\n",
    "\n",
    "print(f\"\\nМасштабирование завершено. Диапазоны:\")\n",
    "for col in robust_columns:\n",
    "    print(f\"  {col:20}: {df_processed[col].min():.1f} - {df_processed[col].max():.1f}\")"
   ]
  },
  {
   "cell_type": "markdown",
   "id": "0fc584eb",
   "metadata": {},
   "source": [
    "### Удаление ненужных столбцов и выбросов"
   ]
  },
  {
   "cell_type": "markdown",
   "id": "ac65fbc2",
   "metadata": {},
   "source": [
    "Сначало посмотрим какие у нас есть столбцы на данный момент:"
   ]
  },
  {
   "cell_type": "code",
   "execution_count": 16,
   "id": "83dda93f",
   "metadata": {},
   "outputs": [
    {
     "name": "stdout",
     "output_type": "stream",
     "text": [
      "age                        education_level            income_level             \n",
      "smoking_status             alcohol_consumption_...    physical_activity_mi...  \n",
      "diet_score                 sleep_hours_per_day        screen_time_hours_per_day\n",
      "family_history_diabetes    hypertension_history       cardiovascular_history   \n",
      "bmi                        waist_to_hip_ratio         systolic_bp              \n",
      "diastolic_bp               heart_rate                 cholesterol_total        \n",
      "hdl_cholesterol            ldl_cholesterol            triglycerides            \n",
      "glucose_fasting            glucose_postprandial       insulin_level            \n",
      "hba1c                      diabetes_risk_score        diagnosed_diabetes       \n",
      "age_category               bmi_category               glucose_risk             \n",
      "lifestyle_score            gender_Male                gender_Other             \n",
      "ethnicity_Black            ethnicity_Hispanic         ethnicity_Other          \n",
      "ethnicity_White            employment_status_Retired  employment_status_Student\n",
      "employment_status_Un...    diabetes_stage_No Di...    diabetes_stage_Pre-D...  \n",
      "diabetes_stage_Type 1      diabetes_stage_Type 2      education_level_encoded  \n",
      "income_level_encoded       smoking_status_encoded   \n"
     ]
    }
   ],
   "source": [
    "columns = df_processed.columns.tolist()\n",
    "\n",
    "for i in range(0, len(columns), 3):\n",
    "    # форматируем вывод для лучшей читаемости\n",
    "    row_columns = columns[i:i+3]\n",
    "    formatted_columns = []\n",
    "    \n",
    "    for col in row_columns:\n",
    "        # Обрезаем длинные названия для удобства чтения\n",
    "        if len(col) > 25:\n",
    "            col_display = col[:20] + \"...\"\n",
    "        else:\n",
    "            col_display = col\n",
    "        formatted_columns.append(f\"{col_display:<25}\")\n",
    "    \n",
    "    print(\"  \".join(formatted_columns))"
   ]
  },
  {
   "cell_type": "markdown",
   "id": "6f71d14b",
   "metadata": {},
   "source": [
    "Удалим исходные не нужные столбцы "
   ]
  },
  {
   "cell_type": "code",
   "execution_count": null,
   "id": "2388e019",
   "metadata": {},
   "outputs": [],
   "source": []
  },
  {
   "cell_type": "code",
   "execution_count": 17,
   "id": "743031b3",
   "metadata": {},
   "outputs": [
    {
     "name": "stdout",
     "output_type": "stream",
     "text": [
      "Кол. фич перед удалением: 47\n",
      "Кол. фич после удаленгия: 40\n"
     ]
    }
   ],
   "source": [
    "print(f\"Кол. фич перед удалением: {len(df_processed.columns)}\")\n",
    "\n",
    "columns_to_drop = [\n",
    "    'education_level', 'income_level', 'smoking_status',  # исходные категориальные\n",
    "    'age_category', 'bmi_category', 'glucose_risk',       # созданные нами категории\n",
    "    'diabetes_risk_score'                                 # агрегированный показатель\n",
    "]\n",
    "\n",
    "df_processed = df_processed.drop(columns_to_drop, axis=1)\n",
    "\n",
    "print(f\"Кол. фич после удаленгия: {len(df_processed.columns)}\")"
   ]
  },
  {
   "cell_type": "markdown",
   "id": "c8994f5f",
   "metadata": {},
   "source": [
    "## Разделение и сохранение данных"
   ]
  },
  {
   "cell_type": "code",
   "execution_count": 18,
   "id": "281720fd",
   "metadata": {},
   "outputs": [
    {
     "name": "stdout",
     "output_type": "stream",
     "text": [
      "Итог раздения:\n",
      "\n",
      "   X_train: (80000, 39)\n",
      "   X_test:  (20000, 39)\n",
      "\n",
      "   y_train: (80000,)\n",
      "   y_test:  (20000,)\n"
     ]
    }
   ],
   "source": [
    "X = df_processed.drop([TARGET], axis=1)\n",
    "y = df_processed[TARGET]\n",
    "\n",
    "X_train, X_test, y_train, y_test = train_test_split(\n",
    "    X, y, test_size=0.2, random_state=42\n",
    ")\n",
    "\n",
    "print(f\"Итог раздения:\\n\")\n",
    "print(f\"   X_train: {X_train.shape}\")\n",
    "print(f\"   X_test:  {X_test.shape}\\n\")\n",
    "print(f\"   y_train: {y_train.shape}\")\n",
    "print(f\"   y_test:  {y_test.shape}\")"
   ]
  },
  {
   "cell_type": "code",
   "execution_count": 19,
   "id": "d261a3aa",
   "metadata": {},
   "outputs": [],
   "source": [
    "os.makedirs('../data/processed', exist_ok=True)\n",
    "\n",
    "X_train.to_csv('../data/processed/X_train.csv', index=False)\n",
    "X_test.to_csv('../data/processed/X_test.csv', index=False)\n",
    "y_train.to_csv('../data/processed/y_train.csv', index=False)\n",
    "y_test.to_csv('../data/processed/y_test.csv', index=False)"
   ]
  }
 ],
 "metadata": {
  "kernelspec": {
   "display_name": ".venv",
   "language": "python",
   "name": "python3"
  },
  "language_info": {
   "codemirror_mode": {
    "name": "ipython",
    "version": 3
   },
   "file_extension": ".py",
   "mimetype": "text/x-python",
   "name": "python",
   "nbconvert_exporter": "python",
   "pygments_lexer": "ipython3",
   "version": "3.12.10"
  }
 },
 "nbformat": 4,
 "nbformat_minor": 5
}
