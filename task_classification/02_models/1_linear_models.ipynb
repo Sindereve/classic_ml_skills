{
 "cells": [
  {
   "cell_type": "markdown",
   "id": "b47c145d",
   "metadata": {},
   "source": [
    "# Навигация и краткое описание"
   ]
  },
  {
   "cell_type": "markdown",
   "id": "ce0bc6c4",
   "metadata": {},
   "source": [
    "**Цель:** Сравнительный анализ линейных моделей машинного обучения из библиотеки sklearn для решения задач классификации.([Dataset](https://www.kaggle.com/datasets/mohankrishnathalla/diabetes-health-indicators-dataset))\n",
    "\n",
    "**Рассматриваемые модели:**\n",
    "- [LogisticRegression](##LogisticRegression)\n",
    "- [LinearSVC](##LinearSVC)\n",
    "- [SGDClassifier](##SGDClassifier)"
   ]
  },
  {
   "cell_type": "markdown",
   "id": "9fc0d7d0",
   "metadata": {},
   "source": [
    "# Подготовка к работе с моделями"
   ]
  },
  {
   "cell_type": "code",
   "execution_count": 1,
   "id": "f8543b28",
   "metadata": {},
   "outputs": [],
   "source": [
    "import pandas as pd \n",
    "import sklearn\n",
    "\n",
    "import sys\n",
    "sys.path.append('..')\n",
    "from utils import load_processed_data, ModelsClassificationHistory"
   ]
  },
  {
   "cell_type": "code",
   "execution_count": 2,
   "id": "f810d051",
   "metadata": {},
   "outputs": [],
   "source": [
    "# Заранее установим несколько констант\n",
    "RANDOM_STATE = 42\n",
    "\n",
    "# Загрузка данных\n",
    "X_train, X_test, y_train, y_test = load_processed_data()\n",
    "history_models = ModelsClassificationHistory()"
   ]
  },
  {
   "cell_type": "markdown",
   "id": "d5085bd5",
   "metadata": {},
   "source": [
    "# Создание моделей"
   ]
  },
  {
   "cell_type": "markdown",
   "id": "90bfa4c3",
   "metadata": {},
   "source": [
    "## LogisticRegression"
   ]
  },
  {
   "cell_type": "code",
   "execution_count": 3,
   "id": "ce996876",
   "metadata": {},
   "outputs": [],
   "source": [
    "from sklearn.linear_model import LogisticRegression"
   ]
  },
  {
   "cell_type": "markdown",
   "id": "4e74da9c",
   "metadata": {},
   "source": [
    "Логистическая регрессия - это линейная модель для задач классификации, которая строит линейную зависимость между признаками и вероятностью принадлежности к целевому классу. В отличие от линейной регрессии, она предсказывает не числовое значение, а вероятность от 0 до 1.\n",
    "\n",
    "Для бинарной классификации логистическая регрессия сначала вычисляет линейную комбинацию признако (логит), а затем преобразует её в вероятность с помощью сигмоидной функции:\n",
    "\n",
    "$$ \n",
    "    z = w_0 + w_1 * x_1 + w_2 * x_2 + \\dots + w_n * x_n\n",
    "$$\n",
    "\n",
    "$$ \n",
    "    P(y=1) = \\sigma(z) = \\frac{1}{1+e^{-z}}\n",
    "$$\n",
    "где:\n",
    "- $P(y=1)$ - вероятность принадлежности к классу 1\n",
    "- $w_0$ - смещение (bias)\n",
    "- $w_1, w_2, \\dots, w_n$ - коэффициенты при признаках\n",
    "- $x_1, x_2, \\dots, x_n$ - значения признаков\n",
    "- $\\sigma(z)$ - сигмоидная функция\n"
   ]
  },
  {
   "cell_type": "markdown",
   "id": "a4b897a4",
   "metadata": {},
   "source": [
    "Графическое представление формулы представлено ниже:"
   ]
  },
  {
   "cell_type": "markdown",
   "id": "756b16ad",
   "metadata": {},
   "source": [
    "![Геометрический смысл логистической регрессии](../data/images/logRegression/geometric_meaning.png)"
   ]
  },
  {
   "cell_type": "code",
   "execution_count": 4,
   "id": "d6728901",
   "metadata": {},
   "outputs": [
    {
     "name": "stderr",
     "output_type": "stream",
     "text": [
      "c:\\Users\\sinde\\OneDrive\\Рабочий стол\\classic_ml_skills\\.venv\\Lib\\site-packages\\sklearn\\utils\\validation.py:1406: DataConversionWarning: A column-vector y was passed when a 1d array was expected. Please change the shape of y to (n_samples, ), for example using ravel().\n",
      "  y = column_or_1d(y, warn=True)\n",
      "c:\\Users\\sinde\\OneDrive\\Рабочий стол\\classic_ml_skills\\.venv\\Lib\\site-packages\\sklearn\\linear_model\\_logistic.py:473: ConvergenceWarning: lbfgs failed to converge after 100 iteration(s) (status=1):\n",
      "STOP: TOTAL NO. OF ITERATIONS REACHED LIMIT\n",
      "\n",
      "Increase the number of iterations to improve the convergence (max_iter=100).\n",
      "You might also want to scale the data as shown in:\n",
      "    https://scikit-learn.org/stable/modules/preprocessing.html\n",
      "Please also refer to the documentation for alternative solver options:\n",
      "    https://scikit-learn.org/stable/modules/linear_model.html#logistic-regression\n",
      "  n_iter_i = _check_optimize_result(\n"
     ]
    }
   ],
   "source": [
    "LR_standard = LogisticRegression(random_state=RANDOM_STATE)\n",
    "LR_standard.fit(X_train, y_train)\n",
    "y_pred = LR_standard.predict(X_test)\n",
    "y_pred_proba = LR_standard.predict_proba(X_test)  # Вероятности для метрик"
   ]
  },
  {
   "cell_type": "code",
   "execution_count": 5,
   "id": "ac96b9fc",
   "metadata": {},
   "outputs": [
    {
     "data": {
      "text/html": [
       "<div>\n",
       "<style scoped>\n",
       "    .dataframe tbody tr th:only-of-type {\n",
       "        vertical-align: middle;\n",
       "    }\n",
       "\n",
       "    .dataframe tbody tr th {\n",
       "        vertical-align: top;\n",
       "    }\n",
       "\n",
       "    .dataframe thead th {\n",
       "        text-align: right;\n",
       "    }\n",
       "</style>\n",
       "<table border=\"1\" class=\"dataframe\">\n",
       "  <thead>\n",
       "    <tr style=\"text-align: right;\">\n",
       "      <th></th>\n",
       "      <th>Модели</th>\n",
       "      <th>Класс модели</th>\n",
       "      <th>Параметры модели</th>\n",
       "      <th>Заметки</th>\n",
       "      <th>Accuracy</th>\n",
       "      <th>Precision</th>\n",
       "      <th>Recall</th>\n",
       "      <th>F1</th>\n",
       "      <th>ROC-AUC</th>\n",
       "    </tr>\n",
       "  </thead>\n",
       "  <tbody>\n",
       "    <tr>\n",
       "      <th>0</th>\n",
       "      <td>LogisticRegression</td>\n",
       "      <td>linear_model</td>\n",
       "      <td>{'C': 1.0, 'class_weight': None, 'dual': False...</td>\n",
       "      <td>Логистическая регрессия, стандартные параметры</td>\n",
       "      <td>0.997</td>\n",
       "      <td>0.997</td>\n",
       "      <td>0.997</td>\n",
       "      <td>0.997</td>\n",
       "      <td>None</td>\n",
       "    </tr>\n",
       "  </tbody>\n",
       "</table>\n",
       "</div>"
      ],
      "text/plain": [
       "               Модели  Класс модели  \\\n",
       "0  LogisticRegression  linear_model   \n",
       "\n",
       "                                    Параметры модели  \\\n",
       "0  {'C': 1.0, 'class_weight': None, 'dual': False...   \n",
       "\n",
       "                                          Заметки  Accuracy  Precision  \\\n",
       "0  Логистическая регрессия, стандартные параметры     0.997      0.997   \n",
       "\n",
       "   Recall     F1 ROC-AUC  \n",
       "0   0.997  0.997    None  "
      ]
     },
     "execution_count": 5,
     "metadata": {},
     "output_type": "execute_result"
    }
   ],
   "source": [
    "history_models.add_model(\n",
    "    LR_standard, \n",
    "    \"linear_model\", \n",
    "    LR_standard.get_params(), \n",
    "    \"Логистическая регрессия, стандартные параметры\", \n",
    "    y_true=y_test, \n",
    "    y_pred=y_pred,\n",
    "    y_pred_proba=y_pred_proba\n",
    ")\n",
    "history_models.to_dataframe()"
   ]
  },
  {
   "cell_type": "markdown",
   "id": "499ce595",
   "metadata": {},
   "source": [
    "## LinearSVC"
   ]
  },
  {
   "cell_type": "markdown",
   "id": "2a8d0261",
   "metadata": {},
   "source": [
    "## SGDClassifier"
   ]
  },
  {
   "cell_type": "markdown",
   "id": "116d49a9",
   "metadata": {},
   "source": [
    "## Итоги"
   ]
  }
 ],
 "metadata": {
  "kernelspec": {
   "display_name": ".venv",
   "language": "python",
   "name": "python3"
  },
  "language_info": {
   "codemirror_mode": {
    "name": "ipython",
    "version": 3
   },
   "file_extension": ".py",
   "mimetype": "text/x-python",
   "name": "python",
   "nbconvert_exporter": "python",
   "pygments_lexer": "ipython3",
   "version": "3.12.10"
  }
 },
 "nbformat": 4,
 "nbformat_minor": 5
}
