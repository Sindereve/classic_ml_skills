{
 "cells": [
  {
   "cell_type": "markdown",
   "id": "b47c145d",
   "metadata": {},
   "source": [
    "# Навигация и краткое описание"
   ]
  },
  {
   "cell_type": "markdown",
   "id": "ce0bc6c4",
   "metadata": {},
   "source": [
    "**Цель:** Сравнительный анализ линейных моделей машинного обучения из библиотеки sklearn для решения задач классификации.([Dataset](https://www.kaggle.com/datasets/mohankrishnathalla/diabetes-health-indicators-dataset))\n",
    "\n",
    "**Рассматриваемые модели:**\n",
    "- [LogisticRegression](#logisticregression)\n",
    "- Linear SVM:\n",
    "    - [LinearSVC](#linearsvc)\n",
    "- Универсальный оптимизатор:\n",
    "    - [SGDClassifier](#sgdclassifier)\n",
    "- [LinearDiscriminantAnalysis](#lineardiscriminantanalysis)"
   ]
  },
  {
   "cell_type": "markdown",
   "id": "9fc0d7d0",
   "metadata": {},
   "source": [
    "# Подготовка к работе с моделями"
   ]
  },
  {
   "cell_type": "code",
   "execution_count": 2,
   "id": "f8543b28",
   "metadata": {},
   "outputs": [],
   "source": [
    "import pandas as pd \n",
    "import sklearn\n",
    "\n",
    "import sys\n",
    "sys.path.append('..')\n",
    "from utils import load_processed_data, ModelsClassificationHistory"
   ]
  },
  {
   "cell_type": "code",
   "execution_count": 3,
   "id": "f810d051",
   "metadata": {},
   "outputs": [],
   "source": [
    "# Заранее установим несколько констант\n",
    "RANDOM_STATE = 42\n",
    "\n",
    "# Загрузка данных\n",
    "X_train, X_test, y_train, y_test = load_processed_data()\n",
    "history_models = ModelsClassificationHistory()"
   ]
  },
  {
   "cell_type": "markdown",
   "id": "d5085bd5",
   "metadata": {},
   "source": [
    "# Создание моделей"
   ]
  },
  {
   "cell_type": "markdown",
   "id": "90bfa4c3",
   "metadata": {},
   "source": [
    "## LogisticRegression"
   ]
  },
  {
   "cell_type": "code",
   "execution_count": 4,
   "id": "ce996876",
   "metadata": {},
   "outputs": [],
   "source": [
    "from sklearn.linear_model import LogisticRegression"
   ]
  },
  {
   "cell_type": "markdown",
   "id": "4e74da9c",
   "metadata": {},
   "source": [
    "Логистическая регрессия - это линейная модель для задач классификации, которая строит линейную зависимость между признаками и вероятностью принадлежности к целевому классу. В отличие от линейной регрессии, она предсказывает не числовое значение, а вероятность от 0 до 1.\n",
    "\n",
    "Для бинарной классификации логистическая регрессия сначала вычисляет линейную комбинацию признако (логит), а затем преобразует её в вероятность с помощью сигмоидной функции:\n",
    "\n",
    "$$ \n",
    "    z = w_0 + w_1 * x_1 + w_2 * x_2 + \\dots + w_n * x_n\n",
    "$$\n",
    "\n",
    "$$ \n",
    "    P(y=1) = \\sigma(z) = \\frac{1}{1+e^{-z}}\n",
    "$$\n",
    "где:\n",
    "- $P(y=1)$ - вероятность принадлежности к классу 1\n",
    "- $w_0$ - смещение (bias)\n",
    "- $w_1, w_2, \\dots, w_n$ - коэффициенты при признаках\n",
    "- $x_1, x_2, \\dots, x_n$ - значения признаков\n",
    "- $\\sigma(z)$ - сигмоидная функция\n"
   ]
  },
  {
   "cell_type": "markdown",
   "id": "a4b897a4",
   "metadata": {},
   "source": [
    "Графическое представление формулы представлено ниже:"
   ]
  },
  {
   "cell_type": "markdown",
   "id": "756b16ad",
   "metadata": {},
   "source": [
    "![Геометрический смысл логистической регрессии](../data/images/logRegression/geometric_meaning.png)"
   ]
  },
  {
   "cell_type": "code",
   "execution_count": 5,
   "id": "d6728901",
   "metadata": {},
   "outputs": [
    {
     "name": "stderr",
     "output_type": "stream",
     "text": [
      "c:\\Users\\sinde\\OneDrive\\Рабочий стол\\classic_ml_skills\\.venv\\Lib\\site-packages\\sklearn\\utils\\validation.py:1406: DataConversionWarning: A column-vector y was passed when a 1d array was expected. Please change the shape of y to (n_samples, ), for example using ravel().\n",
      "  y = column_or_1d(y, warn=True)\n",
      "c:\\Users\\sinde\\OneDrive\\Рабочий стол\\classic_ml_skills\\.venv\\Lib\\site-packages\\sklearn\\linear_model\\_logistic.py:473: ConvergenceWarning: lbfgs failed to converge after 100 iteration(s) (status=1):\n",
      "STOP: TOTAL NO. OF ITERATIONS REACHED LIMIT\n",
      "\n",
      "Increase the number of iterations to improve the convergence (max_iter=100).\n",
      "You might also want to scale the data as shown in:\n",
      "    https://scikit-learn.org/stable/modules/preprocessing.html\n",
      "Please also refer to the documentation for alternative solver options:\n",
      "    https://scikit-learn.org/stable/modules/linear_model.html#logistic-regression\n",
      "  n_iter_i = _check_optimize_result(\n"
     ]
    }
   ],
   "source": [
    "LR_standard = LogisticRegression(random_state=RANDOM_STATE)\n",
    "LR_standard.fit(X_train, y_train)\n",
    "y_pred = LR_standard.predict(X_test)\n",
    "y_pred_proba = LR_standard.predict_proba(X_test)  # Вероятности для метрик"
   ]
  },
  {
   "cell_type": "code",
   "execution_count": 6,
   "id": "ac96b9fc",
   "metadata": {},
   "outputs": [
    {
     "data": {
      "text/html": [
       "<div>\n",
       "<style scoped>\n",
       "    .dataframe tbody tr th:only-of-type {\n",
       "        vertical-align: middle;\n",
       "    }\n",
       "\n",
       "    .dataframe tbody tr th {\n",
       "        vertical-align: top;\n",
       "    }\n",
       "\n",
       "    .dataframe thead th {\n",
       "        text-align: right;\n",
       "    }\n",
       "</style>\n",
       "<table border=\"1\" class=\"dataframe\">\n",
       "  <thead>\n",
       "    <tr style=\"text-align: right;\">\n",
       "      <th></th>\n",
       "      <th>Модели</th>\n",
       "      <th>Класс модели</th>\n",
       "      <th>Параметры модели</th>\n",
       "      <th>Заметки</th>\n",
       "      <th>Accuracy</th>\n",
       "      <th>Precision</th>\n",
       "      <th>Recall</th>\n",
       "      <th>F1</th>\n",
       "      <th>ROC-AUC</th>\n",
       "    </tr>\n",
       "  </thead>\n",
       "  <tbody>\n",
       "    <tr>\n",
       "      <th>0</th>\n",
       "      <td>LogisticRegression</td>\n",
       "      <td>linear_model</td>\n",
       "      <td>{'C': 1.0, 'class_weight': None, 'dual': False...</td>\n",
       "      <td>Логистическая регрессия, стандартные параметры</td>\n",
       "      <td>0.997</td>\n",
       "      <td>0.997</td>\n",
       "      <td>0.997</td>\n",
       "      <td>0.997</td>\n",
       "      <td>None</td>\n",
       "    </tr>\n",
       "  </tbody>\n",
       "</table>\n",
       "</div>"
      ],
      "text/plain": [
       "               Модели  Класс модели  \\\n",
       "0  LogisticRegression  linear_model   \n",
       "\n",
       "                                    Параметры модели  \\\n",
       "0  {'C': 1.0, 'class_weight': None, 'dual': False...   \n",
       "\n",
       "                                          Заметки  Accuracy  Precision  \\\n",
       "0  Логистическая регрессия, стандартные параметры     0.997      0.997   \n",
       "\n",
       "   Recall     F1 ROC-AUC  \n",
       "0   0.997  0.997    None  "
      ]
     },
     "execution_count": 6,
     "metadata": {},
     "output_type": "execute_result"
    }
   ],
   "source": [
    "history_models.add_model(\n",
    "    LR_standard, \n",
    "    \"linear_model\", \n",
    "    LR_standard.get_params(), \n",
    "    \"Логистическая регрессия, стандартные параметры\", \n",
    "    y_true=y_test, \n",
    "    y_pred=y_pred,\n",
    "    y_pred_proba=y_pred_proba\n",
    ")\n",
    "history_models.to_dataframe()"
   ]
  },
  {
   "cell_type": "markdown",
   "id": "bf3ca8d9",
   "metadata": {},
   "source": [
    "## SVC"
   ]
  },
  {
   "cell_type": "markdown",
   "id": "7c1dd099",
   "metadata": {},
   "source": [
    "SVC(Support Vector Classification) - идея этой модели заключается в преобразование данных в пространство более высокой размерности с помощью ядерного трюка([kernel trick](https://dzen.ru/a/YPNphUmJnDlJkmrt)), где классы становятся линейно разделимы."
   ]
  },
  {
   "cell_type": "markdown",
   "id": "51df8bf7",
   "metadata": {},
   "source": [
    "![Пример разделения данных](../data/images/svm/kernel_trick.png)"
   ]
  },
  {
   "cell_type": "markdown",
   "id": "7df42a8d",
   "metadata": {},
   "source": [
    "У SVC есть несколько типов ядер:\n",
    "* Линейное\n",
    "    * Плюсы: быстрый и интерпретируемый\n",
    "    * Минусы: только линейные границы\n",
    "* Полиномиальное\n",
    "    * Плюсы: способен аппроксимировать сложные нелинейные зависимости\n",
    "    * Минусы: сложно интерприетировать и высокая сложность\n",
    "* Сигмоидальное ядро\n",
    "    * Плюсы: похожа на двухслойную NN\n",
    "    * Минусы: чувствительна к масштабированию данных"
   ]
  },
  {
   "cell_type": "markdown",
   "id": "13b7e8be",
   "metadata": {},
   "source": [
    "Разбор параметров `sklearn.svm.SVC`\n",
    "```python\n",
    "svc_detailed = SVC(\n",
    "    # === Выбор ядра ===\n",
    "    kernel='rbf',           # 'linear', 'poly', 'rbf', 'sigmoid', 'precomputed'\n",
    "    \n",
    "    # === Параметры ядер ===\n",
    "    degree=3,               # Степень для poly ядра\n",
    "    gamma='scale',          # 'scale', 'auto', или числовое значение\n",
    "    coef0=0.0,              # Параметр для poly/sigmoid ядер\n",
    "    \n",
    "    # === Регуляризация ===\n",
    "    C=1.0,                  # Штраф за ошибки (меньше → более гладкая граница)\n",
    "    \n",
    "    # === Производительность ===\n",
    "    cache_size=200,         # Размер кэша (MB)\n",
    "    max_iter=-1,            # -1 = неограничено (опасно для больших данных!)\n",
    "    \n",
    "    # === Решающая функция ===\n",
    "    decision_function_shape='ovr',  # 'ovr' или 'ovo' для многоклассовой классификации\n",
    "    \n",
    "    random_state=42\n",
    ")\n",
    "```"
   ]
  },
  {
   "cell_type": "markdown",
   "id": "499ce595",
   "metadata": {},
   "source": [
    "### LinearSVC"
   ]
  },
  {
   "cell_type": "markdown",
   "id": "5d74c6a6",
   "metadata": {},
   "source": [
    "Почему мы разбирали SVC, а сейчас мы используем LinearSVC?\n",
    "\n",
    "LinearSVC - это тот же SVC, но быстрый и гибкий для линейной классификации, тогда как SVC(kernel='linear') - это общее решение, которое медленнее и менее оптимизировано."
   ]
  },
  {
   "cell_type": "code",
   "execution_count": 7,
   "id": "dd6acf9e",
   "metadata": {},
   "outputs": [
    {
     "name": "stderr",
     "output_type": "stream",
     "text": [
      "c:\\Users\\sinde\\OneDrive\\Рабочий стол\\classic_ml_skills\\.venv\\Lib\\site-packages\\sklearn\\utils\\validation.py:1406: DataConversionWarning: A column-vector y was passed when a 1d array was expected. Please change the shape of y to (n_samples, ), for example using ravel().\n",
      "  y = column_or_1d(y, warn=True)\n"
     ]
    }
   ],
   "source": [
    "from sklearn.svm import LinearSVC\n",
    "from sklearn.calibration import CalibratedClassifierCV\n",
    "\n",
    "# Базовая реализация\n",
    "linear_svc = LinearSVC(\n",
    "    random_state=42,\n",
    "    max_iter=1000  # Увеличиваем итерации для сходимости\n",
    ")\n",
    "\n",
    "linear_svc.fit(X_train, y_train)\n",
    "y_pred = linear_svc.predict(X_test)\n",
    "y_proba = linear_svc.decision_function(X_test)"
   ]
  },
  {
   "cell_type": "code",
   "execution_count": 8,
   "id": "20561b73",
   "metadata": {},
   "outputs": [
    {
     "data": {
      "text/html": [
       "<div>\n",
       "<style scoped>\n",
       "    .dataframe tbody tr th:only-of-type {\n",
       "        vertical-align: middle;\n",
       "    }\n",
       "\n",
       "    .dataframe tbody tr th {\n",
       "        vertical-align: top;\n",
       "    }\n",
       "\n",
       "    .dataframe thead th {\n",
       "        text-align: right;\n",
       "    }\n",
       "</style>\n",
       "<table border=\"1\" class=\"dataframe\">\n",
       "  <thead>\n",
       "    <tr style=\"text-align: right;\">\n",
       "      <th></th>\n",
       "      <th>Модели</th>\n",
       "      <th>Класс модели</th>\n",
       "      <th>Параметры модели</th>\n",
       "      <th>Заметки</th>\n",
       "      <th>Accuracy</th>\n",
       "      <th>Precision</th>\n",
       "      <th>Recall</th>\n",
       "      <th>F1</th>\n",
       "      <th>ROC-AUC</th>\n",
       "    </tr>\n",
       "  </thead>\n",
       "  <tbody>\n",
       "    <tr>\n",
       "      <th>0</th>\n",
       "      <td>LogisticRegression</td>\n",
       "      <td>linear_model</td>\n",
       "      <td>{'C': 1.0, 'class_weight': None, 'dual': False...</td>\n",
       "      <td>Логистическая регрессия, стандартные параметры</td>\n",
       "      <td>0.9970</td>\n",
       "      <td>0.9970</td>\n",
       "      <td>0.9970</td>\n",
       "      <td>0.9970</td>\n",
       "      <td>None</td>\n",
       "    </tr>\n",
       "    <tr>\n",
       "      <th>1</th>\n",
       "      <td>LinearSVC</td>\n",
       "      <td>linear_model</td>\n",
       "      <td>{'C': 1.0, 'class_weight': None, 'dual': 'auto...</td>\n",
       "      <td>линейная SVC</td>\n",
       "      <td>0.9992</td>\n",
       "      <td>0.9992</td>\n",
       "      <td>0.9992</td>\n",
       "      <td>0.9992</td>\n",
       "      <td>None</td>\n",
       "    </tr>\n",
       "  </tbody>\n",
       "</table>\n",
       "</div>"
      ],
      "text/plain": [
       "               Модели  Класс модели  \\\n",
       "0  LogisticRegression  linear_model   \n",
       "1           LinearSVC  linear_model   \n",
       "\n",
       "                                    Параметры модели  \\\n",
       "0  {'C': 1.0, 'class_weight': None, 'dual': False...   \n",
       "1  {'C': 1.0, 'class_weight': None, 'dual': 'auto...   \n",
       "\n",
       "                                          Заметки  Accuracy  Precision  \\\n",
       "0  Логистическая регрессия, стандартные параметры    0.9970     0.9970   \n",
       "1                                    линейная SVC    0.9992     0.9992   \n",
       "\n",
       "   Recall      F1 ROC-AUC  \n",
       "0  0.9970  0.9970    None  \n",
       "1  0.9992  0.9992    None  "
      ]
     },
     "execution_count": 8,
     "metadata": {},
     "output_type": "execute_result"
    }
   ],
   "source": [
    "history_models.add_model(\n",
    "    linear_svc, \n",
    "    \"linear_model\", \n",
    "    linear_svc.get_params(), \n",
    "    \"линейная SVC\", \n",
    "    y_true=y_test, \n",
    "    y_pred=y_pred,\n",
    "    y_pred_proba=y_pred_proba\n",
    ")\n",
    "history_models.to_dataframe()"
   ]
  },
  {
   "cell_type": "markdown",
   "id": "2a8d0261",
   "metadata": {},
   "source": [
    "## SGDClassifier"
   ]
  },
  {
   "cell_type": "markdown",
   "id": "818ecb48",
   "metadata": {},
   "source": [
    "SGDClassifier (Stochastic Gradient Descent) - это линейный классификатор, который использует стохастический градиентный спуск для минимизации функции потерь. Это не отдельная модель, а скорее универсальный оптимизатор, который может эмулировать разные линейные модели."
   ]
  },
  {
   "cell_type": "markdown",
   "id": "0ac093d1",
   "metadata": {},
   "source": [
    "Алгоритм его работы:\n",
    "1) Берёт небольшие порции даннх\n",
    "2) Вычисляет градиент функции потерь на этом батче(небольшой порции данных)\n",
    "3) Обновляет веса модели(используется градиентный спуск)\n",
    "4) Повторяет предыдущие действия пока не достигнет конца данных"
   ]
  },
  {
   "cell_type": "markdown",
   "id": "72bd7b05",
   "metadata": {},
   "source": [
    "У этого классификатора есть несколько режимов:\n",
    "1) Логистическая регрессия\n",
    "2) Линейный SVM\n",
    "3) [Персептрон](https://ru.wikipedia.org/wiki/%D0%9F%D0%B5%D1%80%D1%86%D0%B5%D0%BF%D1%82%D1%80%D0%BE%D0%BD)\n",
    "4) [Регрессии Хуберта](https://scikit-learn.org/stable/modules/generated/sklearn.linear_model.HuberRegressor.html)"
   ]
  },
  {
   "cell_type": "markdown",
   "id": "82ebb6a9",
   "metadata": {},
   "source": [
    "По сравнению с другими моделями в этом классификаторе мы можем контролировать обучение. Тонко настраивать скорость обучения, использовать рахные стратегии обновления весов, а так же у он поддерживате ранюю останову. Она может понадобиться нам, когда мы попадаем в глобальный минимум(если мы в него конечно попадём)"
   ]
  },
  {
   "cell_type": "markdown",
   "id": "33030372",
   "metadata": {},
   "source": [
    "Теперь давайте попробуем обучить модель с использованием классификатор SGDClassifier"
   ]
  },
  {
   "cell_type": "code",
   "execution_count": 9,
   "id": "088c0894",
   "metadata": {},
   "outputs": [
    {
     "name": "stderr",
     "output_type": "stream",
     "text": [
      "c:\\Users\\sinde\\OneDrive\\Рабочий стол\\classic_ml_skills\\.venv\\Lib\\site-packages\\sklearn\\utils\\validation.py:1406: DataConversionWarning: A column-vector y was passed when a 1d array was expected. Please change the shape of y to (n_samples, ), for example using ravel().\n",
      "  y = column_or_1d(y, warn=True)\n",
      "c:\\Users\\sinde\\OneDrive\\Рабочий стол\\classic_ml_skills\\.venv\\Lib\\site-packages\\sklearn\\utils\\validation.py:1406: DataConversionWarning: A column-vector y was passed when a 1d array was expected. Please change the shape of y to (n_samples, ), for example using ravel().\n",
      "  y = column_or_1d(y, warn=True)\n",
      "c:\\Users\\sinde\\OneDrive\\Рабочий стол\\classic_ml_skills\\.venv\\Lib\\site-packages\\sklearn\\utils\\validation.py:1406: DataConversionWarning: A column-vector y was passed when a 1d array was expected. Please change the shape of y to (n_samples, ), for example using ravel().\n",
      "  y = column_or_1d(y, warn=True)\n"
     ]
    }
   ],
   "source": [
    "from sklearn.linear_model import SGDClassifier\n",
    "\n",
    "modes = {\n",
    "    'SGD (Logistic)': SGDClassifier(loss='log_loss', random_state=RANDOM_STATE),\n",
    "    'SGD (SVM)': SGDClassifier(loss='hinge', random_state=RANDOM_STATE),\n",
    "    'SGD (Perceptron)': SGDClassifier(loss='perceptron', random_state=RANDOM_STATE)\n",
    "}\n",
    "\n",
    "for name, model in modes.items():\n",
    "    model.fit(X_train, y_train)\n",
    "    \n",
    "    y_pred = model.predict(X_test)\n",
    "    if hasattr(model, 'predict_proba'):\n",
    "        y_pred_proba = model.predict_proba(X_test)\n",
    "    else:\n",
    "        y_pred_proba = None\n",
    "\n",
    "    history_models.add_model(\n",
    "        model, \n",
    "        \"linear_model\", \n",
    "        model.get_params(), \n",
    "        name, \n",
    "        y_true=y_test, \n",
    "        y_pred=y_pred,\n",
    "        y_pred_proba=y_pred_proba\n",
    "    )"
   ]
  },
  {
   "cell_type": "code",
   "execution_count": 11,
   "id": "e178e00b",
   "metadata": {},
   "outputs": [
    {
     "data": {
      "text/html": [
       "<div>\n",
       "<style scoped>\n",
       "    .dataframe tbody tr th:only-of-type {\n",
       "        vertical-align: middle;\n",
       "    }\n",
       "\n",
       "    .dataframe tbody tr th {\n",
       "        vertical-align: top;\n",
       "    }\n",
       "\n",
       "    .dataframe thead th {\n",
       "        text-align: right;\n",
       "    }\n",
       "</style>\n",
       "<table border=\"1\" class=\"dataframe\">\n",
       "  <thead>\n",
       "    <tr style=\"text-align: right;\">\n",
       "      <th></th>\n",
       "      <th>Модели</th>\n",
       "      <th>Класс модели</th>\n",
       "      <th>Параметры модели</th>\n",
       "      <th>Заметки</th>\n",
       "      <th>Accuracy</th>\n",
       "      <th>Precision</th>\n",
       "      <th>Recall</th>\n",
       "      <th>F1</th>\n",
       "      <th>ROC-AUC</th>\n",
       "    </tr>\n",
       "  </thead>\n",
       "  <tbody>\n",
       "    <tr>\n",
       "      <th>0</th>\n",
       "      <td>LogisticRegression</td>\n",
       "      <td>linear_model</td>\n",
       "      <td>{'C': 1.0, 'class_weight': None, 'dual': False...</td>\n",
       "      <td>Логистическая регрессия, стандартные параметры</td>\n",
       "      <td>0.9970</td>\n",
       "      <td>0.9970</td>\n",
       "      <td>0.9970</td>\n",
       "      <td>0.9970</td>\n",
       "      <td>None</td>\n",
       "    </tr>\n",
       "    <tr>\n",
       "      <th>1</th>\n",
       "      <td>LinearSVC</td>\n",
       "      <td>linear_model</td>\n",
       "      <td>{'C': 1.0, 'class_weight': None, 'dual': 'auto...</td>\n",
       "      <td>линейная SVC</td>\n",
       "      <td>0.9992</td>\n",
       "      <td>0.9992</td>\n",
       "      <td>0.9992</td>\n",
       "      <td>0.9992</td>\n",
       "      <td>None</td>\n",
       "    </tr>\n",
       "    <tr>\n",
       "      <th>2</th>\n",
       "      <td>SGDClassifier</td>\n",
       "      <td>linear_model</td>\n",
       "      <td>{'alpha': 0.0001, 'average': False, 'class_wei...</td>\n",
       "      <td>SGD (Logistic)</td>\n",
       "      <td>0.9978</td>\n",
       "      <td>0.9978</td>\n",
       "      <td>0.9978</td>\n",
       "      <td>0.9978</td>\n",
       "      <td>None</td>\n",
       "    </tr>\n",
       "    <tr>\n",
       "      <th>3</th>\n",
       "      <td>SGDClassifier</td>\n",
       "      <td>linear_model</td>\n",
       "      <td>{'alpha': 0.0001, 'average': False, 'class_wei...</td>\n",
       "      <td>SGD (SVM)</td>\n",
       "      <td>0.9959</td>\n",
       "      <td>0.9959</td>\n",
       "      <td>0.9959</td>\n",
       "      <td>0.9959</td>\n",
       "      <td>None</td>\n",
       "    </tr>\n",
       "    <tr>\n",
       "      <th>4</th>\n",
       "      <td>SGDClassifier</td>\n",
       "      <td>linear_model</td>\n",
       "      <td>{'alpha': 0.0001, 'average': False, 'class_wei...</td>\n",
       "      <td>SGD (Perceptron)</td>\n",
       "      <td>0.9842</td>\n",
       "      <td>0.9846</td>\n",
       "      <td>0.9842</td>\n",
       "      <td>0.9842</td>\n",
       "      <td>None</td>\n",
       "    </tr>\n",
       "  </tbody>\n",
       "</table>\n",
       "</div>"
      ],
      "text/plain": [
       "               Модели  Класс модели  \\\n",
       "0  LogisticRegression  linear_model   \n",
       "1           LinearSVC  linear_model   \n",
       "2       SGDClassifier  linear_model   \n",
       "3       SGDClassifier  linear_model   \n",
       "4       SGDClassifier  linear_model   \n",
       "\n",
       "                                    Параметры модели  \\\n",
       "0  {'C': 1.0, 'class_weight': None, 'dual': False...   \n",
       "1  {'C': 1.0, 'class_weight': None, 'dual': 'auto...   \n",
       "2  {'alpha': 0.0001, 'average': False, 'class_wei...   \n",
       "3  {'alpha': 0.0001, 'average': False, 'class_wei...   \n",
       "4  {'alpha': 0.0001, 'average': False, 'class_wei...   \n",
       "\n",
       "                                          Заметки  Accuracy  Precision  \\\n",
       "0  Логистическая регрессия, стандартные параметры    0.9970     0.9970   \n",
       "1                                    линейная SVC    0.9992     0.9992   \n",
       "2                                  SGD (Logistic)    0.9978     0.9978   \n",
       "3                                       SGD (SVM)    0.9959     0.9959   \n",
       "4                                SGD (Perceptron)    0.9842     0.9846   \n",
       "\n",
       "   Recall      F1 ROC-AUC  \n",
       "0  0.9970  0.9970    None  \n",
       "1  0.9992  0.9992    None  \n",
       "2  0.9978  0.9978    None  \n",
       "3  0.9959  0.9959    None  \n",
       "4  0.9842  0.9842    None  "
      ]
     },
     "execution_count": 11,
     "metadata": {},
     "output_type": "execute_result"
    }
   ],
   "source": [
    "history_models.to_dataframe()"
   ]
  },
  {
   "cell_type": "markdown",
   "id": "ecd91f95",
   "metadata": {},
   "source": [
    "## LinearDiscriminantAnalysis"
   ]
  },
  {
   "cell_type": "markdown",
   "id": "cb7b1c36",
   "metadata": {},
   "source": [
    "LDA - это статистический метод, который:\n",
    "* Использует байесовский подход\n",
    "* Предполагает нормальное распределение данных внутри каждого класса\n",
    "* Максимизирует разделимость между классами"
   ]
  },
  {
   "cell_type": "markdown",
   "id": "4974dff2",
   "metadata": {},
   "source": [
    "Основная идея этой модели заключается в нахождении такие линейные комбинации признаков, которые:\n",
    "* Максимизируют расстояние между средними значениями классов\n",
    "* Минимизируют разброс (вариацию) внутри каждого класса"
   ]
  },
  {
   "cell_type": "markdown",
   "id": "9394ac63",
   "metadata": {},
   "source": [
    "Если хотите углубить свои познания в этом методе, то прочитайте вот [эту](https://habr.com/ru/articles/802511/) статью из хабра."
   ]
  },
  {
   "cell_type": "markdown",
   "id": "b0895e8a",
   "metadata": {},
   "source": [
    "Теперь давайте поработаем с этим методом"
   ]
  },
  {
   "cell_type": "code",
   "execution_count": 14,
   "id": "13d609c5",
   "metadata": {},
   "outputs": [
    {
     "name": "stderr",
     "output_type": "stream",
     "text": [
      "c:\\Users\\sinde\\OneDrive\\Рабочий стол\\classic_ml_skills\\.venv\\Lib\\site-packages\\sklearn\\utils\\validation.py:1406: DataConversionWarning: A column-vector y was passed when a 1d array was expected. Please change the shape of y to (n_samples, ), for example using ravel().\n",
      "  y = column_or_1d(y, warn=True)\n"
     ]
    },
    {
     "name": "stdout",
     "output_type": "stream",
     "text": [
      "Модель LDA (SVD) обучена и записана в историю\n",
      "Модель LDA (LSQR + Auto Shrinkage) обучена и записана в историю\n"
     ]
    },
    {
     "name": "stderr",
     "output_type": "stream",
     "text": [
      "c:\\Users\\sinde\\OneDrive\\Рабочий стол\\classic_ml_skills\\.venv\\Lib\\site-packages\\sklearn\\utils\\validation.py:1406: DataConversionWarning: A column-vector y was passed when a 1d array was expected. Please change the shape of y to (n_samples, ), for example using ravel().\n",
      "  y = column_or_1d(y, warn=True)\n",
      "c:\\Users\\sinde\\OneDrive\\Рабочий стол\\classic_ml_skills\\.venv\\Lib\\site-packages\\sklearn\\utils\\validation.py:1406: DataConversionWarning: A column-vector y was passed when a 1d array was expected. Please change the shape of y to (n_samples, ), for example using ravel().\n",
      "  y = column_or_1d(y, warn=True)\n"
     ]
    },
    {
     "name": "stdout",
     "output_type": "stream",
     "text": [
      "Модель LDA (Eigen + Auto Shrinkage) обучена и записана в историю\n",
      "Модель LDA (LSQR + No Shrinkage) обучена и записана в историю\n",
      "Модель LDA (Eigen + No Shrinkage) обучена и записана в историю\n"
     ]
    },
    {
     "name": "stderr",
     "output_type": "stream",
     "text": [
      "c:\\Users\\sinde\\OneDrive\\Рабочий стол\\classic_ml_skills\\.venv\\Lib\\site-packages\\sklearn\\utils\\validation.py:1406: DataConversionWarning: A column-vector y was passed when a 1d array was expected. Please change the shape of y to (n_samples, ), for example using ravel().\n",
      "  y = column_or_1d(y, warn=True)\n",
      "c:\\Users\\sinde\\OneDrive\\Рабочий стол\\classic_ml_skills\\.venv\\Lib\\site-packages\\sklearn\\utils\\validation.py:1406: DataConversionWarning: A column-vector y was passed when a 1d array was expected. Please change the shape of y to (n_samples, ), for example using ravel().\n",
      "  y = column_or_1d(y, warn=True)\n"
     ]
    }
   ],
   "source": [
    "from sklearn.discriminant_analysis import LinearDiscriminantAnalysis\n",
    "\n",
    "# Разные режимы работы LDA\n",
    "lda_modes = {\n",
    "    'LDA (SVD)': LinearDiscriminantAnalysis(solver='svd'),\n",
    "    'LDA (LSQR + Auto Shrinkage)': LinearDiscriminantAnalysis(solver='lsqr', shrinkage='auto'),\n",
    "    'LDA (Eigen + Auto Shrinkage)': LinearDiscriminantAnalysis(solver='eigen', shrinkage='auto'),\n",
    "    'LDA (LSQR + No Shrinkage)': LinearDiscriminantAnalysis(solver='lsqr', shrinkage=None),\n",
    "    'LDA (Eigen + No Shrinkage)': LinearDiscriminantAnalysis(solver='eigen', shrinkage=None)\n",
    "}\n",
    "\n",
    "for name, model in lda_modes.items():\n",
    "    \n",
    "    # Обучаем модель\n",
    "    model.fit(X_train, y_train)\n",
    "    \n",
    "    # Предсказания\n",
    "    y_pred = model.predict(X_test)\n",
    "    y_decision = model.decision_function(X_test)\n",
    "    \n",
    "    # Получаем вероятности\n",
    "    if hasattr(model, 'predict_proba'):\n",
    "        y_pred_proba = model.predict_proba(X_test)\n",
    "    else:\n",
    "        y_pred_proba = None\n",
    "    \n",
    "    # Добавляем в историю моделей\n",
    "    history_models.add_model(\n",
    "        model, \n",
    "        \"linear_model\", \n",
    "        model.get_params(), \n",
    "        name, \n",
    "        y_true=y_test, \n",
    "        y_pred=y_pred,\n",
    "        y_pred_proba=y_pred_proba\n",
    "    )\n",
    "    print(f'Модель {name} обучена и записана в историю')\n",
    "        "
   ]
  },
  {
   "cell_type": "code",
   "execution_count": 15,
   "id": "31502b11",
   "metadata": {},
   "outputs": [
    {
     "data": {
      "text/html": [
       "<div>\n",
       "<style scoped>\n",
       "    .dataframe tbody tr th:only-of-type {\n",
       "        vertical-align: middle;\n",
       "    }\n",
       "\n",
       "    .dataframe tbody tr th {\n",
       "        vertical-align: top;\n",
       "    }\n",
       "\n",
       "    .dataframe thead th {\n",
       "        text-align: right;\n",
       "    }\n",
       "</style>\n",
       "<table border=\"1\" class=\"dataframe\">\n",
       "  <thead>\n",
       "    <tr style=\"text-align: right;\">\n",
       "      <th></th>\n",
       "      <th>Модели</th>\n",
       "      <th>Класс модели</th>\n",
       "      <th>Параметры модели</th>\n",
       "      <th>Заметки</th>\n",
       "      <th>Accuracy</th>\n",
       "      <th>Precision</th>\n",
       "      <th>Recall</th>\n",
       "      <th>F1</th>\n",
       "      <th>ROC-AUC</th>\n",
       "    </tr>\n",
       "  </thead>\n",
       "  <tbody>\n",
       "    <tr>\n",
       "      <th>0</th>\n",
       "      <td>LogisticRegression</td>\n",
       "      <td>linear_model</td>\n",
       "      <td>{'C': 1.0, 'class_weight': None, 'dual': False...</td>\n",
       "      <td>Логистическая регрессия, стандартные параметры</td>\n",
       "      <td>0.9970</td>\n",
       "      <td>0.9970</td>\n",
       "      <td>0.9970</td>\n",
       "      <td>0.9970</td>\n",
       "      <td>None</td>\n",
       "    </tr>\n",
       "    <tr>\n",
       "      <th>1</th>\n",
       "      <td>LinearSVC</td>\n",
       "      <td>linear_model</td>\n",
       "      <td>{'C': 1.0, 'class_weight': None, 'dual': 'auto...</td>\n",
       "      <td>линейная SVC</td>\n",
       "      <td>0.9992</td>\n",
       "      <td>0.9992</td>\n",
       "      <td>0.9992</td>\n",
       "      <td>0.9992</td>\n",
       "      <td>None</td>\n",
       "    </tr>\n",
       "    <tr>\n",
       "      <th>2</th>\n",
       "      <td>SGDClassifier</td>\n",
       "      <td>linear_model</td>\n",
       "      <td>{'alpha': 0.0001, 'average': False, 'class_wei...</td>\n",
       "      <td>SGD (Logistic)</td>\n",
       "      <td>0.9978</td>\n",
       "      <td>0.9978</td>\n",
       "      <td>0.9978</td>\n",
       "      <td>0.9978</td>\n",
       "      <td>None</td>\n",
       "    </tr>\n",
       "    <tr>\n",
       "      <th>3</th>\n",
       "      <td>SGDClassifier</td>\n",
       "      <td>linear_model</td>\n",
       "      <td>{'alpha': 0.0001, 'average': False, 'class_wei...</td>\n",
       "      <td>SGD (SVM)</td>\n",
       "      <td>0.9959</td>\n",
       "      <td>0.9959</td>\n",
       "      <td>0.9959</td>\n",
       "      <td>0.9959</td>\n",
       "      <td>None</td>\n",
       "    </tr>\n",
       "    <tr>\n",
       "      <th>4</th>\n",
       "      <td>SGDClassifier</td>\n",
       "      <td>linear_model</td>\n",
       "      <td>{'alpha': 0.0001, 'average': False, 'class_wei...</td>\n",
       "      <td>SGD (Perceptron)</td>\n",
       "      <td>0.9842</td>\n",
       "      <td>0.9846</td>\n",
       "      <td>0.9842</td>\n",
       "      <td>0.9842</td>\n",
       "      <td>None</td>\n",
       "    </tr>\n",
       "    <tr>\n",
       "      <th>5</th>\n",
       "      <td>LinearDiscriminantAnalysis</td>\n",
       "      <td>linear_model</td>\n",
       "      <td>{'covariance_estimator': None, 'n_components':...</td>\n",
       "      <td>LDA (SVD)</td>\n",
       "      <td>0.9981</td>\n",
       "      <td>0.9982</td>\n",
       "      <td>0.9981</td>\n",
       "      <td>0.9981</td>\n",
       "      <td>None</td>\n",
       "    </tr>\n",
       "    <tr>\n",
       "      <th>6</th>\n",
       "      <td>LinearDiscriminantAnalysis</td>\n",
       "      <td>linear_model</td>\n",
       "      <td>{'covariance_estimator': None, 'n_components':...</td>\n",
       "      <td>LDA (LSQR + Auto Shrinkage)</td>\n",
       "      <td>0.9979</td>\n",
       "      <td>0.9979</td>\n",
       "      <td>0.9979</td>\n",
       "      <td>0.9979</td>\n",
       "      <td>None</td>\n",
       "    </tr>\n",
       "    <tr>\n",
       "      <th>7</th>\n",
       "      <td>LinearDiscriminantAnalysis</td>\n",
       "      <td>linear_model</td>\n",
       "      <td>{'covariance_estimator': None, 'n_components':...</td>\n",
       "      <td>LDA (Eigen + Auto Shrinkage)</td>\n",
       "      <td>0.9979</td>\n",
       "      <td>0.9979</td>\n",
       "      <td>0.9979</td>\n",
       "      <td>0.9979</td>\n",
       "      <td>None</td>\n",
       "    </tr>\n",
       "    <tr>\n",
       "      <th>8</th>\n",
       "      <td>LinearDiscriminantAnalysis</td>\n",
       "      <td>linear_model</td>\n",
       "      <td>{'covariance_estimator': None, 'n_components':...</td>\n",
       "      <td>LDA (LSQR + No Shrinkage)</td>\n",
       "      <td>0.9981</td>\n",
       "      <td>0.9982</td>\n",
       "      <td>0.9981</td>\n",
       "      <td>0.9981</td>\n",
       "      <td>None</td>\n",
       "    </tr>\n",
       "    <tr>\n",
       "      <th>9</th>\n",
       "      <td>LinearDiscriminantAnalysis</td>\n",
       "      <td>linear_model</td>\n",
       "      <td>{'covariance_estimator': None, 'n_components':...</td>\n",
       "      <td>LDA (Eigen + No Shrinkage)</td>\n",
       "      <td>0.9981</td>\n",
       "      <td>0.9982</td>\n",
       "      <td>0.9981</td>\n",
       "      <td>0.9981</td>\n",
       "      <td>None</td>\n",
       "    </tr>\n",
       "  </tbody>\n",
       "</table>\n",
       "</div>"
      ],
      "text/plain": [
       "                       Модели  Класс модели  \\\n",
       "0          LogisticRegression  linear_model   \n",
       "1                   LinearSVC  linear_model   \n",
       "2               SGDClassifier  linear_model   \n",
       "3               SGDClassifier  linear_model   \n",
       "4               SGDClassifier  linear_model   \n",
       "5  LinearDiscriminantAnalysis  linear_model   \n",
       "6  LinearDiscriminantAnalysis  linear_model   \n",
       "7  LinearDiscriminantAnalysis  linear_model   \n",
       "8  LinearDiscriminantAnalysis  linear_model   \n",
       "9  LinearDiscriminantAnalysis  linear_model   \n",
       "\n",
       "                                    Параметры модели  \\\n",
       "0  {'C': 1.0, 'class_weight': None, 'dual': False...   \n",
       "1  {'C': 1.0, 'class_weight': None, 'dual': 'auto...   \n",
       "2  {'alpha': 0.0001, 'average': False, 'class_wei...   \n",
       "3  {'alpha': 0.0001, 'average': False, 'class_wei...   \n",
       "4  {'alpha': 0.0001, 'average': False, 'class_wei...   \n",
       "5  {'covariance_estimator': None, 'n_components':...   \n",
       "6  {'covariance_estimator': None, 'n_components':...   \n",
       "7  {'covariance_estimator': None, 'n_components':...   \n",
       "8  {'covariance_estimator': None, 'n_components':...   \n",
       "9  {'covariance_estimator': None, 'n_components':...   \n",
       "\n",
       "                                          Заметки  Accuracy  Precision  \\\n",
       "0  Логистическая регрессия, стандартные параметры    0.9970     0.9970   \n",
       "1                                    линейная SVC    0.9992     0.9992   \n",
       "2                                  SGD (Logistic)    0.9978     0.9978   \n",
       "3                                       SGD (SVM)    0.9959     0.9959   \n",
       "4                                SGD (Perceptron)    0.9842     0.9846   \n",
       "5                                       LDA (SVD)    0.9981     0.9982   \n",
       "6                     LDA (LSQR + Auto Shrinkage)    0.9979     0.9979   \n",
       "7                    LDA (Eigen + Auto Shrinkage)    0.9979     0.9979   \n",
       "8                       LDA (LSQR + No Shrinkage)    0.9981     0.9982   \n",
       "9                      LDA (Eigen + No Shrinkage)    0.9981     0.9982   \n",
       "\n",
       "   Recall      F1 ROC-AUC  \n",
       "0  0.9970  0.9970    None  \n",
       "1  0.9992  0.9992    None  \n",
       "2  0.9978  0.9978    None  \n",
       "3  0.9959  0.9959    None  \n",
       "4  0.9842  0.9842    None  \n",
       "5  0.9981  0.9981    None  \n",
       "6  0.9979  0.9979    None  \n",
       "7  0.9979  0.9979    None  \n",
       "8  0.9981  0.9981    None  \n",
       "9  0.9981  0.9981    None  "
      ]
     },
     "execution_count": 15,
     "metadata": {},
     "output_type": "execute_result"
    }
   ],
   "source": [
    "history_models.to_dataframe()"
   ]
  },
  {
   "cell_type": "markdown",
   "id": "116d49a9",
   "metadata": {},
   "source": [
    "## Итоги"
   ]
  },
  {
   "cell_type": "markdown",
   "id": "918e4ff8",
   "metadata": {},
   "source": [
    "Все модели показали исключительно высокие результаты (>98% accuracy), что свидетельствует о хорошей линейной разделимости данных. LinearSVC незначительно, но стабильно превосходит другие подходы."
   ]
  }
 ],
 "metadata": {
  "kernelspec": {
   "display_name": ".venv",
   "language": "python",
   "name": "python3"
  },
  "language_info": {
   "codemirror_mode": {
    "name": "ipython",
    "version": 3
   },
   "file_extension": ".py",
   "mimetype": "text/x-python",
   "name": "python",
   "nbconvert_exporter": "python",
   "pygments_lexer": "ipython3",
   "version": "3.12.10"
  }
 },
 "nbformat": 4,
 "nbformat_minor": 5
}
