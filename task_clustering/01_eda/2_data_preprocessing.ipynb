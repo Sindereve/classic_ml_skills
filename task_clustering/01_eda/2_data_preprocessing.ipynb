{
 "cells": [
  {
   "cell_type": "markdown",
   "id": "5a6e9da8",
   "metadata": {},
   "source": [
    "# Обработка данных"
   ]
  },
  {
   "cell_type": "markdown",
   "id": "2a7b9ad5",
   "metadata": {},
   "source": [
    "**Разделы:**\n",
    "- [Импортируем библиотеки и загрузим данные](#импортируем-библиотеки-и-загрузим-данные)\n",
    "- [Анализ и очистка данных](#анализ-и-очистка-данных)\n",
    "- [Feature Enginnering](#Feature-Enginnering)\n",
    "    - [Первичная-обработка](#первичная-обработка)\n",
    "    - [Кодирование категориальных признаков](#кодирование-категориальных-признаков)\n",
    "    - [Удаление ненужных столбцов](#удаление-ненужных-столбцов)\n",
    "- [Разделение и сохранение данных](#разделение-и-сохранение-данных)"
   ]
  },
  {
   "cell_type": "markdown",
   "id": "6a6b315a",
   "metadata": {},
   "source": [
    "## Импортируем библиотеки и загрузим данные"
   ]
  },
  {
   "cell_type": "code",
   "execution_count": 1,
   "id": "22d88aa9",
   "metadata": {},
   "outputs": [],
   "source": [
    "import pandas as pd\n",
    "import numpy as np\n",
    "import os\n",
    "\n",
    "from sklearn.model_selection import train_test_split"
   ]
  },
  {
   "cell_type": "code",
   "execution_count": 2,
   "id": "df11f763",
   "metadata": {},
   "outputs": [],
   "source": [
    "# Загрузка данных из data/raw/\n",
    "data_path = os.path.join('..', 'data', 'raw', 'marketing_campaign.csv')\n",
    "df = pd.read_csv(data_path,  sep='\\t')"
   ]
  },
  {
   "cell_type": "markdown",
   "id": "0994b5ba",
   "metadata": {},
   "source": [
    "## Анализ и очистка данных"
   ]
  },
  {
   "cell_type": "code",
   "execution_count": 4,
   "id": "e6166ba4",
   "metadata": {},
   "outputs": [
    {
     "name": "stdout",
     "output_type": "stream",
     "text": [
      "Проверка пропусков:\n",
      "ID                      0\n",
      "Year_Birth              0\n",
      "Education               0\n",
      "Marital_Status          0\n",
      "Income                 24\n",
      "Kidhome                 0\n",
      "Teenhome                0\n",
      "Dt_Customer             0\n",
      "Recency                 0\n",
      "MntWines                0\n",
      "MntFruits               0\n",
      "MntMeatProducts         0\n",
      "MntFishProducts         0\n",
      "MntSweetProducts        0\n",
      "MntGoldProds            0\n",
      "NumDealsPurchases       0\n",
      "NumWebPurchases         0\n",
      "NumCatalogPurchases     0\n",
      "NumStorePurchases       0\n",
      "NumWebVisitsMonth       0\n",
      "AcceptedCmp3            0\n",
      "AcceptedCmp4            0\n",
      "AcceptedCmp5            0\n",
      "AcceptedCmp1            0\n",
      "AcceptedCmp2            0\n",
      "Complain                0\n",
      "Z_CostContact           0\n",
      "Z_Revenue               0\n",
      "Response                0\n",
      "dtype: int64\n"
     ]
    }
   ],
   "source": [
    "print(\"Проверка пропусков:\")\n",
    "print(df.isnull().sum())"
   ]
  },
  {
   "cell_type": "markdown",
   "id": "12e20611",
   "metadata": {},
   "source": [
    "Создадим новые признаки более понятные и логичные по сравнению с предыдущими"
   ]
  },
  {
   "cell_type": "code",
   "execution_count": 6,
   "id": "431f1af7",
   "metadata": {},
   "outputs": [],
   "source": [
    "df['Age'] = 2024 - df['Year_Birth']\n",
    "df['Total_Children'] = df['Kidhome'] + df['Teenhome']\n",
    "df['Total_Spent'] = df[['MntWines', 'MntFruits', 'MntMeatProducts', \n",
    "                       'MntFishProducts', 'MntSweetProducts', 'MntGoldProds']].sum(axis=1)\n",
    "df['Total_Purchases'] = df[['NumWebPurchases', 'NumCatalogPurchases', 'NumStorePurchases']].sum(axis=1)\n",
    "df['Customer_For'] = 2024 - pd.to_datetime(df['Dt_Customer'], format='%d-%m-%Y').dt.year"
   ]
  },
  {
   "cell_type": "markdown",
   "id": "9c1af066",
   "metadata": {},
   "source": [
    "Обработаем выбросы в Income которые мы ранее заметили при просмотре статитстики полученных данных"
   ]
  },
  {
   "cell_type": "code",
   "execution_count": 8,
   "id": "463bbf4e",
   "metadata": {},
   "outputs": [],
   "source": [
    "Q1 = df['Income'].quantile(0.25)\n",
    "Q3 = df['Income'].quantile(0.75)\n",
    "IQR = Q3 - Q1\n",
    "df = df[(df['Income'] >= Q1 - 1.5*IQR) & (df['Income'] <= Q3 + 1.5*IQR)]"
   ]
  },
  {
   "cell_type": "markdown",
   "id": "d81dd7b6",
   "metadata": {},
   "source": [
    "## Feature Enginnering"
   ]
  },
  {
   "cell_type": "code",
   "execution_count": 9,
   "id": "743031b3",
   "metadata": {},
   "outputs": [],
   "source": [
    "pass"
   ]
  },
  {
   "cell_type": "markdown",
   "id": "c8994f5f",
   "metadata": {},
   "source": [
    "## Разделение и сохранение данных"
   ]
  },
  {
   "cell_type": "code",
   "execution_count": 10,
   "id": "d261a3aa",
   "metadata": {},
   "outputs": [],
   "source": [
    "os.makedirs('../data/processed', exist_ok=True)\n",
    "\n",
    "df.to_csv('../data/processed/clustering.csv', index=False)"
   ]
  }
 ],
 "metadata": {
  "kernelspec": {
   "display_name": ".venv",
   "language": "python",
   "name": "python3"
  },
  "language_info": {
   "codemirror_mode": {
    "name": "ipython",
    "version": 3
   },
   "file_extension": ".py",
   "mimetype": "text/x-python",
   "name": "python",
   "nbconvert_exporter": "python",
   "pygments_lexer": "ipython3",
   "version": "3.12.10"
  }
 },
 "nbformat": 4,
 "nbformat_minor": 5
}
