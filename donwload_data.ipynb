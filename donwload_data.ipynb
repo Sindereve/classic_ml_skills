{
 "cells": [
  {
   "cell_type": "markdown",
   "id": "f280cd62",
   "metadata": {},
   "source": [
    "# Скачиваем dataSet из kaggle"
   ]
  },
  {
   "cell_type": "code",
   "execution_count": null,
   "id": "600d7db0",
   "metadata": {},
   "outputs": [
    {
     "name": "stdout",
     "output_type": "stream",
     "text": [
      "Collecting kaggle\n",
      "  Downloading kaggle-1.7.4.5-py3-none-any.whl.metadata (16 kB)\n",
      "Collecting bleach (from kaggle)\n",
      "  Downloading bleach-6.2.0-py3-none-any.whl.metadata (30 kB)\n",
      "Requirement already satisfied: certifi>=14.05.14 in c:\\users\\sinde\\desktop\\price_flight_prediction\\.venv\\lib\\site-packages (from kaggle) (2025.4.26)\n",
      "Requirement already satisfied: charset-normalizer in c:\\users\\sinde\\desktop\\price_flight_prediction\\.venv\\lib\\site-packages (from kaggle) (3.4.2)\n",
      "Requirement already satisfied: idna in c:\\users\\sinde\\desktop\\price_flight_prediction\\.venv\\lib\\site-packages (from kaggle) (3.10)\n",
      "Collecting protobuf (from kaggle)\n",
      "  Downloading protobuf-6.30.2-cp310-abi3-win_amd64.whl.metadata (593 bytes)\n",
      "Requirement already satisfied: python-dateutil>=2.5.3 in c:\\users\\sinde\\desktop\\price_flight_prediction\\.venv\\lib\\site-packages (from kaggle) (2.9.0.post0)\n",
      "Collecting python-slugify (from kaggle)\n",
      "  Downloading python_slugify-8.0.4-py2.py3-none-any.whl.metadata (8.5 kB)\n",
      "Requirement already satisfied: requests in c:\\users\\sinde\\desktop\\price_flight_prediction\\.venv\\lib\\site-packages (from kaggle) (2.32.3)\n",
      "Requirement already satisfied: setuptools>=21.0.0 in c:\\users\\sinde\\desktop\\price_flight_prediction\\.venv\\lib\\site-packages (from kaggle) (65.5.0)\n",
      "Requirement already satisfied: six>=1.10 in c:\\users\\sinde\\desktop\\price_flight_prediction\\.venv\\lib\\site-packages (from kaggle) (1.17.0)\n",
      "Collecting text-unidecode (from kaggle)\n",
      "  Downloading text_unidecode-1.3-py2.py3-none-any.whl.metadata (2.4 kB)\n",
      "Requirement already satisfied: tqdm in c:\\users\\sinde\\desktop\\price_flight_prediction\\.venv\\lib\\site-packages (from kaggle) (4.67.1)\n",
      "Requirement already satisfied: urllib3>=1.15.1 in c:\\users\\sinde\\desktop\\price_flight_prediction\\.venv\\lib\\site-packages (from kaggle) (2.4.0)\n",
      "Collecting webencodings (from kaggle)\n",
      "  Downloading webencodings-0.5.1-py2.py3-none-any.whl.metadata (2.1 kB)\n",
      "Requirement already satisfied: colorama in c:\\users\\sinde\\desktop\\price_flight_prediction\\.venv\\lib\\site-packages (from tqdm->kaggle) (0.4.6)\n",
      "Downloading kaggle-1.7.4.5-py3-none-any.whl (181 kB)\n",
      "Downloading bleach-6.2.0-py3-none-any.whl (163 kB)\n",
      "Downloading protobuf-6.30.2-cp310-abi3-win_amd64.whl (431 kB)\n",
      "Downloading python_slugify-8.0.4-py2.py3-none-any.whl (10 kB)\n",
      "Downloading text_unidecode-1.3-py2.py3-none-any.whl (78 kB)\n",
      "Downloading webencodings-0.5.1-py2.py3-none-any.whl (11 kB)\n",
      "Installing collected packages: webencodings, text-unidecode, python-slugify, protobuf, bleach, kaggle\n",
      "\n",
      "   ------------- -------------------------- 2/6 [python-slugify]\n",
      "   -------------------- ------------------- 3/6 [protobuf]\n",
      "   -------------------- ------------------- 3/6 [protobuf]\n",
      "   -------------------- ------------------- 3/6 [protobuf]\n",
      "   -------------------- ------------------- 3/6 [protobuf]\n",
      "   -------------------------- ------------- 4/6 [bleach]\n",
      "   -------------------------- ------------- 4/6 [bleach]\n",
      "   -------------------------- ------------- 4/6 [bleach]\n",
      "   --------------------------------- ------ 5/6 [kaggle]\n",
      "   --------------------------------- ------ 5/6 [kaggle]\n",
      "   --------------------------------- ------ 5/6 [kaggle]\n",
      "   --------------------------------- ------ 5/6 [kaggle]\n",
      "   --------------------------------- ------ 5/6 [kaggle]\n",
      "   ---------------------------------------- 6/6 [kaggle]\n",
      "\n",
      "Successfully installed bleach-6.2.0 kaggle-1.7.4.5 protobuf-6.30.2 python-slugify-8.0.4 text-unidecode-1.3 webencodings-0.5.1\n"
     ]
    }
   ],
   "source": [
    "# устанавливаем нужную либу для скачивания данных из kaggle\n",
    "# КЛЮЧИ ДЛЯ ВЗАИМОДЕЙСТВИЯ С КАГГЛЕ НУЖНО БРАТЬ ИЗ КАГГЛЕ\n",
    "# https://mljourney.com/how-to-download-dataset-from-kaggle/\n",
    "# !pip install kaggle"
   ]
  },
  {
   "cell_type": "code",
   "execution_count": 12,
   "id": "ce385fee",
   "metadata": {},
   "outputs": [
    {
     "name": "stdout",
     "output_type": "stream",
     "text": [
      "Dataset URL: https://www.kaggle.com/datasets/shubhambathwal/flight-price-prediction\n",
      "Данные лежат в  c:\\Users\\sinde\\Desktop\\price_flight_Prediction\\data\n"
     ]
    }
   ],
   "source": [
    "import os\n",
    "from kaggle.api.kaggle_api_extended import KaggleApi\n",
    "\n",
    "api = KaggleApi()\n",
    "api.authenticate()\n",
    "\n",
    "path = os.path.join(os.getcwd(), 'data')\n",
    "\n",
    "# Скачиваем датасет в нужную для нас папку\n",
    "api.dataset_download_files(\"shubhambathwal/flight-price-prediction\", path=path, unzip=True)\n",
    "print(\"Данные лежат в \", path)"
   ]
  }
 ],
 "metadata": {
  "kernelspec": {
   "display_name": ".venv",
   "language": "python",
   "name": "python3"
  },
  "language_info": {
   "codemirror_mode": {
    "name": "ipython",
    "version": 3
   },
   "file_extension": ".py",
   "mimetype": "text/x-python",
   "name": "python",
   "nbconvert_exporter": "python",
   "pygments_lexer": "ipython3",
   "version": "3.10.11"
  }
 },
 "nbformat": 4,
 "nbformat_minor": 5
}
