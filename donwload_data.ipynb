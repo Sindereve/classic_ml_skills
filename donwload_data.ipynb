{
 "cells": [
  {
   "cell_type": "markdown",
   "id": "f280cd62",
   "metadata": {},
   "source": [
    "# Скачиваем dataSet из kaggle"
   ]
  },
  {
   "cell_type": "code",
   "execution_count": null,
   "id": "600d7db0",
   "metadata": {},
   "outputs": [
    {
     "name": "stdout",
     "output_type": "stream",
     "text": [
      "Collecting kaggle\n",
      "  Downloading kaggle-1.7.4.5-py3-none-any.whl (181 kB)\n",
      "Collecting protobuf\n",
      "  Downloading protobuf-6.32.0-cp310-abi3-win_amd64.whl (435 kB)\n",
      "Requirement already satisfied: python-dateutil>=2.5.3 in .\\.venv\\lib\\site-packages (from kaggle) (2.9.0.post0)\n",
      "Collecting charset-normalizer\n",
      "  Downloading charset_normalizer-3.4.3-cp310-cp310-win_amd64.whl (107 kB)\n",
      "Collecting webencodings\n",
      "  Downloading webencodings-0.5.1-py2.py3-none-any.whl (11 kB)\n",
      "Collecting urllib3>=1.15.1\n",
      "  Using cached urllib3-2.5.0-py3-none-any.whl (129 kB)\n",
      "Collecting certifi>=14.05.14\n",
      "  Downloading certifi-2025.8.3-py3-none-any.whl (161 kB)\n",
      "Collecting requests\n",
      "  Downloading requests-2.32.5-py3-none-any.whl (64 kB)\n",
      "Collecting idna\n",
      "  Using cached idna-3.10-py3-none-any.whl (70 kB)\n",
      "Requirement already satisfied: six>=1.10 in .\\.venv\\lib\\site-packages (from kaggle) (1.17.0)\n",
      "Collecting tqdm\n",
      "  Using cached tqdm-4.67.1-py3-none-any.whl (78 kB)\n",
      "Collecting bleach\n",
      "  Downloading bleach-6.2.0-py3-none-any.whl (163 kB)\n",
      "Collecting python-slugify\n",
      "  Downloading python_slugify-8.0.4-py2.py3-none-any.whl (10 kB)\n",
      "Collecting text-unidecode\n",
      "  Downloading text_unidecode-1.3-py2.py3-none-any.whl (78 kB)\n",
      "Requirement already satisfied: setuptools>=21.0.0 in .\\.venv\\lib\\site-packages (from kaggle) (57.4.0)\n",
      "Requirement already satisfied: colorama in .\\.venv\\lib\\site-packages (from tqdm->kaggle) (0.4.6)\n",
      "Installing collected packages: webencodings, urllib3, text-unidecode, idna, charset-normalizer, certifi, tqdm, requests, python-slugify, protobuf, bleach, kaggle\n",
      "Successfully installed bleach-6.2.0 certifi-2025.8.3 charset-normalizer-3.4.3 idna-3.10 kaggle-1.7.4.5 protobuf-6.32.0 python-slugify-8.0.4 requests-2.32.5 text-unidecode-1.3 tqdm-4.67.1 urllib3-2.5.0 webencodings-0.5.1\n"
     ]
    },
    {
     "name": "stderr",
     "output_type": "stream",
     "text": [
      "WARNING: You are using pip version 21.2.3; however, version 25.2 is available.\n",
      "You should consider upgrading via the 'd:\\git\\classic_ml_skills\\.venv\\Scripts\\python.exe -m pip install --upgrade pip' command.\n"
     ]
    }
   ],
   "source": [
    "# устанавливаем нужную либу для скачивания данных из kaggle\n",
    "# КЛЮЧИ ДЛЯ ВЗАИМОДЕЙСТВИЯ С КАГГЛЕ НУЖНО БРАТЬ ИЗ КАГГЛЕ\n",
    "# Инструкция:\n",
    "# https://mljourney.com/how-to-download-dataset-from-kaggle/\n",
    "# !pip install kaggle"
   ]
  },
  {
   "cell_type": "code",
   "execution_count": 1,
   "id": "ce385fee",
   "metadata": {},
   "outputs": [
    {
     "name": "stdout",
     "output_type": "stream",
     "text": [
      "Dataset URL: https://www.kaggle.com/datasets/shubhambathwal/flight-price-prediction\n",
      "Данные лежат для задачи классификации лежат: c:\\Users\\sinde\\OneDrive\\Рабочий стол\\classic_ml_skills\\data\\dataset\\regression\n",
      "Dataset URL: https://www.kaggle.com/datasets/mohankrishnathalla/diabetes-health-indicators-dataset\n",
      "Данные лежат для задачи регресси лежат: c:\\Users\\sinde\\OneDrive\\Рабочий стол\\classic_ml_skills\\data\\dataset\\classification\n"
     ]
    }
   ],
   "source": [
    "import os\n",
    "from kaggle.api.kaggle_api_extended import KaggleApi\n",
    "\n",
    "api = KaggleApi()\n",
    "api.authenticate()\n",
    "\n",
    "path_cl = os.path.join(os.getcwd(), 'data\\\\dataset\\\\classification')\n",
    "path_reg = os.path.join(os.getcwd(), 'data\\\\dataset\\\\regression')\n",
    "\n",
    "# Скачиваем датасет для работы с задачей регрессии\n",
    "api.dataset_download_files(\"shubhambathwal/flight-price-prediction\", path=path_reg, unzip=True)\n",
    "print(\"Данные лежат для задачи классификации лежат:\", path_reg)\n",
    "\n",
    "# Скачиваем датасет для работы с задачей классификации\n",
    "api.dataset_download_files(\"mohankrishnathalla/diabetes-health-indicators-dataset\", path=path_cl, unzip=True)\n",
    "print(\"Данные лежат для задачи регресси лежат:\", path_cl)"
   ]
  }
 ],
 "metadata": {
  "kernelspec": {
   "display_name": ".venv",
   "language": "python",
   "name": "python3"
  },
  "language_info": {
   "codemirror_mode": {
    "name": "ipython",
    "version": 3
   },
   "file_extension": ".py",
   "mimetype": "text/x-python",
   "name": "python",
   "nbconvert_exporter": "python",
   "pygments_lexer": "ipython3",
   "version": "3.10.11"
  }
 },
 "nbformat": 4,
 "nbformat_minor": 5
}
