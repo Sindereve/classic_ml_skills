{
 "cells": [
  {
   "cell_type": "markdown",
   "id": "91b1ed03",
   "metadata": {},
   "source": [
    "## Загрузка данных и предобработка"
   ]
  },
  {
   "cell_type": "markdown",
   "id": "d722fc1f",
   "metadata": {},
   "source": [
    "Ранее мы разобрали как мы загружаем и как предобрабатываем данные в блокноте main_linear.ipynb Поэтому не будем останавливаться на этом моменте.\n",
    "(Ниже в одной ячейке кода собрана вся подготовка данных и подключенные библиотеки)"
   ]
  },
  {
   "cell_type": "code",
   "execution_count": 1,
   "id": "c1722f04",
   "metadata": {},
   "outputs": [],
   "source": [
    "import pandas as pd \n",
    "from matplotlib import pyplot as plt\n",
    "\n",
    "# Заранее установим несколько констант\n",
    "RANDOM_STATE = 42\n",
    "\n",
    "from utils import PreprocessingDataRegInNumber, load_data_reg_task\n",
    "data = load_data_reg_task()\n",
    "prepoc = PreprocessingDataRegInNumber(data)\n",
    "\n",
    "prepoc.fit_transform()\n",
    "prepoc.save()\n",
    "data_df = prepoc.get_data()\n",
    "\n",
    "from sklearn.model_selection import train_test_split\n",
    "\n",
    "X_train, X_test, y_train, y_test = train_test_split(data_df.drop(\"price\", axis=1), data_df[\"price\"],\n",
    "                                                    test_size=0.2, random_state=RANDOM_STATE) \n",
    "\n",
    "from utils import ModelsRegressionHistory\n",
    "history_models = ModelsRegressionHistory()"
   ]
  },
  {
   "cell_type": "markdown",
   "id": "8fbf425f",
   "metadata": {},
   "source": [
    "## Деревья решений"
   ]
  },
  {
   "cell_type": "markdown",
   "id": "ed9d5efb",
   "metadata": {},
   "source": [
    "Деревья решений - это методы для решения задач с использованием машинного обучения построенные на теории деревьев. Дерево в нашем случае это некий алгоритм с проверками, который проверит инетересующие его параметры и их значения. После всех проверок он выдаст нам свой *predict*"
   ]
  },
  {
   "cell_type": "markdown",
   "id": "98a0bde6",
   "metadata": {},
   "source": [
    "Особенности этих методов:\n",
    "* можно визуализировать правила, по которым работает обученная модель;\n",
    "* не требует масштабирования данных;\n",
    "* *склоны* к переобучению;\n",
    "\n",
    "Ниже представлено изображение с примером модели дерева с классификацией."
   ]
  },
  {
   "cell_type": "markdown",
   "id": "a80d56f6",
   "metadata": {},
   "source": [
    "![Пример дерева](./data/images/trees/example.png)"
   ]
  },
  {
   "cell_type": "code",
   "execution_count": 2,
   "id": "1540435a",
   "metadata": {},
   "outputs": [],
   "source": [
    "from sklearn import tree"
   ]
  },
  {
   "cell_type": "markdown",
   "id": "eea1af60",
   "metadata": {},
   "source": [
    "В библиотеке sklearn у нас есть 2 класса относящихся к древовидным методам. Проведём их сравнение на тмблице ниже\n",
    "\n",
    "|Характеристика|DecisionTreeRegressor|ExtraTreeRegressor|\n",
    "|-|-|-|\n",
    "|Выбор разбиений|Жадный поиск оптимального|Случайный|\n",
    "|Скорость обучения|Медленее|Быстрее|\n",
    "|Переобучение|Сильнее|Меньше|\n",
    "|Структура|Одиночное дерево|Ансамбль|"
   ]
  },
  {
   "cell_type": "markdown",
   "id": "f108d17f",
   "metadata": {},
   "source": [
    "### ```DecisionTreeRegressor()```"
   ]
  },
  {
   "cell_type": "code",
   "execution_count": 3,
   "id": "483c7e7c",
   "metadata": {},
   "outputs": [],
   "source": [
    "TREE_decision = tree.DecisionTreeRegressor(random_state=RANDOM_STATE)\n",
    "TREE_decision.fit(X_train, y_train)\n",
    "y_pred = TREE_decision.predict(X_test)"
   ]
  },
  {
   "cell_type": "code",
   "execution_count": 4,
   "id": "5f55c578",
   "metadata": {},
   "outputs": [
    {
     "data": {
      "text/html": [
       "<div>\n",
       "<style scoped>\n",
       "    .dataframe tbody tr th:only-of-type {\n",
       "        vertical-align: middle;\n",
       "    }\n",
       "\n",
       "    .dataframe tbody tr th {\n",
       "        vertical-align: top;\n",
       "    }\n",
       "\n",
       "    .dataframe thead th {\n",
       "        text-align: right;\n",
       "    }\n",
       "</style>\n",
       "<table border=\"1\" class=\"dataframe\">\n",
       "  <thead>\n",
       "    <tr style=\"text-align: right;\">\n",
       "      <th></th>\n",
       "      <th>Модели</th>\n",
       "      <th>Класс модели</th>\n",
       "      <th>Параметры модели</th>\n",
       "      <th>MAE</th>\n",
       "      <th>MSE</th>\n",
       "      <th>RMSE</th>\n",
       "      <th>R^2</th>\n",
       "      <th>MAPE</th>\n",
       "      <th>MSLE</th>\n",
       "      <th>RMSLE</th>\n",
       "      <th>Заметки</th>\n",
       "    </tr>\n",
       "  </thead>\n",
       "  <tbody>\n",
       "    <tr>\n",
       "      <th>0</th>\n",
       "      <td>DecisionTreeRegressor</td>\n",
       "      <td>tree_model</td>\n",
       "      <td>{'ccp_alpha': 0.0, 'criterion': 'squared_error...</td>\n",
       "      <td>901.1768</td>\n",
       "      <td>8.819597e+06</td>\n",
       "      <td>2969.7807</td>\n",
       "      <td>0.9829</td>\n",
       "      <td>0.0602</td>\n",
       "      <td>0.0231</td>\n",
       "      <td>0.152</td>\n",
       "      <td>Дерево принятия решений</td>\n",
       "    </tr>\n",
       "  </tbody>\n",
       "</table>\n",
       "</div>"
      ],
      "text/plain": [
       "                  Модели Класс модели  \\\n",
       "0  DecisionTreeRegressor   tree_model   \n",
       "\n",
       "                                    Параметры модели       MAE           MSE  \\\n",
       "0  {'ccp_alpha': 0.0, 'criterion': 'squared_error...  901.1768  8.819597e+06   \n",
       "\n",
       "        RMSE     R^2    MAPE    MSLE  RMSLE                  Заметки  \n",
       "0  2969.7807  0.9829  0.0602  0.0231  0.152  Дерево принятия решений  "
      ]
     },
     "execution_count": 4,
     "metadata": {},
     "output_type": "execute_result"
    }
   ],
   "source": [
    "history_models.add_model(TREE_decision, \"tree_model\", TREE_decision.get_params(), \"Дерево принятия решений\", y_true=y_test, y_pred=y_pred)\n",
    "history_models.to_dataframe()"
   ]
  },
  {
   "cell_type": "markdown",
   "id": "11eab888",
   "metadata": {},
   "source": [
    "### ````ExtraTreeRegressor()````"
   ]
  },
  {
   "cell_type": "code",
   "execution_count": 5,
   "id": "f2b2bf89",
   "metadata": {},
   "outputs": [],
   "source": [
    "TREE_extra = tree.ExtraTreeRegressor(random_state=RANDOM_STATE)\n",
    "TREE_extra.fit(X_train, y_train)\n",
    "y_pred = TREE_extra.predict(X_test)"
   ]
  },
  {
   "cell_type": "code",
   "execution_count": 6,
   "id": "23bc8333",
   "metadata": {},
   "outputs": [
    {
     "data": {
      "text/html": [
       "<div>\n",
       "<style scoped>\n",
       "    .dataframe tbody tr th:only-of-type {\n",
       "        vertical-align: middle;\n",
       "    }\n",
       "\n",
       "    .dataframe tbody tr th {\n",
       "        vertical-align: top;\n",
       "    }\n",
       "\n",
       "    .dataframe thead th {\n",
       "        text-align: right;\n",
       "    }\n",
       "</style>\n",
       "<table border=\"1\" class=\"dataframe\">\n",
       "  <thead>\n",
       "    <tr style=\"text-align: right;\">\n",
       "      <th></th>\n",
       "      <th>Модели</th>\n",
       "      <th>Класс модели</th>\n",
       "      <th>Параметры модели</th>\n",
       "      <th>MAE</th>\n",
       "      <th>MSE</th>\n",
       "      <th>RMSE</th>\n",
       "      <th>R^2</th>\n",
       "      <th>MAPE</th>\n",
       "      <th>MSLE</th>\n",
       "      <th>RMSLE</th>\n",
       "      <th>Заметки</th>\n",
       "    </tr>\n",
       "  </thead>\n",
       "  <tbody>\n",
       "    <tr>\n",
       "      <th>0</th>\n",
       "      <td>DecisionTreeRegressor</td>\n",
       "      <td>tree_model</td>\n",
       "      <td>{'ccp_alpha': 0.0, 'criterion': 'squared_error...</td>\n",
       "      <td>901.1768</td>\n",
       "      <td>8.819597e+06</td>\n",
       "      <td>2969.7807</td>\n",
       "      <td>0.9829</td>\n",
       "      <td>0.0602</td>\n",
       "      <td>0.0231</td>\n",
       "      <td>0.1520</td>\n",
       "      <td>Дерево принятия решений</td>\n",
       "    </tr>\n",
       "    <tr>\n",
       "      <th>1</th>\n",
       "      <td>ExtraTreeRegressor</td>\n",
       "      <td>tree_model</td>\n",
       "      <td>{'ccp_alpha': 0.0, 'criterion': 'squared_error...</td>\n",
       "      <td>1079.9149</td>\n",
       "      <td>1.075329e+07</td>\n",
       "      <td>3279.2215</td>\n",
       "      <td>0.9791</td>\n",
       "      <td>0.0731</td>\n",
       "      <td>0.0302</td>\n",
       "      <td>0.1737</td>\n",
       "      <td>Рандомные деревья</td>\n",
       "    </tr>\n",
       "  </tbody>\n",
       "</table>\n",
       "</div>"
      ],
      "text/plain": [
       "                  Модели Класс модели  \\\n",
       "0  DecisionTreeRegressor   tree_model   \n",
       "1     ExtraTreeRegressor   tree_model   \n",
       "\n",
       "                                    Параметры модели        MAE           MSE  \\\n",
       "0  {'ccp_alpha': 0.0, 'criterion': 'squared_error...   901.1768  8.819597e+06   \n",
       "1  {'ccp_alpha': 0.0, 'criterion': 'squared_error...  1079.9149  1.075329e+07   \n",
       "\n",
       "        RMSE     R^2    MAPE    MSLE   RMSLE                  Заметки  \n",
       "0  2969.7807  0.9829  0.0602  0.0231  0.1520  Дерево принятия решений  \n",
       "1  3279.2215  0.9791  0.0731  0.0302  0.1737        Рандомные деревья  "
      ]
     },
     "execution_count": 6,
     "metadata": {},
     "output_type": "execute_result"
    }
   ],
   "source": [
    "history_models.add_model(TREE_extra, \"tree_model\", TREE_extra.get_params(), \"Рандомные деревья\", y_true=y_test, y_pred=y_pred)\n",
    "history_models.to_dataframe()"
   ]
  },
  {
   "cell_type": "markdown",
   "id": "3a2e9fb7",
   "metadata": {},
   "source": [
    "Ниже покажем, что мы можем визуализировать наше дерево с помощью метода ```plot_tree()```\n",
    "Для этого создадим модель с не большим количеством листьев, чтоб мы могли посмотреть их."
   ]
  },
  {
   "cell_type": "code",
   "execution_count": 7,
   "id": "a9c61be7",
   "metadata": {},
   "outputs": [
    {
     "data": {
      "image/png": "[encoded data removed]",
      "text/plain": [
       "<Figure size 640x480 with 1 Axes>"
      ]
     },
     "metadata": {},
     "output_type": "display_data"
    }
   ],
   "source": [
    "model = tree.ExtraTreeRegressor(max_depth=2,random_state=RANDOM_STATE)\n",
    "model.fit(X_train, y_train)\n",
    "tree.plot_tree(model, proportion=True, filled=True)\n",
    "plt.show()"
   ]
  },
  {
   "cell_type": "markdown",
   "id": "92d9ac36",
   "metadata": {},
   "source": [
    "## Ансамбли"
   ]
  },
  {
   "cell_type": "markdown",
   "id": "4dd5ad0a",
   "metadata": {},
   "source": [
    "Ансамбли - это мощный инструмент из арсенала ML специалиста и поэтому будет не простительным не уделить ему отдельное внимание."
   ]
  },
  {
   "cell_type": "code",
   "execution_count": 8,
   "id": "ea9b124d",
   "metadata": {},
   "outputs": [],
   "source": [
    "from sklearn import ensemble"
   ]
  },
  {
   "cell_type": "markdown",
   "id": "ee4664c7",
   "metadata": {},
   "source": [
    "Ансамбли разделяются на 3 вида. Далее мы разберём каждый вид."
   ]
  },
  {
   "cell_type": "markdown",
   "id": "a327c4bb",
   "metadata": {},
   "source": [
    "#### Бэггинг(паралельное обучени)"
   ]
  },
  {
   "cell_type": "markdown",
   "id": "bc98cac3",
   "metadata": {},
   "source": [
    "Идея бэггинга заключается в обучении множества моделей на разных подвыборках данных и усреднении их предсказаний. Пример такого алгоритма это *Random Forest* "
   ]
  },
  {
   "cell_type": "markdown",
   "id": "526e5ca2",
   "metadata": {},
   "source": [
    "Давайте сразу рассмотрим реализацию случайного леса на наших данных."
   ]
  },
  {
   "cell_type": "code",
   "execution_count": 9,
   "id": "31defdc4",
   "metadata": {},
   "outputs": [],
   "source": [
    "EN_TREE_RandomForestRegressor = ensemble.RandomForestRegressor(random_state=RANDOM_STATE)\n",
    "EN_TREE_RandomForestRegressor.fit(X_train, y_train)\n",
    "y_pred = EN_TREE_RandomForestRegressor.predict(X_test)\n",
    "\n",
    "history_models.add_model(EN_TREE_RandomForestRegressor, \"ensemble_bagging\", EN_TREE_RandomForestRegressor.get_params(), \"Случайный лес\", y_true=y_test, y_pred=y_pred)"
   ]
  },
  {
   "cell_type": "markdown",
   "id": "6b274110",
   "metadata": {},
   "source": [
    "Так же мы можем использовать линейные модели. Давайте возьмём линейную модель и будем успользовать ```BaggingRegressor()```. Этот класс позволит нам использвать бэггинг с любой базовой моделью(деревья, линейные модели)"
   ]
  },
  {
   "cell_type": "code",
   "execution_count": 10,
   "id": "3fbddfe8",
   "metadata": {},
   "outputs": [],
   "source": [
    "from sklearn import linear_model\n",
    "\n",
    "EN_PLR_standart = ensemble.BaggingRegressor(\n",
    "    estimator=linear_model.LinearRegression(),\n",
    "    n_estimators=10,\n",
    "    bootstrap=True\n",
    ")\n",
    "EN_PLR_standart.fit(X_train, y_train)\n",
    "y_pred = EN_PLR_standart.predict(X_test)\n",
    "\n",
    "history_models.add_model(EN_PLR_standart, \"ensemble_bagging\", EN_PLR_standart.get_params(), \"Бэггинг + линейная регрессия\", y_true=y_test, y_pred=y_pred)"
   ]
  },
  {
   "cell_type": "markdown",
   "id": "80909610",
   "metadata": {},
   "source": [
    "Мы можем брать любую модель для бэггинга, выше представлен пример."
   ]
  },
  {
   "cell_type": "code",
   "execution_count": 11,
   "id": "4512833b",
   "metadata": {},
   "outputs": [
    {
     "data": {
      "text/html": [
       "<div>\n",
       "<style scoped>\n",
       "    .dataframe tbody tr th:only-of-type {\n",
       "        vertical-align: middle;\n",
       "    }\n",
       "\n",
       "    .dataframe tbody tr th {\n",
       "        vertical-align: top;\n",
       "    }\n",
       "\n",
       "    .dataframe thead th {\n",
       "        text-align: right;\n",
       "    }\n",
       "</style>\n",
       "<table border=\"1\" class=\"dataframe\">\n",
       "  <thead>\n",
       "    <tr style=\"text-align: right;\">\n",
       "      <th></th>\n",
       "      <th>Модели</th>\n",
       "      <th>Класс модели</th>\n",
       "      <th>Параметры модели</th>\n",
       "      <th>MAE</th>\n",
       "      <th>MSE</th>\n",
       "      <th>RMSE</th>\n",
       "      <th>R^2</th>\n",
       "      <th>MAPE</th>\n",
       "      <th>MSLE</th>\n",
       "      <th>RMSLE</th>\n",
       "      <th>Заметки</th>\n",
       "    </tr>\n",
       "  </thead>\n",
       "  <tbody>\n",
       "    <tr>\n",
       "      <th>0</th>\n",
       "      <td>DecisionTreeRegressor</td>\n",
       "      <td>tree_model</td>\n",
       "      <td>{'ccp_alpha': 0.0, 'criterion': 'squared_error...</td>\n",
       "      <td>901.1768</td>\n",
       "      <td>8.819597e+06</td>\n",
       "      <td>2969.7807</td>\n",
       "      <td>0.9829</td>\n",
       "      <td>0.0602</td>\n",
       "      <td>0.0231</td>\n",
       "      <td>0.1520</td>\n",
       "      <td>Дерево принятия решений</td>\n",
       "    </tr>\n",
       "    <tr>\n",
       "      <th>1</th>\n",
       "      <td>ExtraTreeRegressor</td>\n",
       "      <td>tree_model</td>\n",
       "      <td>{'ccp_alpha': 0.0, 'criterion': 'squared_error...</td>\n",
       "      <td>1079.9149</td>\n",
       "      <td>1.075329e+07</td>\n",
       "      <td>3279.2215</td>\n",
       "      <td>0.9791</td>\n",
       "      <td>0.0731</td>\n",
       "      <td>0.0302</td>\n",
       "      <td>0.1737</td>\n",
       "      <td>Рандомные деревья</td>\n",
       "    </tr>\n",
       "    <tr>\n",
       "      <th>2</th>\n",
       "      <td>RandomForestRegressor</td>\n",
       "      <td>ensemble_bagging</td>\n",
       "      <td>{'bootstrap': True, 'ccp_alpha': 0.0, 'criteri...</td>\n",
       "      <td>886.5624</td>\n",
       "      <td>5.745909e+06</td>\n",
       "      <td>2397.0625</td>\n",
       "      <td>0.9889</td>\n",
       "      <td>0.0583</td>\n",
       "      <td>0.0152</td>\n",
       "      <td>0.1231</td>\n",
       "      <td>Случайный лес</td>\n",
       "    </tr>\n",
       "    <tr>\n",
       "      <th>3</th>\n",
       "      <td>BaggingRegressor</td>\n",
       "      <td>ensemble_bagging</td>\n",
       "      <td>{'bootstrap': True, 'bootstrap_features': Fals...</td>\n",
       "      <td>4521.8864</td>\n",
       "      <td>4.477694e+07</td>\n",
       "      <td>6691.5574</td>\n",
       "      <td>0.9131</td>\n",
       "      <td>0.4526</td>\n",
       "      <td>NaN</td>\n",
       "      <td>NaN</td>\n",
       "      <td>Бэггинг + линейная регрессия</td>\n",
       "    </tr>\n",
       "  </tbody>\n",
       "</table>\n",
       "</div>"
      ],
      "text/plain": [
       "                  Модели      Класс модели  \\\n",
       "0  DecisionTreeRegressor        tree_model   \n",
       "1     ExtraTreeRegressor        tree_model   \n",
       "2  RandomForestRegressor  ensemble_bagging   \n",
       "3       BaggingRegressor  ensemble_bagging   \n",
       "\n",
       "                                    Параметры модели        MAE           MSE  \\\n",
       "0  {'ccp_alpha': 0.0, 'criterion': 'squared_error...   901.1768  8.819597e+06   \n",
       "1  {'ccp_alpha': 0.0, 'criterion': 'squared_error...  1079.9149  1.075329e+07   \n",
       "2  {'bootstrap': True, 'ccp_alpha': 0.0, 'criteri...   886.5624  5.745909e+06   \n",
       "3  {'bootstrap': True, 'bootstrap_features': Fals...  4521.8864  4.477694e+07   \n",
       "\n",
       "        RMSE     R^2    MAPE    MSLE   RMSLE                       Заметки  \n",
       "0  2969.7807  0.9829  0.0602  0.0231  0.1520       Дерево принятия решений  \n",
       "1  3279.2215  0.9791  0.0731  0.0302  0.1737             Рандомные деревья  \n",
       "2  2397.0625  0.9889  0.0583  0.0152  0.1231                 Случайный лес  \n",
       "3  6691.5574  0.9131  0.4526     NaN     NaN  Бэггинг + линейная регрессия  "
      ]
     },
     "execution_count": 11,
     "metadata": {},
     "output_type": "execute_result"
    }
   ],
   "source": [
    "history_models.to_dataframe()"
   ]
  },
  {
   "cell_type": "markdown",
   "id": "655b630a",
   "metadata": {},
   "source": [
    "#### Стекинг(комбинирование предсказаний)"
   ]
  },
  {
   "cell_type": "markdown",
   "id": "3770cede",
   "metadata": {},
   "source": [
    "Стекинг позволяет нам комбинировать несколько моделей с помощью единой мета-модели.\n",
    "\n",
    "\n",
    "---\n",
    "```\n",
    "модель_1 -> результат_1\n",
    "\n",
    "модель_2 -> результат_2\n",
    "\n",
    "модель_3 -> результат_3\n",
    "```\n",
    "---\n",
    "```\n",
    "результат_1 - - \\\n",
    "\n",
    "результат_2 - - -> мета_модель -> итоговое_предсказание\n",
    "\n",
    "результат_3 - - /\n",
    "```"
   ]
  },
  {
   "cell_type": "markdown",
   "id": "0cb8c248",
   "metadata": {},
   "source": [
    "Мы обучаем модели предсказывать результат и на основе предсказаний обучаем мета-модель предсказывать итоговый результат"
   ]
  },
  {
   "cell_type": "markdown",
   "id": "00fd1ee1",
   "metadata": {},
   "source": [
    "Давайте соберём пример такого ансамбля"
   ]
  },
  {
   "cell_type": "code",
   "execution_count": 12,
   "id": "8cfcf0a9",
   "metadata": {},
   "outputs": [],
   "source": [
    "from sklearn.linear_model import LinearRegression\n",
    "from sklearn.tree import DecisionTreeRegressor\n",
    "from sklearn.ensemble import StackingRegressor, RandomForestRegressor\n",
    "\n",
    "base_estimators = [\n",
    "    ('rf', RandomForestRegressor(n_estimators=10, max_features=0.5, random_state=42)),\n",
    "    ('dt', DecisionTreeRegressor(max_depth=5, random_state=42)),\n",
    "]\n",
    "\n",
    "# мета моделью выберем линейную регрессию \n",
    "meta_model = LinearRegression()\n",
    "\n",
    "# создадим стэкинг\n",
    "stacking_reg = StackingRegressor(\n",
    "    estimators=base_estimators,\n",
    "    final_estimator=meta_model,\n",
    "    cv=3,  # поставим 3 фолда для кросс валидации\n",
    ")\n",
    "\n",
    "stacking_reg.fit(X_train, y_train)\n",
    "y_pred = stacking_reg.predict(X_test)"
   ]
  },
  {
   "cell_type": "code",
   "execution_count": 13,
   "id": "3c682f86",
   "metadata": {},
   "outputs": [],
   "source": [
    "history_models.add_model(stacking_reg, \"ensemble_stacking\", stacking_reg.get_params(), \"стэкинг\", y_true=y_test, y_pred=y_pred)"
   ]
  },
  {
   "cell_type": "code",
   "execution_count": 14,
   "id": "795d4e21",
   "metadata": {},
   "outputs": [
    {
     "data": {
      "text/html": [
       "<div>\n",
       "<style scoped>\n",
       "    .dataframe tbody tr th:only-of-type {\n",
       "        vertical-align: middle;\n",
       "    }\n",
       "\n",
       "    .dataframe tbody tr th {\n",
       "        vertical-align: top;\n",
       "    }\n",
       "\n",
       "    .dataframe thead th {\n",
       "        text-align: right;\n",
       "    }\n",
       "</style>\n",
       "<table border=\"1\" class=\"dataframe\">\n",
       "  <thead>\n",
       "    <tr style=\"text-align: right;\">\n",
       "      <th></th>\n",
       "      <th>Модели</th>\n",
       "      <th>Класс модели</th>\n",
       "      <th>Параметры модели</th>\n",
       "      <th>MAE</th>\n",
       "      <th>MSE</th>\n",
       "      <th>RMSE</th>\n",
       "      <th>R^2</th>\n",
       "      <th>MAPE</th>\n",
       "      <th>MSLE</th>\n",
       "      <th>RMSLE</th>\n",
       "      <th>Заметки</th>\n",
       "    </tr>\n",
       "  </thead>\n",
       "  <tbody>\n",
       "    <tr>\n",
       "      <th>0</th>\n",
       "      <td>DecisionTreeRegressor</td>\n",
       "      <td>tree_model</td>\n",
       "      <td>{'ccp_alpha': 0.0, 'criterion': 'squared_error...</td>\n",
       "      <td>901.1768</td>\n",
       "      <td>8.819597e+06</td>\n",
       "      <td>2969.7807</td>\n",
       "      <td>0.9829</td>\n",
       "      <td>0.0602</td>\n",
       "      <td>0.0231</td>\n",
       "      <td>0.1520</td>\n",
       "      <td>Дерево принятия решений</td>\n",
       "    </tr>\n",
       "    <tr>\n",
       "      <th>1</th>\n",
       "      <td>ExtraTreeRegressor</td>\n",
       "      <td>tree_model</td>\n",
       "      <td>{'ccp_alpha': 0.0, 'criterion': 'squared_error...</td>\n",
       "      <td>1079.9149</td>\n",
       "      <td>1.075329e+07</td>\n",
       "      <td>3279.2215</td>\n",
       "      <td>0.9791</td>\n",
       "      <td>0.0731</td>\n",
       "      <td>0.0302</td>\n",
       "      <td>0.1737</td>\n",
       "      <td>Рандомные деревья</td>\n",
       "    </tr>\n",
       "    <tr>\n",
       "      <th>2</th>\n",
       "      <td>RandomForestRegressor</td>\n",
       "      <td>ensemble_bagging</td>\n",
       "      <td>{'bootstrap': True, 'ccp_alpha': 0.0, 'criteri...</td>\n",
       "      <td>886.5624</td>\n",
       "      <td>5.745909e+06</td>\n",
       "      <td>2397.0625</td>\n",
       "      <td>0.9889</td>\n",
       "      <td>0.0583</td>\n",
       "      <td>0.0152</td>\n",
       "      <td>0.1231</td>\n",
       "      <td>Случайный лес</td>\n",
       "    </tr>\n",
       "    <tr>\n",
       "      <th>3</th>\n",
       "      <td>BaggingRegressor</td>\n",
       "      <td>ensemble_bagging</td>\n",
       "      <td>{'bootstrap': True, 'bootstrap_features': Fals...</td>\n",
       "      <td>4521.8864</td>\n",
       "      <td>4.477694e+07</td>\n",
       "      <td>6691.5574</td>\n",
       "      <td>0.9131</td>\n",
       "      <td>0.4526</td>\n",
       "      <td>NaN</td>\n",
       "      <td>NaN</td>\n",
       "      <td>Бэггинг + линейная регрессия</td>\n",
       "    </tr>\n",
       "    <tr>\n",
       "      <th>4</th>\n",
       "      <td>StackingRegressor</td>\n",
       "      <td>ensemble_stacking</td>\n",
       "      <td>{'cv': 3, 'estimators': [('rf', RandomForestRe...</td>\n",
       "      <td>1022.7285</td>\n",
       "      <td>6.654267e+06</td>\n",
       "      <td>2579.5866</td>\n",
       "      <td>0.9871</td>\n",
       "      <td>0.0673</td>\n",
       "      <td>0.0169</td>\n",
       "      <td>0.1298</td>\n",
       "      <td>стэкинг</td>\n",
       "    </tr>\n",
       "  </tbody>\n",
       "</table>\n",
       "</div>"
      ],
      "text/plain": [
       "                  Модели       Класс модели  \\\n",
       "0  DecisionTreeRegressor         tree_model   \n",
       "1     ExtraTreeRegressor         tree_model   \n",
       "2  RandomForestRegressor   ensemble_bagging   \n",
       "3       BaggingRegressor   ensemble_bagging   \n",
       "4      StackingRegressor  ensemble_stacking   \n",
       "\n",
       "                                    Параметры модели        MAE           MSE  \\\n",
       "0  {'ccp_alpha': 0.0, 'criterion': 'squared_error...   901.1768  8.819597e+06   \n",
       "1  {'ccp_alpha': 0.0, 'criterion': 'squared_error...  1079.9149  1.075329e+07   \n",
       "2  {'bootstrap': True, 'ccp_alpha': 0.0, 'criteri...   886.5624  5.745909e+06   \n",
       "3  {'bootstrap': True, 'bootstrap_features': Fals...  4521.8864  4.477694e+07   \n",
       "4  {'cv': 3, 'estimators': [('rf', RandomForestRe...  1022.7285  6.654267e+06   \n",
       "\n",
       "        RMSE     R^2    MAPE    MSLE   RMSLE                       Заметки  \n",
       "0  2969.7807  0.9829  0.0602  0.0231  0.1520       Дерево принятия решений  \n",
       "1  3279.2215  0.9791  0.0731  0.0302  0.1737             Рандомные деревья  \n",
       "2  2397.0625  0.9889  0.0583  0.0152  0.1231                 Случайный лес  \n",
       "3  6691.5574  0.9131  0.4526     NaN     NaN  Бэггинг + линейная регрессия  \n",
       "4  2579.5866  0.9871  0.0673  0.0169  0.1298                       стэкинг  "
      ]
     },
     "execution_count": 14,
     "metadata": {},
     "output_type": "execute_result"
    }
   ],
   "source": [
    "history_models.to_dataframe()"
   ]
  },
  {
   "cell_type": "markdown",
   "id": "d0ae028d",
   "metadata": {},
   "source": [
    "#### Бустинг(последовательное улучшение)"
   ]
  },
  {
   "cell_type": "markdown",
   "id": "75276bfe",
   "metadata": {},
   "source": [
    "Бустинг - последовательно обучает модели, где каждая следующая модель исправляет ошибки предыдущих, фокусируясь на плохо предсказанных примерах. Итоговое предсказание формируется путем взвешенного объединения всех моделей."
   ]
  },
  {
   "cell_type": "markdown",
   "id": "9c0c9f9e",
   "metadata": {},
   "source": [
    "Схема работы бустинга\n",
    "\n",
    "---\n",
    "\n",
    "```\n",
    "Данные -> Модель_1 -> Ошибки_1 ->\n",
    "\n",
    "Модель_2 -> Ошибки_2 -> \n",
    "\n",
    "... \n",
    "\n",
    "-> Модель_N -> Итоговое_предсказание\n",
    "```\n",
    "---"
   ]
  },
  {
   "cell_type": "markdown",
   "id": "a73e2634",
   "metadata": {},
   "source": [
    "Из преимуществ этого метода по сравнению с бэггингом и одиночными моделями хочется сразу же отметить высокую точность, так же хорошо работает с несбалансированными данными. А вот минусы - это чувствительность к шуму в данных и требует больше времени на обучение\n"
   ]
  },
  {
   "cell_type": "code",
   "execution_count": 15,
   "id": "b41a236c",
   "metadata": {},
   "outputs": [],
   "source": [
    "from sklearn.ensemble import GradientBoostingRegressor\n",
    "\n",
    "gbr = GradientBoostingRegressor(\n",
    "    n_estimators=1000,\n",
    "    learning_rate=0.1,\n",
    "    max_depth=3, \n",
    "    subsample=0.5, \n",
    "    random_state=42\n",
    ")\n",
    "\n",
    "gbr.fit(X_train, y_train)\n",
    "y_pred = gbr.predict(X_test)"
   ]
  },
  {
   "cell_type": "code",
   "execution_count": 16,
   "id": "ee2ffc52",
   "metadata": {},
   "outputs": [
    {
     "data": {
      "text/html": [
       "<div>\n",
       "<style scoped>\n",
       "    .dataframe tbody tr th:only-of-type {\n",
       "        vertical-align: middle;\n",
       "    }\n",
       "\n",
       "    .dataframe tbody tr th {\n",
       "        vertical-align: top;\n",
       "    }\n",
       "\n",
       "    .dataframe thead th {\n",
       "        text-align: right;\n",
       "    }\n",
       "</style>\n",
       "<table border=\"1\" class=\"dataframe\">\n",
       "  <thead>\n",
       "    <tr style=\"text-align: right;\">\n",
       "      <th></th>\n",
       "      <th>Модели</th>\n",
       "      <th>Класс модели</th>\n",
       "      <th>Параметры модели</th>\n",
       "      <th>MAE</th>\n",
       "      <th>MSE</th>\n",
       "      <th>RMSE</th>\n",
       "      <th>R^2</th>\n",
       "      <th>MAPE</th>\n",
       "      <th>MSLE</th>\n",
       "      <th>RMSLE</th>\n",
       "      <th>Заметки</th>\n",
       "    </tr>\n",
       "  </thead>\n",
       "  <tbody>\n",
       "    <tr>\n",
       "      <th>0</th>\n",
       "      <td>DecisionTreeRegressor</td>\n",
       "      <td>tree_model</td>\n",
       "      <td>{'ccp_alpha': 0.0, 'criterion': 'squared_error...</td>\n",
       "      <td>901.1768</td>\n",
       "      <td>8.819597e+06</td>\n",
       "      <td>2969.7807</td>\n",
       "      <td>0.9829</td>\n",
       "      <td>0.0602</td>\n",
       "      <td>0.0231</td>\n",
       "      <td>0.1520</td>\n",
       "      <td>Дерево принятия решений</td>\n",
       "    </tr>\n",
       "    <tr>\n",
       "      <th>1</th>\n",
       "      <td>ExtraTreeRegressor</td>\n",
       "      <td>tree_model</td>\n",
       "      <td>{'ccp_alpha': 0.0, 'criterion': 'squared_error...</td>\n",
       "      <td>1079.9149</td>\n",
       "      <td>1.075329e+07</td>\n",
       "      <td>3279.2215</td>\n",
       "      <td>0.9791</td>\n",
       "      <td>0.0731</td>\n",
       "      <td>0.0302</td>\n",
       "      <td>0.1737</td>\n",
       "      <td>Рандомные деревья</td>\n",
       "    </tr>\n",
       "    <tr>\n",
       "      <th>2</th>\n",
       "      <td>RandomForestRegressor</td>\n",
       "      <td>ensemble_bagging</td>\n",
       "      <td>{'bootstrap': True, 'ccp_alpha': 0.0, 'criteri...</td>\n",
       "      <td>886.5624</td>\n",
       "      <td>5.745909e+06</td>\n",
       "      <td>2397.0625</td>\n",
       "      <td>0.9889</td>\n",
       "      <td>0.0583</td>\n",
       "      <td>0.0152</td>\n",
       "      <td>0.1231</td>\n",
       "      <td>Случайный лес</td>\n",
       "    </tr>\n",
       "    <tr>\n",
       "      <th>3</th>\n",
       "      <td>BaggingRegressor</td>\n",
       "      <td>ensemble_bagging</td>\n",
       "      <td>{'bootstrap': True, 'bootstrap_features': Fals...</td>\n",
       "      <td>4521.8864</td>\n",
       "      <td>4.477694e+07</td>\n",
       "      <td>6691.5574</td>\n",
       "      <td>0.9131</td>\n",
       "      <td>0.4526</td>\n",
       "      <td>NaN</td>\n",
       "      <td>NaN</td>\n",
       "      <td>Бэггинг + линейная регрессия</td>\n",
       "    </tr>\n",
       "    <tr>\n",
       "      <th>4</th>\n",
       "      <td>StackingRegressor</td>\n",
       "      <td>ensemble_stacking</td>\n",
       "      <td>{'cv': 3, 'estimators': [('rf', RandomForestRe...</td>\n",
       "      <td>1022.7285</td>\n",
       "      <td>6.654267e+06</td>\n",
       "      <td>2579.5866</td>\n",
       "      <td>0.9871</td>\n",
       "      <td>0.0673</td>\n",
       "      <td>0.0169</td>\n",
       "      <td>0.1298</td>\n",
       "      <td>стэкинг</td>\n",
       "    </tr>\n",
       "    <tr>\n",
       "      <th>5</th>\n",
       "      <td>GradientBoostingRegressor</td>\n",
       "      <td>ensemble_gradient</td>\n",
       "      <td>{'alpha': 0.9, 'ccp_alpha': 0.0, 'criterion': ...</td>\n",
       "      <td>2113.0652</td>\n",
       "      <td>1.315968e+07</td>\n",
       "      <td>3627.6275</td>\n",
       "      <td>0.9745</td>\n",
       "      <td>0.1701</td>\n",
       "      <td>NaN</td>\n",
       "      <td>NaN</td>\n",
       "      <td>градиентный бустинг</td>\n",
       "    </tr>\n",
       "  </tbody>\n",
       "</table>\n",
       "</div>"
      ],
      "text/plain": [
       "                      Модели       Класс модели  \\\n",
       "0      DecisionTreeRegressor         tree_model   \n",
       "1         ExtraTreeRegressor         tree_model   \n",
       "2      RandomForestRegressor   ensemble_bagging   \n",
       "3           BaggingRegressor   ensemble_bagging   \n",
       "4          StackingRegressor  ensemble_stacking   \n",
       "5  GradientBoostingRegressor  ensemble_gradient   \n",
       "\n",
       "                                    Параметры модели        MAE           MSE  \\\n",
       "0  {'ccp_alpha': 0.0, 'criterion': 'squared_error...   901.1768  8.819597e+06   \n",
       "1  {'ccp_alpha': 0.0, 'criterion': 'squared_error...  1079.9149  1.075329e+07   \n",
       "2  {'bootstrap': True, 'ccp_alpha': 0.0, 'criteri...   886.5624  5.745909e+06   \n",
       "3  {'bootstrap': True, 'bootstrap_features': Fals...  4521.8864  4.477694e+07   \n",
       "4  {'cv': 3, 'estimators': [('rf', RandomForestRe...  1022.7285  6.654267e+06   \n",
       "5  {'alpha': 0.9, 'ccp_alpha': 0.0, 'criterion': ...  2113.0652  1.315968e+07   \n",
       "\n",
       "        RMSE     R^2    MAPE    MSLE   RMSLE                       Заметки  \n",
       "0  2969.7807  0.9829  0.0602  0.0231  0.1520       Дерево принятия решений  \n",
       "1  3279.2215  0.9791  0.0731  0.0302  0.1737             Рандомные деревья  \n",
       "2  2397.0625  0.9889  0.0583  0.0152  0.1231                 Случайный лес  \n",
       "3  6691.5574  0.9131  0.4526     NaN     NaN  Бэггинг + линейная регрессия  \n",
       "4  2579.5866  0.9871  0.0673  0.0169  0.1298                       стэкинг  \n",
       "5  3627.6275  0.9745  0.1701     NaN     NaN           градиентный бустинг  "
      ]
     },
     "execution_count": 16,
     "metadata": {},
     "output_type": "execute_result"
    }
   ],
   "source": [
    "history_models.add_model(gbr, \"ensemble_gradient\", gbr.get_params(), \"градиентный бустинг\", y_true=y_test, y_pred=y_pred)\n",
    "history_models.to_dataframe()"
   ]
  },
  {
   "cell_type": "markdown",
   "id": "54a6f785",
   "metadata": {},
   "source": []
  }
 ],
 "metadata": {
  "kernelspec": {
   "display_name": ".venv",
   "language": "python",
   "name": "python3"
  },
  "language_info": {
   "codemirror_mode": {
    "name": "ipython",
    "version": 3
   },
   "file_extension": ".py",
   "mimetype": "text/x-python",
   "name": "python",
   "nbconvert_exporter": "python",
   "pygments_lexer": "ipython3",
   "version": "3.10.11"
  }
 },
 "nbformat": 4,
 "nbformat_minor": 5
}
